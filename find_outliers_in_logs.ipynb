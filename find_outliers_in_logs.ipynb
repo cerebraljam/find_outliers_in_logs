{
 "cells": [
  {
   "cell_type": "markdown",
   "metadata": {},
   "source": [
    "# How to find and group outliers in a logstream, based on behaviour\n",
    "\n",
    "## Context\n",
    "\n",
    "Your boss asked you to find suspect users among the few thousands of customers using your web site every day.\n",
    "\n",
    "Where do you start?! Easy! AI, Tensorflow, machine learning, and other buzzwords like so will solve the issue! When all logs are categorized, it's quite easy right?! You know what is going on in your logs right?\n",
    "\n",
    "... most probably not, especially if your site is generating few gigabytes of logs per day, there is just too much logs to know everything that is going one.\n",
    "\n",
    "Before even starting to search for suspicious users, step 1 would be starting by identifying what it means to be suspicious.\n",
    "\n",
    "    Suspicious normally means that it stands out from the normal.\n",
    "    \n",
    "Ok, step 2: what is normal?\n",
    "\n",
    "    Normal behaviour consist of expected usage. Anything outside of this can be considered abnormal.\n",
    "\n",
    "... We are not much more advanced because now we need to go over each action, and identify what is normal, and what is not, and assign a score to each.\n",
    "\n",
    "The second issue with this is that normal behaviour will be definition be way more likely than the abnormal one, which will skew the results into making any machine learning model think that 99.9% of the usage is normal, which a margin of error of + or - 5%, flooding your analysis with noise.\n",
    "\n",
    "The classical approach is to use a simple rule based system. By setting few triggers, we can find out account attackers. For small scale or simple systems, this will is likely to be enough, but not for large scale and complex systems.\n",
    "\n",
    "One other hypothesis would be to use Hidden Markov Chains, but for HNN, we need to know what we are searching for.\n",
    "Logs are also noisy: users will not simply go from A to B then C. they might crawl the whole site before reaching C, which complicates the creation of HMM.\n",
    "\n",
    "Another hypothesis would be to filter out known noise, like when we want to do sentiment analysis, English stop words are just too common and does not tell us anything useful... but what if these stop words are useless in small quantities, but an indicator of an issue in large quantities? ... and how much is too much?\n",
    "\n",
    "\n",
    "## Information Theory To The Rescue\n",
    "\n",
    "Information Theory is normally used for signal analysis and compression. By using Surprisal Analysis and Kullback–Leibler divergence, we can group similar behaviour togethers.\n",
    "\n",
    "* [Information Content](https://en.wikipedia.org/wiki/Information_content)\n",
    "* [Surprisal Analysis](https://en.wikipedia.org/wiki/Surprisal_analysis)\n",
    "* [Kullback–Leibler divergence](https://en.wikipedia.org/wiki/Kullback%E2%80%93Leibler_divergence)\n",
    "* [Example of Surprisal](http://www.umsl.edu/~fraundorfp/egsurpri.html)\n",
    "\n",
    "Basically, Surprisal Analysis is a way to measure (in bits) how surprised we will be by looking at something. Surprisal are calculated using Log base 2, which makes it easy to calculate because log are additive when probabilities are multiplied.\n",
    "\n",
    "For example:\n",
    "* There is 1/6 chance to roll a 6 die, gives us 2.58 bits of information (-log2(1/6) ~= 2.4849 bits). If you are playing D&D, you will be happily surprised.\n",
    "* Not rolling a 6 on a die represents 0.263 bits (-log2(5/6) ~= 0.263 bits). So rolling anything but a 6 in that same D&D game will most likely leave you dissapointed. \n",
    "* The chance of rolling 10 x 6 in a row on a die is 1/60466176 (10 * -log2(1/6) ~= 25.85 bits). This is highly unlikely.\n",
    "\n",
    "By assigning a surprisal value to each action taken over all actions taken by all users gives us an idea how much surprisal by seeing any of them happening, and by adding the score of all actions of a user, we can get an idea how \"normal\" was all his/her actions.\n",
    "\n",
    "This is what this notebook intend to demonstrate: Using Surprisal analysis, we will assign a score to actions, and by adding up the score of each action, identify series of actions that are unlikely to occur."
   ]
  },
  {
   "cell_type": "markdown",
   "metadata": {},
   "source": [
    "# But first, we need some logs\n",
    "\n",
    "What is explained in this notebook can be applied to real logs, but for the experimentation, I added a \"blackbox\" library that will help to generate our users and the logs of these users based on a determined probability distribution.\n",
    "\n",
    "## Caviat: I had to cheat to achieve the desired results\n",
    "\n",
    "Because I am generating the logs through a known distribution, I am also able to know the type of user of each user, which makes it easy later on to debug and know how wrong I am.\n",
    "\n",
    "This cheat was also necessary to get a probability distribution of the classification function of this notebook. This probability distribution is likely to be different for live environment, and should be tweeked.\n",
    "\n",
    "| | Positive | Negative |\n",
    "| -- | -- | -- |\n",
    "| True | 0.875 | 0.102 |\n",
    "| False | 0.125 | 0.898 |\n",
    "\n",
    "I am using this probability distribution, along with the Bayes Theorem to update my belief that each tested candidates truely belong in the tested behaviour classification.\n",
    "\n",
    "## Different User Profiles Generated By The Library\n",
    "\n",
    "The following profiles are generated by the library.\n",
    "\n",
    "Normal users\n",
    "* Buyer\n",
    "* Merchants\n",
    "\n",
    "Abnormal users:\n",
    "* Scraper bots\n",
    "* Spammers\n",
    "* fraudster\n",
    "* Account Attackers\n",
    "\n",
    "Buyers and merchants represent 98% of our logs. Leaving 2% to the abnormal users. However, the actions taken by each users being on a probability distribution, it is possible to see an \"attakcer\" user being classified as a user, because that attacked might have had a change of heart and didn't attack after all."
   ]
  },
  {
   "cell_type": "code",
   "execution_count": 1,
   "metadata": {
    "collapsed": false
   },
   "outputs": [],
   "source": [
    "## This cell initialize the libraries needed for this notebook, \n",
    "## along with the blackbox functions used to generate the users and logs\n",
    "\n",
    "import random\n",
    "import numpy as np\n",
    "import pandas as pd\n",
    "from datetime import datetime, date, time, timedelta\n",
    "from math import log, pow\n",
    "\n",
    "%load_ext autoreload\n",
    "%autoreload 2\n",
    "\n",
    "from blackbox import distribution\n",
    "from blackbox import generate_userlist, generate_logs, cheat_calculate_hit_rate, cheat_lookup_all_users\n",
    "\n",
    "magic = distribution()"
   ]
  },
  {
   "cell_type": "markdown",
   "metadata": {},
   "source": [
    "# Generating The User Database\n",
    "\n",
    "The following cell generates our user database.\n",
    "\n",
    "You will notice in this notebook that we are reinitializing the random seed quite often, just to keep consistence during the testing. Set the *random_seed* to False to randomize everything."
   ]
  },
  {
   "cell_type": "code",
   "execution_count": 2,
   "metadata": {
    "collapsed": false
   },
   "outputs": [
    {
     "name": "stdout",
     "output_type": "stream",
     "text": [
      "1000 ['merchant', 'buyer', 'buyer', 'buyer', 'merchant']\n"
     ]
    }
   ],
   "source": [
    "random_seed = 42\n",
    "\n",
    "if random_seed:\n",
    "    random.seed(random_seed)\n",
    "\n",
    "## We define how many users here\n",
    "number_of_new_users = 1000\n",
    "\n",
    "\n",
    "existing_users = [] # Later on, we can add users to our list by supplying it to the generate_userlist function\n",
    "user_lists = generate_userlist(number_of_new_users, existing_users)\n",
    "\n",
    "print(len(user_lists), user_lists[:5])"
   ]
  },
  {
   "cell_type": "markdown",
   "metadata": {},
   "source": [
    "# Generating Logs For Day 1\n",
    "\n",
    "Note: The more users we have, the more log events will be generated. The probability distribution of each user ensures that they will start with a defined action, crawl the site following a defined pattern, and logout eventually, until the end of the day."
   ]
  },
  {
   "cell_type": "code",
   "execution_count": 3,
   "metadata": {
    "collapsed": false
   },
   "outputs": [
    {
     "name": "stdout",
     "output_type": "stream",
     "text": [
      "19576 logs event generated for 1000 users\n",
      "CPU times: user 2.17 s, sys: 34.7 ms, total: 2.21 s\n",
      "Wall time: 2.27 s\n"
     ]
    }
   ],
   "source": [
    "%%time\n",
    "if random_seed:\n",
    "    random.seed(random_seed)\n",
    "\n",
    "start_time = datetime(2019,1,1,0,0)\n",
    "day1_logs = generate_logs(user_lists, start_time)\n",
    "\n",
    "print(len(day1_logs), 'logs event generated for', len(user_lists), 'users')"
   ]
  },
  {
   "cell_type": "markdown",
   "metadata": {},
   "source": [
    "## Transforming the logs in a pandas dataframe\n",
    "\n",
    "The transition surprisal lookup table used in this notebook calculates scores based on the movements of the users between each actions. For example:\n",
    "\n",
    "* login (success) -> view_items (success) will result in a low surpisal value\n",
    "* login (fail) -> buy_item (success) never happened. If this sequence happen, this should be a huge red flag."
   ]
  },
  {
   "cell_type": "code",
   "execution_count": 4,
   "metadata": {
    "collapsed": false
   },
   "outputs": [
    {
     "name": "stdout",
     "output_type": "stream",
     "text": [
      "                     time         user   path status uidx  realtype prev_path  \\\n",
      "39    2019-01-01 00:05:50  merchant898  login   fail  898  merchant             \n",
      "1091  2019-01-01 02:04:15     buyer306  login   fail  306     buyer             \n",
      "1384  2019-01-01 02:30:16     buyer353  login   fail  353     buyer             \n",
      "1388  2019-01-01 02:30:38  attacker725  login   fail  725  attacker             \n",
      "1389  2019-01-01 02:30:39  attacker725  login   fail  725  attacker     login   \n",
      "\n",
      "     prev_status  \n",
      "39                \n",
      "1091              \n",
      "1384              \n",
      "1388              \n",
      "1389        fail  \n"
     ]
    }
   ],
   "source": [
    "def transform_logs_to_pandas(logs):\n",
    "    data = pd.DataFrame(np.array(logs), columns=['time', 'user', 'path', 'status', 'uidx', 'realtype'])\n",
    "    \n",
    "    data['prev_path'] = data.groupby(['user'])['path'].shift(1)\n",
    "    data['prev_path'] = data['prev_path'].fillna(\"\")\n",
    "\n",
    "    data['prev_status'] = data.groupby(['user'])['status'].shift(1)\n",
    "    data['prev_status'] = data['prev_status'].fillna(\"\")\n",
    "    return data\n",
    "    \n",
    "day1_data = transform_logs_to_pandas(day1_logs)\n",
    "\n",
    "print(day1_data.loc[(day1_data['path'] == 'login') & (day1_data['status'] == 'fail')].head())"
   ]
  },
  {
   "cell_type": "markdown",
   "metadata": {},
   "source": [
    "The following cell generates the transition surprisal lookup table used to score each actions taken by the users.\n",
    "\n",
    "The format is as follow:\n",
    "\n",
    "```\n",
    "['current path'],['previous path']: {\n",
    "    'fail': 0, # How many time this action transition failed. (ex. View Items: Success, from: Login: Success)\n",
    "    'success': 13, # How many time this action transition succeded (ex. View Items: Fail, from: Login: Success)\n",
    "    'fsurprisal': 11.266786540694902, # Surprisal value if there is a failure happens\n",
    "    'ssurprisal': 7.56634682255381 # Surprisal value if that action is successful.\n",
    "    }\n",
    "```\n",
    "\n",
    "The surprisal value is directly related to the likelihood of an actions happening. If an actions is observed successfully few million times, then the successful surprisal value will be really low. However, the failure surprisal will be much higher if it never happens."
   ]
  },
  {
   "cell_type": "code",
   "execution_count": 5,
   "metadata": {
    "collapsed": false
   },
   "outputs": [],
   "source": [
    "def init_transition_surprisal_lookup(data, key, prev_key, feature, success):\n",
    "    surprisal = {}\n",
    "\n",
    "    for pkey in data[key].unique():\n",
    "        data_for_pkey = data.loc[(data[key] == pkey)]\n",
    "        denum = len(data.loc[(data[key] == pkey)])\n",
    "\n",
    "        for ppkey in data_for_pkey[prev_key].unique():\n",
    "            ds = data_for_pkey.loc[(data_for_pkey[prev_key] == ppkey) & (data_for_pkey[feature] == success)]\n",
    "            df = data_for_pkey.loc[(data_for_pkey[prev_key] == ppkey) & (data_for_pkey[feature] != success)]\n",
    "\n",
    "            dsuccess = len(ds) * 1.0\n",
    "            dfail = len(df) * 1.0\n",
    "\n",
    "            if dsuccess == 0:\n",
    "                dsuccess = 1.0 \n",
    "\n",
    "            if dfail == 0:\n",
    "                dfail = 1.0\n",
    "\n",
    "            if (pkey not in surprisal.keys()):\n",
    "                surprisal[pkey] = {}\n",
    "\n",
    "            surprisal[pkey][ppkey] = {\n",
    "                'success': len(ds), \n",
    "                'fail': len(df), \n",
    "                'ssurprisal': log(1/(dsuccess / denum),2), \n",
    "                'fsurprisal': log(1/(dfail / denum),2),\n",
    "            }\n",
    "    return surprisal\n",
    "\n",
    "transition_surprisal = init_transition_surprisal_lookup(day1_data, 'path', 'prev_path', 'status', 'success')"
   ]
  },
  {
   "cell_type": "code",
   "execution_count": 6,
   "metadata": {
    "collapsed": false
   },
   "outputs": [
    {
     "data": {
      "text/plain": [
       "{'fail': 0, 'fsurprisal': 10.321928094887362, 'ssurprisal': 7.0, 'success': 10}"
      ]
     },
     "execution_count": 6,
     "metadata": {},
     "output_type": "execute_result"
    }
   ],
   "source": [
    "def get_transition_surprisal(path, prev_path, surprisal, data):\n",
    "    if path not in list(surprisal.keys()):\n",
    "        denum = len(data)\n",
    "        return {\n",
    "            'fail': 0,\n",
    "            'success': 0,\n",
    "            'ssurprisal': log(1/(1/denum),2),\n",
    "            'fsurprisal': log(1/(1/denum),2),\n",
    "        }\n",
    "    else:\n",
    "        if prev_path not in list(surprisal[path].keys()):\n",
    "            denum = len(data.loc[(data['path'] == path)])\n",
    "            return {\n",
    "                'fail': 0,\n",
    "                'success': 0,\n",
    "                'ssurprisal': log(1/(1/denum),2),\n",
    "                'fsurprisal': log(1/(1/denum),2),\n",
    "            }\n",
    "        else:\n",
    "            return surprisal[path][prev_path]\n",
    "\n",
    "get_transition_surprisal('buy_item', 'login', transition_surprisal, day1_data)"
   ]
  },
  {
   "cell_type": "code",
   "execution_count": 7,
   "metadata": {
    "collapsed": false
   },
   "outputs": [
    {
     "name": "stdout",
     "output_type": "stream",
     "text": [
      "{'login': 5.162147650850593, 'view_item': 33.24141988768278, 'sell_item': 0, 'buy_item': 49.60964047443681, 'end': 9.962896005337262, 'logout': 0, 'view_profile': 4.857980995127573, 'update_address': 5.169925001442313, 'password_reset': 0, 'comment': 0, 'home': 0, 'bank_modify': 0, 'payment_modify': 0, 'update_email': 0}\n",
      "{'login': 5.162147650850593, 'view_item': 25.5340607556019, 'sell_item': 0, 'buy_item': 9.321928094887362, 'end': 9.962896005337262, 'logout': 9.271463027904375, 'view_profile': 0, 'update_address': 0, 'password_reset': 0, 'comment': 0, 'home': 0, 'bank_modify': 0, 'payment_modify': 0, 'update_email': 0}\n"
     ]
    }
   ],
   "source": [
    "def get_user_transition_score(data, surprisal, key, feature, success_val):\n",
    "    accumulator = {}\n",
    "    key_last_path = {}\n",
    "    \n",
    "    for index,row in data.iterrows():\n",
    "        if row[key] not in key_last_path.keys():\n",
    "            key_last_path[row[key]] = \"\"\n",
    "            \n",
    "        if row[key] not in accumulator.keys():\n",
    "            accumulator[row[key]] = {k:0 for k in data[feature].unique()}\n",
    "            \n",
    "        if row[feature] is success_val:\n",
    "            accumulator[row[key]][row[feature]] += get_transition_surprisal(row[feature],key_last_path[row[key]], surprisal, data)['ssurprisal']\n",
    "        else:\n",
    "            accumulator[row[key]][row[feature]] += get_transition_surprisal(row[feature],key_last_path[row[key]], surprisal, data)['fsurprisal']\n",
    "\n",
    "        key_last_path[row[key]] = row[feature]\n",
    "                                    \n",
    "    return accumulator\n",
    "\n",
    "\n",
    "user_transition_score = get_user_transition_score(day1_data, transition_surprisal, 'user', 'path', 'success')\n",
    "\n",
    "print(user_transition_score['fraudster96'])\n",
    "print(user_transition_score['buyer402'])"
   ]
  },
  {
   "cell_type": "markdown",
   "metadata": {},
   "source": [
    "If we go through the logs of the day, can we identify outliers?\n",
    "\n",
    "To do so, the idea is to look at each action being taken by each user, and add the relevant value from the surprisal lookup table.\n",
    "\n",
    "That said, I did read a lot about information theory and surprisal analysis, and this most probably not how it is supposed to be used, and the calculation is most probably wrong... but this mistake is quite useful"
   ]
  },
  {
   "cell_type": "code",
   "execution_count": 8,
   "metadata": {
    "collapsed": true
   },
   "outputs": [],
   "source": [
    "cumulative_score = [[v,sum(user_transition_score[v].values())] for v in [k for k in list(user_transition_score.keys())]]\n",
    "\n",
    "df_cumulative_score = pd.DataFrame(cumulative_score, columns=['user', 'surprisal'])\n",
    "\n",
    "avg = df_cumulative_score['surprisal'].mean()\n",
    "std = df_cumulative_score['surprisal'].std()\n",
    "df_cumulative_score['z'] = (df_cumulative_score['surprisal'] - avg) / std\n"
   ]
  },
  {
   "cell_type": "code",
   "execution_count": 9,
   "metadata": {
    "collapsed": false
   },
   "outputs": [
    {
     "data": {
      "text/html": [
       "<div>\n",
       "<table border=\"1\" class=\"dataframe\">\n",
       "  <thead>\n",
       "    <tr style=\"text-align: right;\">\n",
       "      <th></th>\n",
       "      <th>user</th>\n",
       "      <th>surprisal</th>\n",
       "      <th>z</th>\n",
       "    </tr>\n",
       "  </thead>\n",
       "  <tbody>\n",
       "    <tr>\n",
       "      <th>721</th>\n",
       "      <td>bot672</td>\n",
       "      <td>32110.895325</td>\n",
       "      <td>30.442508</td>\n",
       "    </tr>\n",
       "    <tr>\n",
       "      <th>684</th>\n",
       "      <td>bot900</td>\n",
       "      <td>8122.097174</td>\n",
       "      <td>7.589254</td>\n",
       "    </tr>\n",
       "    <tr>\n",
       "      <th>275</th>\n",
       "      <td>bot776</td>\n",
       "      <td>2922.642534</td>\n",
       "      <td>2.635923</td>\n",
       "    </tr>\n",
       "  </tbody>\n",
       "</table>\n",
       "</div>"
      ],
      "text/plain": [
       "       user     surprisal          z\n",
       "721  bot672  32110.895325  30.442508\n",
       "684  bot900   8122.097174   7.589254\n",
       "275  bot776   2922.642534   2.635923"
      ]
     },
     "execution_count": 9,
     "metadata": {},
     "output_type": "execute_result"
    }
   ],
   "source": [
    "df_cumulative_score.loc[df_cumulative_score['z'] >= 2].sort_values(by=['surprisal'], ascending=False)"
   ]
  },
  {
   "cell_type": "code",
   "execution_count": 10,
   "metadata": {
    "collapsed": false
   },
   "outputs": [
    {
     "data": {
      "text/html": [
       "<div>\n",
       "<table border=\"1\" class=\"dataframe\">\n",
       "  <thead>\n",
       "    <tr style=\"text-align: right;\">\n",
       "      <th></th>\n",
       "      <th>user</th>\n",
       "      <th>surprisal</th>\n",
       "      <th>z</th>\n",
       "    </tr>\n",
       "  </thead>\n",
       "  <tbody>\n",
       "    <tr>\n",
       "      <th>800</th>\n",
       "      <td>merchant722</td>\n",
       "      <td>37.714803</td>\n",
       "      <td>-0.112442</td>\n",
       "    </tr>\n",
       "    <tr>\n",
       "      <th>761</th>\n",
       "      <td>merchant102</td>\n",
       "      <td>37.714803</td>\n",
       "      <td>-0.112442</td>\n",
       "    </tr>\n",
       "    <tr>\n",
       "      <th>756</th>\n",
       "      <td>merchant121</td>\n",
       "      <td>37.714803</td>\n",
       "      <td>-0.112442</td>\n",
       "    </tr>\n",
       "    <tr>\n",
       "      <th>749</th>\n",
       "      <td>merchant780</td>\n",
       "      <td>37.714803</td>\n",
       "      <td>-0.112442</td>\n",
       "    </tr>\n",
       "    <tr>\n",
       "      <th>157</th>\n",
       "      <td>merchant973</td>\n",
       "      <td>35.658602</td>\n",
       "      <td>-0.114401</td>\n",
       "    </tr>\n",
       "    <tr>\n",
       "      <th>102</th>\n",
       "      <td>merchant221</td>\n",
       "      <td>35.658602</td>\n",
       "      <td>-0.114401</td>\n",
       "    </tr>\n",
       "    <tr>\n",
       "      <th>924</th>\n",
       "      <td>merchant376</td>\n",
       "      <td>35.658602</td>\n",
       "      <td>-0.114401</td>\n",
       "    </tr>\n",
       "    <tr>\n",
       "      <th>52</th>\n",
       "      <td>buyer416</td>\n",
       "      <td>34.718435</td>\n",
       "      <td>-0.115297</td>\n",
       "    </tr>\n",
       "    <tr>\n",
       "      <th>310</th>\n",
       "      <td>buyer608</td>\n",
       "      <td>34.718435</td>\n",
       "      <td>-0.115297</td>\n",
       "    </tr>\n",
       "    <tr>\n",
       "      <th>303</th>\n",
       "      <td>buyer663</td>\n",
       "      <td>34.718435</td>\n",
       "      <td>-0.115297</td>\n",
       "    </tr>\n",
       "    <tr>\n",
       "      <th>996</th>\n",
       "      <td>buyer324</td>\n",
       "      <td>34.718435</td>\n",
       "      <td>-0.115297</td>\n",
       "    </tr>\n",
       "    <tr>\n",
       "      <th>998</th>\n",
       "      <td>buyer528</td>\n",
       "      <td>24.753975</td>\n",
       "      <td>-0.124789</td>\n",
       "    </tr>\n",
       "    <tr>\n",
       "      <th>807</th>\n",
       "      <td>fraudster255</td>\n",
       "      <td>24.396507</td>\n",
       "      <td>-0.125130</td>\n",
       "    </tr>\n",
       "    <tr>\n",
       "      <th>97</th>\n",
       "      <td>attacker725</td>\n",
       "      <td>18.993460</td>\n",
       "      <td>-0.130277</td>\n",
       "    </tr>\n",
       "    <tr>\n",
       "      <th>999</th>\n",
       "      <td>merchant238</td>\n",
       "      <td>5.162148</td>\n",
       "      <td>-0.143454</td>\n",
       "    </tr>\n",
       "  </tbody>\n",
       "</table>\n",
       "</div>"
      ],
      "text/plain": [
       "             user  surprisal         z\n",
       "800   merchant722  37.714803 -0.112442\n",
       "761   merchant102  37.714803 -0.112442\n",
       "756   merchant121  37.714803 -0.112442\n",
       "749   merchant780  37.714803 -0.112442\n",
       "157   merchant973  35.658602 -0.114401\n",
       "102   merchant221  35.658602 -0.114401\n",
       "924   merchant376  35.658602 -0.114401\n",
       "52       buyer416  34.718435 -0.115297\n",
       "310      buyer608  34.718435 -0.115297\n",
       "303      buyer663  34.718435 -0.115297\n",
       "996      buyer324  34.718435 -0.115297\n",
       "998      buyer528  24.753975 -0.124789\n",
       "807  fraudster255  24.396507 -0.125130\n",
       "97    attacker725  18.993460 -0.130277\n",
       "999   merchant238   5.162148 -0.143454"
      ]
     },
     "execution_count": 10,
     "metadata": {},
     "output_type": "execute_result"
    }
   ],
   "source": [
    "df_cumulative_score.sort_values(by=['surprisal'], ascending=False).tail(15)"
   ]
  },
  {
   "cell_type": "code",
   "execution_count": 11,
   "metadata": {
    "collapsed": false
   },
   "outputs": [
    {
     "name": "stdout",
     "output_type": "stream",
     "text": [
      "best 2 {True: {True: 1.0, False: 0.1320754716981132}, False: {True: 0.0, False: 0.8679245283018868}} 1.0 0.0 2\n",
      "best 3 {True: {True: 1.0, False: 0.13129496402877697}, False: {True: 0.0, False: 0.8687050359712231}} 1.0 0.0 3\n",
      "best 4 {True: {True: 1.0, False: 0.13440860215053763}, False: {True: 0.0, False: 0.8655913978494624}} 1.0 0.0 4\n",
      "limit 4\n",
      "count True {True: 126, False: 0}\n",
      "count False {True: 133, False: 966}\n",
      "percent True {True: 1.0, False: 0.12101910828025478}\n",
      "percent False {True: 0.0, False: 0.8789808917197452}\n"
     ]
    }
   ],
   "source": [
    "np.seterr(divide='ignore', invalid='ignore', over='ignore')\n",
    "\n",
    "if random_seed:\n",
    "    np.random.seed(random_seed)\n",
    "\n",
    "maxlimit = 1\n",
    "maxtp = 0\n",
    "minfp = 1\n",
    "best_flat_lookup = {}\n",
    "\n",
    "for l in range(2, 10):\n",
    "    flat_status, flat_lookup = cheat_calculate_hit_rate(day1_data, user_transition_score, l)\n",
    "    if maxtp <= flat_lookup[True][True] or minfp >= flat_lookup[False][True]:\n",
    "        maxtp = flat_lookup[True][True]\n",
    "        minfp = flat_lookup[False][True]\n",
    "        maxlimit = l\n",
    "        print('best', l, flat_lookup, maxtp, minfp, maxlimit)\n",
    "    \n",
    "\n",
    "flat_status, flat_lookup = cheat_calculate_hit_rate(day1_data, user_transition_score, maxlimit)\n",
    "\n",
    "print('limit', maxlimit)\n",
    "print('count', True, flat_status[True])\n",
    "print('count', False, flat_status[False])\n",
    "\n",
    "print('percent', True, flat_lookup[True])\n",
    "print('percent', False, flat_lookup[False])\n"
   ]
  },
  {
   "cell_type": "markdown",
   "metadata": {},
   "source": [
    "Can we cluster users together?\n",
    "\n",
    "\n",
    "We will use two lists: \n",
    "- unclassified_users, which is a copy of the original user_score list, but not classified yet\n",
    "- behaviour_types: this is a list of hashes, the key being the user type (normally type + n), and the value of that hash is an array with all the profiles of the users classified under that type\n",
    "\n",
    "With these 2 lists, here is the idea:\n",
    "- From the unclassified_users list, we will pick one at random\n",
    "- Then we will pick 100 users at random, and try to find 10 that matches the behaviour. It's ok if we don't find any\n",
    "- I make the hypothesis that we have 10 kind of users, so my prior probability is 0.1\n",
    "- Then we check in all the keys under behaviour_types and compare our found random candidates with max 10 random candidates from that behaviour type. For the experimental data, We know that the True Positive probability is 51.5%, and the True Negative rate is 11.2%. By doing enough tests, we should be able to update our belief that we are comparing matching or different profiles"
   ]
  },
  {
   "cell_type": "code",
   "execution_count": 12,
   "metadata": {
    "collapsed": false
   },
   "outputs": [],
   "source": [
    "def update_probability(prior_probability, distribution, test_result):\n",
    "    \n",
    "    # What is our success rate for this test_result?\n",
    "    likelihood_of_being_right = distribution[test_result][True]\n",
    "    likelihood_of_being_wrong = distribution[test_result][False]\n",
    "          \n",
    "    numerator = likelihood_of_being_right * prior_probability\n",
    "    denominator = (likelihood_of_being_right * prior_probability) + (likelihood_of_being_wrong * (1 - prior_probability))\n",
    "    \n",
    "    posterior_probability = numerator / denominator\n",
    "    \n",
    "    return posterior_probability"
   ]
  },
  {
   "cell_type": "code",
   "execution_count": 13,
   "metadata": {
    "collapsed": false
   },
   "outputs": [
    {
     "name": "stdout",
     "output_type": "stream",
     "text": [
      "{'login': 5.162147650850593, 'view_item': 33.24141988768278, 'sell_item': 0, 'buy_item': 49.60964047443681, 'end': 9.962896005337262, 'logout': 0, 'view_profile': 4.857980995127573, 'update_address': 5.169925001442313, 'password_reset': 0, 'comment': 0, 'home': 0, 'bank_modify': 0, 'payment_modify': 0, 'update_email': 0}\n",
      "{'login': 5.162147650850593, 'view_item': 25.5340607556019, 'sell_item': 0, 'buy_item': 9.321928094887362, 'end': 9.962896005337262, 'logout': 9.271463027904375, 'view_profile': 0, 'update_address': 0, 'password_reset': 0, 'comment': 0, 'home': 0, 'bank_modify': 0, 'payment_modify': 0, 'update_email': 0}\n"
     ]
    },
    {
     "data": {
      "text/plain": [
       "{'dklp': 10.075853338434619, 'dklq': 8.9603374132886042, 'test': False}"
      ]
     },
     "execution_count": 13,
     "metadata": {},
     "output_type": "execute_result"
    }
   ],
   "source": [
    "np.seterr(divide='ignore', invalid='ignore', over='ignore')\n",
    "\n",
    "def compare_profiles(profile1, profile2, limit = 7):\n",
    "    u1 = np.array(list(profile1.values()))\n",
    "    u2 = np.array(list(profile2.values()))\n",
    "    \n",
    "    # Ref: https://en.wikipedia.org/wiki/Kullback%E2%80%93Leibler_divergence#Definition\n",
    "    px = [1/np.power(2,x) for x in u1]    \n",
    "    qx = [1/np.power(2,x) for x in u2]\n",
    "    \n",
    "    p = np.array(qx)/np.array(px)\n",
    "    q = np.array(px)/np.array(qx)\n",
    "    dklp = (qx * np.log2(p)).sum()\n",
    "    dklq = (px * np.log2(q)).sum()\n",
    "    \n",
    "    t = dklp < limit and dklp >= -limit and dklq < limit and dklq >= -limit\n",
    "    \n",
    "    return {'test': t, 'dklp': dklp, 'dklq': dklq}\n",
    "\n",
    "print(user_transition_score['fraudster96'])\n",
    "print(user_transition_score['buyer402'])\n",
    "compare_profiles(user_transition_score['fraudster96'], user_transition_score['buyer402'], maxlimit)"
   ]
  },
  {
   "cell_type": "code",
   "execution_count": 14,
   "metadata": {
    "collapsed": false
   },
   "outputs": [],
   "source": [
    "def remove_from_classification(candidate_name, behaviour_type_table):\n",
    "    cleaneds = []\n",
    "    empties = []\n",
    "    for be, be_list in behaviour_type_table.items():\n",
    "        if candidate_name in behaviour_type_table[be]:\n",
    "            behaviour_type_table[be].remove(candidate_name)\n",
    "            cleaneds.append(be)\n",
    "        if len(behaviour_type_table[be]) == 0:\n",
    "            empties.append(be)\n",
    "    for e in empties:\n",
    "        del behaviour_type_table[e]\n",
    "            \n",
    "    return cleaneds           \n",
    "            \n",
    "\n",
    "def classify_candidates(candidate_name, behaviour_type_table, score, limit = 7):\n",
    "    potential_matching_type = {}\n",
    "    passing_score = 0.85\n",
    "    sample_size = 20\n",
    "    small_size_adjustment = 2\n",
    "    \n",
    "    for be, be_list in behaviour_type_table.items():\n",
    "        be_samples = random.sample(be_list, min(len(be_list), sample_size))\n",
    "\n",
    "        post = 0.1 # this is the prior\n",
    "        for idx in range(len(be_samples)):\n",
    "            y = be_samples[idx]\n",
    "            result = compare_profiles(score[candidate_name], score[y], limit)\n",
    "            post = update_probability(post, flat_lookup, result['test'])\n",
    "            \n",
    "        if post >= passing_score * (min(small_size_adjustment,max(1,len(be_samples)))/small_size_adjustment):\n",
    "            potential_matching_type[be] = post\n",
    "\n",
    "\n",
    "    if len(potential_matching_type) == 0:\n",
    "        \n",
    "        new_class_name = max(0,len(list(behaviour_type_table.values()))) + 1\n",
    "        return new_class_name\n",
    "    else:\n",
    "        return max(potential_matching_type, key=potential_matching_type.get)\n",
    "\n",
    "def add_candidate_to_behaviour_type(candidate_name, matching_class, behaviour_type_table):  \n",
    "    if matching_class not in behaviour_type_table.keys():\n",
    "        behaviour_type_table[matching_class] = []\n",
    "\n",
    "    if candidate_name not in behaviour_type_table[matching_class]:\n",
    "        behaviour_type_table[matching_class].append(candidate_name)\n",
    "        \n",
    "    return candidate_name\n",
    "    \n",
    "def classify_users_in_list(unclassified_user_lists, behaviour_type_table, score, limit = 7):\n",
    "    # select one user\n",
    "    candidate_name = random.choice(unclassified_user_lists)\n",
    "    if candidate_name:\n",
    "        # classify user\n",
    "        cleanup = remove_from_classification(candidate_name, behaviour_type_table)\n",
    "        matching_class = classify_candidates(candidate_name, behaviour_type_table, score, limit)\n",
    "\n",
    "        # add the user to the proper type\n",
    "        add_candidate_to_behaviour_type(candidate_name, matching_class, behaviour_type_table)\n",
    "        unclassified_user_lists.remove(candidate_name)\n",
    "    \n"
   ]
  },
  {
   "cell_type": "code",
   "execution_count": 15,
   "metadata": {
    "collapsed": false
   },
   "outputs": [],
   "source": [
    "if random_seed:\n",
    "    random.seed(random_seed)\n",
    "\n",
    "behaviour_type_table = {}\n",
    "unclassified_user_lists = random.sample(list(user_transition_score.keys()), len(list(user_transition_score.keys())))"
   ]
  },
  {
   "cell_type": "code",
   "execution_count": 16,
   "metadata": {
    "collapsed": false,
    "scrolled": false
   },
   "outputs": [
    {
     "name": "stdout",
     "output_type": "stream",
     "text": [
      "1 116.343963314 238 {'merchant': 238}\n",
      "2 115.821867728 257 {'merchant': 257}\n",
      "3 87.4161188643 262 {'buyer': 262}\n",
      "4 86.5471276096 84 {'buyer': 84}\n",
      "5 180.252641893 93 {'buyer': 93}\n",
      "6 46.9206963748 4 {'merchant': 4}\n",
      "7 127.567312454 29 {'buyer': 29}\n",
      "8 657.235798655 2 {'merchant': 2}\n",
      "9 66.7039296268 3 {'attacker': 3}\n",
      "10 38.1590774773 6 {'buyer': 6}\n",
      "11 8122.09717374 1 {'bot': 1}\n",
      "12 24.3965066841 1 {'fraudster': 1}\n",
      "13 72.1255983178 1 {'fraudster': 1}\n",
      "14 176.545786547 1 {'buyer': 1}\n",
      "15 113.693193219 1 {'fraudster': 1}\n",
      "16 270.328618975 3 {'spammer': 3}\n",
      "17 171.016960115 2 {'merchant': 2}\n",
      "18 5.16214765085 1 {'merchant': 1}\n",
      "19 109.820118075 2 {'attacker': 2}\n",
      "20 144.467124465 1 {'merchant': 1}\n",
      "21 32110.8953251 1 {'bot': 1}\n",
      "22 2922.64253355 1 {'bot': 1}\n",
      "23 89.6669601319 1 {'buyer': 1}\n",
      "24 108.004010015 1 {'fraudster': 1}\n",
      "25 24.7539745319 1 {'buyer': 1}\n",
      "26 240.675677501 1 {'merchant': 1}\n",
      "27 48.9113281923 1 {'merchant': 1}\n",
      "28 144.017241892 1 {'merchant': 1}\n",
      "CPU times: user 13.3 s, sys: 73.9 ms, total: 13.4 s\n",
      "Wall time: 13.5 s\n"
     ]
    }
   ],
   "source": [
    "%%time\n",
    "# while there are unclassified users\n",
    "while len(unclassified_user_lists[:10]):\n",
    "    classify_users_in_list(unclassified_user_lists, behaviour_type_table, user_transition_score, maxlimit)\n",
    "\n",
    "for k in behaviour_type_table.keys():\n",
    "    type_average = np.mean([sum(user_transition_score[x].values()) for x in behaviour_type_table[k]])\n",
    "    print(k, type_average, len(behaviour_type_table[k]), cheat_lookup_all_users(behaviour_type_table[k]))"
   ]
  },
  {
   "cell_type": "code",
   "execution_count": null,
   "metadata": {
    "collapsed": false,
    "scrolled": true
   },
   "outputs": [],
   "source": [
    "day1_data.loc[day1_data['user'].isin(behaviour_type_table[19])]['user'].unique()"
   ]
  },
  {
   "cell_type": "code",
   "execution_count": null,
   "metadata": {
    "collapsed": false
   },
   "outputs": [],
   "source": [
    "a = 'attacker520'\n",
    "b = 'attacker803'\n",
    "\n",
    "print(user_transition_score[a])\n",
    "print(user_transition_score[b])\n",
    "print('compare test', compare_profiles(user_transition_score[a], user_transition_score[b],6))"
   ]
  },
  {
   "cell_type": "markdown",
   "metadata": {},
   "source": [
    "# Day 2, Let's see if we can find something"
   ]
  },
  {
   "cell_type": "markdown",
   "metadata": {},
   "source": [
    "We are now Day 2. Surprisal values are based on a different day, but if the normal distribution is anything like Day 1, the surprisal value calculated should be still relevant.\n",
    "\n",
    "Let's generate a new day of logs"
   ]
  },
  {
   "cell_type": "code",
   "execution_count": null,
   "metadata": {
    "collapsed": false
   },
   "outputs": [],
   "source": [
    "start_time = datetime(2019,1,2,0,0)\n",
    "number_of_new_users = 20\n",
    "existing_users = user_lists[:]\n",
    "\n",
    "if random_seed:\n",
    "    random.seed(random_seed + 1)\n",
    "\n",
    "user_list_day2s = generate_userlist(number_of_new_users, existing_users)\n",
    "\n",
    "if random_seed:\n",
    "    random.seed(random_seed + 1)\n",
    "day2_logs = generate_logs(user_list_day2s, start_time)\n",
    "\n",
    "print(len(day2_logs), 'logs events generated for', len(user_list_day2s), 'users')\n",
    "\n",
    "day2_data = transform_logs_to_pandas(day2_logs)"
   ]
  },
  {
   "cell_type": "code",
   "execution_count": null,
   "metadata": {
    "collapsed": false
   },
   "outputs": [],
   "source": [
    "user_transition_score_day2 = get_user_transition_score(day2_data, transition_surprisal, 'user', 'path', 'success')"
   ]
  },
  {
   "cell_type": "markdown",
   "metadata": {},
   "source": [
    "This is where we use our log stream analyser. This is basically a state machine that keep an ongoing total of each users. \n",
    "\n",
    "The theory is that if a user only do normal actions, the sum of the surprisal value of all his actions should be fairly low (under ~10... but this is arbitrary). Anything over 10 would mean that a high number of unlikely actions were performed. Lets see if we can identify which users stands out."
   ]
  },
  {
   "cell_type": "code",
   "execution_count": null,
   "metadata": {
    "collapsed": true
   },
   "outputs": [],
   "source": [
    "cumulative_score = [[v,sum(user_transition_score_day2[v].values())] for v in [k for k in list(user_transition_score_day2.keys())]]\n",
    "\n",
    "df_cumulative_score = pd.DataFrame(cumulative_score, columns=['user', 'surprisal'])\n",
    "\n",
    "avg = df_cumulative_score['surprisal'].mean()\n",
    "std = df_cumulative_score['surprisal'].std()\n",
    "df_cumulative_score['z'] = (df_cumulative_score['surprisal'] - avg) / std"
   ]
  },
  {
   "cell_type": "code",
   "execution_count": null,
   "metadata": {
    "collapsed": false
   },
   "outputs": [],
   "source": [
    "df_cumulative_score.loc[df_cumulative_score['z'] >= 2].sort_values(by=['surprisal'], ascending=False)"
   ]
  },
  {
   "cell_type": "code",
   "execution_count": null,
   "metadata": {
    "collapsed": true
   },
   "outputs": [],
   "source": [
    "if random_seed:\n",
    "    random.seed(random_seed)\n",
    "\n",
    "unclassified_user_lists = random.sample(list(user_transition_score_day2.keys()), len(list(user_transition_score_day2.keys())))"
   ]
  },
  {
   "cell_type": "code",
   "execution_count": null,
   "metadata": {
    "collapsed": false
   },
   "outputs": [],
   "source": [
    "%%time\n",
    "# while there are unclassified users\n",
    "while len(unclassified_user_lists):\n",
    "    classify_users_in_list(unclassified_user_lists, behaviour_type_table, user_transition_score_day2, maxlimit)\n",
    "\n",
    "for k in behaviour_type_table.keys():\n",
    "    type_average = np.mean([sum(user_transition_score[x].values()) for x in behaviour_type_table[k]])\n",
    "    print(k, type_average, len(behaviour_type_table[k]), cheat_lookup_all_users(behaviour_type_table[k]))"
   ]
  },
  {
   "cell_type": "markdown",
   "metadata": {},
   "source": [
    "## Why these users are identified as outliers?\n",
    "\n",
    "If we look at the Top 1 outlier, we can see each action performed, and the surprisal value of each action."
   ]
  },
  {
   "cell_type": "markdown",
   "metadata": {},
   "source": [
    "If we look at a normal user, we can see that the surprisal value assigned to each value is really low, only slightly contributing to give that user a high score."
   ]
  },
  {
   "cell_type": "code",
   "execution_count": null,
   "metadata": {
    "collapsed": false
   },
   "outputs": [],
   "source": [
    "df_cumulative_score.sort_values(by=['surprisal'], ascending=False).tail()"
   ]
  },
  {
   "cell_type": "code",
   "execution_count": null,
   "metadata": {
    "collapsed": true
   },
   "outputs": [],
   "source": []
  },
  {
   "cell_type": "code",
   "execution_count": null,
   "metadata": {
    "collapsed": true
   },
   "outputs": [],
   "source": []
  },
  {
   "cell_type": "code",
   "execution_count": null,
   "metadata": {
    "collapsed": true
   },
   "outputs": [],
   "source": []
  },
  {
   "cell_type": "markdown",
   "metadata": {},
   "source": [
    "# Day 3: Automatically Classifying Users\n",
    "\n",
    "At one point, we still need to classify behaviours. Using Naive Bayes over the actions, we can score each users to the likely category they belong too.\n",
    "\n",
    "Could we have done that without looking for the outliers? Yes, but we still need to identify which users is normal and which one is likely not.\n",
    "\n",
    "At first, we need to calculate the probability distribution of each actions for each categories."
   ]
  },
  {
   "cell_type": "code",
   "execution_count": null,
   "metadata": {
    "collapsed": true
   },
   "outputs": [],
   "source": []
  },
  {
   "cell_type": "markdown",
   "metadata": {},
   "source": [
    "We can now use this probability distribution over a log stream"
   ]
  }
 ],
 "metadata": {
  "kernelspec": {
   "display_name": "Python 3",
   "language": "python",
   "name": "python3"
  },
  "language_info": {
   "codemirror_mode": {
    "name": "ipython",
    "version": 3
   },
   "file_extension": ".py",
   "mimetype": "text/x-python",
   "name": "python",
   "nbconvert_exporter": "python",
   "pygments_lexer": "ipython3",
   "version": "3.6.0"
  }
 },
 "nbformat": 4,
 "nbformat_minor": 2
}
