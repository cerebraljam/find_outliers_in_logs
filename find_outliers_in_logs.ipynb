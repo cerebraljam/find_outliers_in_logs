{
 "cells": [
  {
   "cell_type": "markdown",
   "metadata": {},
   "source": [
    "# How to find and group outliers in a logstream, based on behaviour\n",
    "\n",
    "## Context\n",
    "\n",
    "Your boss asked you to find suspect users among the few thousands of customers using your web site every day.\n",
    "\n",
    "Where do you start?! Easy! AI, Tensorflow, machine learning, and other buzzwords like so will solve the issue! When all logs are categorized, it's quite easy right?! You know what is going on in your logs right?\n",
    "\n",
    "... most probably not, especially if your site is generating few gigabytes of logs per day, there is just too much logs to know everything that is going one.\n",
    "\n",
    "Before even starting to search for suspicious users, step 1 would be starting by identifying what it means to be suspicious.\n",
    "\n",
    "    Suspicious normally means that it stands out from the normal.\n",
    "    \n",
    "Ok, step 2: what is normal?\n",
    "\n",
    "    Normal behaviour consist of expected usage. Anything outside of this can be considered abnormal.\n",
    "\n",
    "... We are not much more advanced because now we need to go over each action, and identify what is normal, and what is not, and assign a score to each.\n",
    "\n",
    "The second issue with this is that normal behaviour will be definition be way more likely than the abnormal one, which will skew the results into making any machine learning model think that 99.9% of the usage is normal, which a margin of error of + or - 5%, flooding your analysis with noise.\n",
    "\n",
    "The classical approach is to use a simple rule based system. By setting few triggers, we can find out account attackers. For small scale or simple systems, this will is likely to be enough, but not for large scale and complex systems.\n",
    "\n",
    "One other hypothesis would be to use Hidden Markov Chains, but for HNN, we need to know what we are searching for.\n",
    "Logs are also noisy: users will not simply go from A to B then C. they might crawl the whole site before reaching C, which complicates the creation of HMM.\n",
    "\n",
    "Another hypothesis would be to filter out known noise, like when we want to do sentiment analysis, English stop words are just too common and does not tell us anything useful... but what if these stop words are useless in small quantities, but an indicator of an issue in large quantities? ... and how much is too much?\n",
    "\n",
    "\n",
    "## Information Theory To The Rescue\n",
    "\n",
    "Information Theory is normally used for signal analysis and compression. By using Surprisal Analysis and Kullback–Leibler divergence, we can group similar behaviour togethers.\n",
    "\n",
    "* [Information Content](https://en.wikipedia.org/wiki/Information_content)\n",
    "* [Surprisal Analysis](https://en.wikipedia.org/wiki/Surprisal_analysis)\n",
    "* [Kullback–Leibler divergence](https://en.wikipedia.org/wiki/Kullback%E2%80%93Leibler_divergence)\n",
    "* [Example of Surprisal](http://www.umsl.edu/~fraundorfp/egsurpri.html)\n",
    "\n",
    "Basically, Surprisal Analysis is a way to measure (in bits) how surprised we will be by looking at something. Surprisal are calculated using Log base 2, which makes it easy to calculate because log are additive when probabilities are multiplied.\n",
    "\n",
    "For example:\n",
    "* There is 1/6 chance to roll a 6 die, gives us 2.58 bits of information (-log2(1/6) ~= 2.4849 bits). If you are playing D&D, you will be happily surprised.\n",
    "* Not rolling a 6 on a die represents 0.263 bits (-log2(5/6) ~= 0.263 bits). So rolling anything but a 6 in that same D&D game will most likely leave you dissapointed. \n",
    "* The chance of rolling 10 x 6 in a row on a die is 1/60466176 (10 * -log2(1/6) ~= 25.85 bits). This is highly unlikely.\n",
    "\n",
    "By assigning a surprisal value to each action taken over all actions taken by all users gives us an idea how much surprisal by seeing any of them happening, and by adding the score of all actions of a user, we can get an idea how \"normal\" was all his/her actions.\n",
    "\n",
    "This is what this notebook intend to demonstrate: Using Surprisal analysis, we will assign a score to actions, and by adding up the score of each action, identify series of actions that are unlikely to occur."
   ]
  },
  {
   "cell_type": "markdown",
   "metadata": {},
   "source": [
    "# But first, we need some logs\n",
    "\n",
    "What is explained in this notebook can be applied to real logs, but for the experimentation, I added a \"blackbox\" library that will help to generate our users and the logs of these users based on a determined probability distribution.\n",
    "\n",
    "## Caviat: I had to cheat to achieve the desired results\n",
    "\n",
    "Because I am generating the logs through a known distribution, I am also able to know the type of user of each user, which makes it easy later on to debug and know how wrong I am.\n",
    "\n",
    "This cheat was also necessary to get a probability distribution of the classification function of this notebook. This probability distribution is likely to be different for live environment, and should be tweeked.\n",
    "\n",
    "| | Positive | Negative |\n",
    "| -- | -- | -- |\n",
    "| True | 0.875 | 0.102 |\n",
    "| False | 0.125 | 0.898 |\n",
    "\n",
    "I am using this probability distribution, along with the Bayes Theorem to update my belief that each tested candidates truely belong in the tested behaviour classification.\n",
    "\n",
    "## Different User Profiles Generated By The Library\n",
    "\n",
    "The following profiles are generated by the library.\n",
    "\n",
    "Normal users\n",
    "* Buyer\n",
    "* Merchants\n",
    "\n",
    "Abnormal users:\n",
    "* Scraper bots\n",
    "* Spammers\n",
    "* fraudster\n",
    "* Account Attackers\n",
    "\n",
    "Buyers and merchants represent 98% of our logs. Leaving 2% to the abnormal users. However, the actions taken by each users being on a probability distribution, it is possible to see an \"attakcer\" user being classified as a user, because that attacked might have had a change of heart and didn't attack after all."
   ]
  },
  {
   "cell_type": "code",
   "execution_count": 1,
   "metadata": {
    "collapsed": false
   },
   "outputs": [],
   "source": [
    "## This cell initialize the libraries needed for this notebook, \n",
    "## along with the blackbox functions used to generate the users and logs\n",
    "\n",
    "import random\n",
    "import numpy as np\n",
    "import pandas as pd\n",
    "from datetime import datetime, date, time, timedelta\n",
    "from math import log, pow\n",
    "\n",
    "%load_ext autoreload\n",
    "%autoreload 2\n",
    "\n",
    "from blackbox import distribution\n",
    "from blackbox import generate_userlist, generate_logs, cheat_calculate_hit_rate, cheat_lookup_all_users\n",
    "\n",
    "magic = distribution()"
   ]
  },
  {
   "cell_type": "markdown",
   "metadata": {},
   "source": [
    "# Generating The User Database\n",
    "\n",
    "The following cell generates our user database.\n",
    "\n",
    "You will notice in this notebook that we are reinitializing the random seed quite often, just to keep consistence during the testing. Set the *random_seed* to False to randomize everything."
   ]
  },
  {
   "cell_type": "code",
   "execution_count": 2,
   "metadata": {
    "collapsed": false
   },
   "outputs": [
    {
     "name": "stdout",
     "output_type": "stream",
     "text": [
      "2000 ['buyer', 'merchant', 'merchant', 'buyer', 'buyer', 'buyer', 'buyer', 'buyer', 'merchant', 'merchant', 'merchant', 'merchant', 'buyer', 'buyer', 'buyer']\n"
     ]
    }
   ],
   "source": [
    "random_seed = 42\n",
    "\n",
    "if random_seed:\n",
    "    random.seed(random_seed)\n",
    "\n",
    "number_of_daily_users = 2000 # this code breaks over 4000 users... I need to find why\n",
    "all_user_lists = [] # Later on, we can add users to our list by supplying it to the generate_userlist function\n",
    "\n",
    "## We define how many new users to add\n",
    "number_of_new_users = number_of_daily_users - len(all_user_lists)\n",
    "\n",
    "all_user_lists = generate_userlist(all_user_lists, number_of_new_users)\n",
    "todays_user_lists = random.sample(all_user_lists, number_of_daily_users)\n",
    "\n",
    "print(len(todays_user_lists), todays_user_lists[:15])"
   ]
  },
  {
   "cell_type": "markdown",
   "metadata": {},
   "source": [
    "# Generating Logs For Day 1\n",
    "\n",
    "Note: The more users we have, the more log events will be generated. The probability distribution of each user ensures that they will start with a defined action, crawl the site following a defined pattern, and logout eventually, until the end of the day."
   ]
  },
  {
   "cell_type": "code",
   "execution_count": 3,
   "metadata": {
    "collapsed": false
   },
   "outputs": [
    {
     "name": "stdout",
     "output_type": "stream",
     "text": [
      "40170 log events generated for 2000 users\n",
      "CPU times: user 7.97 s, sys: 94.6 ms, total: 8.06 s\n",
      "Wall time: 8.21 s\n"
     ]
    }
   ],
   "source": [
    "%%time\n",
    "if random_seed:\n",
    "    random.seed(random_seed)\n",
    "\n",
    "start_time = datetime(2019,1,1,0,0)\n",
    "day1_logs = generate_logs(todays_user_lists, start_time)\n",
    "\n",
    "print(len(day1_logs), 'log events generated for', len(todays_user_lists), 'users')"
   ]
  },
  {
   "cell_type": "markdown",
   "metadata": {},
   "source": [
    "## Transforming the logs in a pandas dataframe\n",
    "\n",
    "The transition surprisal lookup table used in this notebook calculates scores based on the movements of the users between each actions. For example:\n",
    "\n",
    "* login (success) -> view_items (success) will result in a low surpisal value\n",
    "* login (fail) -> buy_item (success) never happened. If this sequence happen, this should be a huge red flag."
   ]
  },
  {
   "cell_type": "code",
   "execution_count": 4,
   "metadata": {
    "collapsed": false
   },
   "outputs": [
    {
     "name": "stdout",
     "output_type": "stream",
     "text": [
      "                    time          user   path status  uidx  realtype  \\\n",
      "558  2019-01-01 00:46:39  merchant1316  login   fail  1316  merchant   \n",
      "777  2019-01-01 00:59:12   attacker652  login   fail   652  attacker   \n",
      "778  2019-01-01 00:59:15   attacker652  login   fail   652  attacker   \n",
      "779  2019-01-01 00:59:19   attacker652  login   fail   652  attacker   \n",
      "834  2019-01-01 01:03:14     buyer1472  login   fail  1472     buyer   \n",
      "\n",
      "    prev_path prev_status  \n",
      "558                        \n",
      "777                        \n",
      "778     login        fail  \n",
      "779     login        fail  \n",
      "834                        \n"
     ]
    }
   ],
   "source": [
    "def transform_logs_to_pandas(logs):\n",
    "    data = pd.DataFrame(np.array(logs), columns=['time', 'user', 'path', 'status', 'uidx', 'realtype'])\n",
    "    \n",
    "    data['prev_path'] = data.groupby(['user'])['path'].shift(1)\n",
    "    data['prev_path'] = data['prev_path'].fillna(\"\")\n",
    "\n",
    "    data['prev_status'] = data.groupby(['user'])['status'].shift(1)\n",
    "    data['prev_status'] = data['prev_status'].fillna(\"\")\n",
    "    return data\n",
    "    \n",
    "day1_data = transform_logs_to_pandas(day1_logs)\n",
    "\n",
    "print(day1_data.loc[(day1_data['path'] == 'login') & (day1_data['status'] == 'fail')].head())"
   ]
  },
  {
   "cell_type": "markdown",
   "metadata": {},
   "source": [
    "The following cell generates the transition surprisal lookup table used to score each actions taken by the users.\n",
    "\n",
    "The format is as follow:\n",
    "\n",
    "```\n",
    "['current path'],['previous path']: {\n",
    "    'fail': 0, # How many time this action transition failed. (ex. View Items: Success, from: Login: Success)\n",
    "    'success': 13, # How many time this action transition succeded (ex. View Items: Fail, from: Login: Success)\n",
    "    'fsurprisal': 11.266786540694902, # Surprisal value if there is a failure happens\n",
    "    'ssurprisal': 7.56634682255381 # Surprisal value if that action is successful.\n",
    "    }\n",
    "```\n",
    "\n",
    "The surprisal value is directly related to the likelihood of an actions happening. If an actions is observed successfully few million times, then the successful surprisal value will be really low. However, the failure surprisal will be much higher if it never happens."
   ]
  },
  {
   "cell_type": "code",
   "execution_count": 5,
   "metadata": {
    "collapsed": false
   },
   "outputs": [],
   "source": [
    "def init_transition_surprisal_lookup(data, key, prev_key, feature, success):\n",
    "    surprisal = {}\n",
    "\n",
    "    for pkey in data[key].unique():\n",
    "        data_for_pkey = data.loc[(data[key] == pkey)]\n",
    "        denum = len(data.loc[(data[key] == pkey)])\n",
    "\n",
    "        for ppkey in data_for_pkey[prev_key].unique():\n",
    "            ds = data_for_pkey.loc[(data_for_pkey[prev_key] == ppkey) & (data_for_pkey[feature] == success)]\n",
    "            df = data_for_pkey.loc[(data_for_pkey[prev_key] == ppkey) & (data_for_pkey[feature] != success)]\n",
    "\n",
    "            dsuccess = len(ds) * 1.0\n",
    "            dfail = len(df) * 1.0\n",
    "\n",
    "            if dsuccess == 0:\n",
    "                dsuccess = 1.0 \n",
    "\n",
    "            if dfail == 0:\n",
    "                dfail = 1.0\n",
    "\n",
    "            if (pkey not in surprisal.keys()):\n",
    "                surprisal[pkey] = {}\n",
    "\n",
    "            surprisal[pkey][ppkey] = {\n",
    "                'success': len(ds), \n",
    "                'fail': len(df), \n",
    "                'ssurprisal': log(1/(dsuccess / denum),2), \n",
    "                'fsurprisal': log(1/(dfail / denum),2),\n",
    "            }\n",
    "    return surprisal\n",
    "\n",
    "transition_surprisal = init_transition_surprisal_lookup(day1_data, 'path', 'prev_path', 'status', 'success')"
   ]
  },
  {
   "cell_type": "code",
   "execution_count": 6,
   "metadata": {
    "collapsed": false
   },
   "outputs": [
    {
     "data": {
      "text/plain": [
       "{'fail': 0,\n",
       " 'fsurprisal': 11.213711798105674,\n",
       " 'ssurprisal': 6.965784284662088,\n",
       " 'success': 19}"
      ]
     },
     "execution_count": 6,
     "metadata": {},
     "output_type": "execute_result"
    }
   ],
   "source": [
    "def get_transition_surprisal(path, prev_path, surprisal, data):\n",
    "    if path not in list(surprisal.keys()):\n",
    "        denum = len(data)\n",
    "        return {\n",
    "            'fail': 0,\n",
    "            'success': 0,\n",
    "            'ssurprisal': log(1/(1/denum),2),\n",
    "            'fsurprisal': log(1/(1/denum),2),\n",
    "        }\n",
    "    else:\n",
    "        if prev_path not in list(surprisal[path].keys()):\n",
    "            denum = len(data.loc[(data['path'] == path)])\n",
    "            return {\n",
    "                'fail': 0,\n",
    "                'success': 0,\n",
    "                'ssurprisal': log(1/(1/denum),2),\n",
    "                'fsurprisal': log(1/(1/denum),2),\n",
    "            }\n",
    "        else:\n",
    "            return surprisal[path][prev_path]\n",
    "\n",
    "get_transition_surprisal('buy_item', 'login', transition_surprisal, day1_data)"
   ]
  },
  {
   "cell_type": "code",
   "execution_count": 7,
   "metadata": {
    "collapsed": false
   },
   "outputs": [],
   "source": [
    "def get_user_transition_score(data, surprisal, key, feature, success_val):\n",
    "    accumulator = {}\n",
    "    key_last_path = {}\n",
    "    \n",
    "    for index,row in data.iterrows():\n",
    "        if row[key] not in key_last_path.keys():\n",
    "            key_last_path[row[key]] = \"\"\n",
    "            \n",
    "        if row[key] not in accumulator.keys():\n",
    "            accumulator[row[key]] = {k:0 for k in data[feature].unique()}\n",
    "            \n",
    "        if row[feature] is success_val:\n",
    "            accumulator[row[key]][row[feature]] += get_transition_surprisal(row[feature],key_last_path[row[key]], surprisal, data)['ssurprisal']\n",
    "        else:\n",
    "            accumulator[row[key]][row[feature]] += get_transition_surprisal(row[feature],key_last_path[row[key]], surprisal, data)['fsurprisal']\n",
    "\n",
    "        key_last_path[row[key]] = row[feature]\n",
    "                                    \n",
    "    return accumulator\n",
    "\n",
    "\n",
    "user_transition_score = get_user_transition_score(day1_data, transition_surprisal, 'user', 'path', 'success')"
   ]
  },
  {
   "cell_type": "code",
   "execution_count": 8,
   "metadata": {
    "collapsed": true
   },
   "outputs": [],
   "source": [
    "cumulative_score = [[v,sum(user_transition_score[v].values())] for v in [k for k in list(user_transition_score.keys())]]\n",
    "\n",
    "df_cumulative_score = pd.DataFrame(cumulative_score, columns=['user', 'surprisal'])\n",
    "\n",
    "avg = df_cumulative_score['surprisal'].mean()\n",
    "std = df_cumulative_score['surprisal'].std()\n",
    "df_cumulative_score['z'] = (df_cumulative_score['surprisal'] - avg) / std\n"
   ]
  },
  {
   "cell_type": "code",
   "execution_count": 9,
   "metadata": {
    "collapsed": false
   },
   "outputs": [
    {
     "data": {
      "text/html": [
       "<div>\n",
       "<table border=\"1\" class=\"dataframe\">\n",
       "  <thead>\n",
       "    <tr style=\"text-align: right;\">\n",
       "      <th></th>\n",
       "      <th>user</th>\n",
       "      <th>surprisal</th>\n",
       "      <th>z</th>\n",
       "    </tr>\n",
       "  </thead>\n",
       "  <tbody>\n",
       "    <tr>\n",
       "      <th>686</th>\n",
       "      <td>bot272</td>\n",
       "      <td>51550.564081</td>\n",
       "      <td>39.684129</td>\n",
       "    </tr>\n",
       "    <tr>\n",
       "      <th>623</th>\n",
       "      <td>bot1295</td>\n",
       "      <td>25659.755591</td>\n",
       "      <td>19.690524</td>\n",
       "    </tr>\n",
       "    <tr>\n",
       "      <th>189</th>\n",
       "      <td>bot1323</td>\n",
       "      <td>4788.884029</td>\n",
       "      <td>3.573455</td>\n",
       "    </tr>\n",
       "    <tr>\n",
       "      <th>832</th>\n",
       "      <td>bot1292</td>\n",
       "      <td>3741.640951</td>\n",
       "      <td>2.764745</td>\n",
       "    </tr>\n",
       "    <tr>\n",
       "      <th>1867</th>\n",
       "      <td>bot321</td>\n",
       "      <td>3121.263258</td>\n",
       "      <td>2.285672</td>\n",
       "    </tr>\n",
       "  </tbody>\n",
       "</table>\n",
       "</div>"
      ],
      "text/plain": [
       "         user     surprisal          z\n",
       "686    bot272  51550.564081  39.684129\n",
       "623   bot1295  25659.755591  19.690524\n",
       "189   bot1323   4788.884029   3.573455\n",
       "832   bot1292   3741.640951   2.764745\n",
       "1867   bot321   3121.263258   2.285672"
      ]
     },
     "execution_count": 9,
     "metadata": {},
     "output_type": "execute_result"
    }
   ],
   "source": [
    "df_cumulative_score.loc[df_cumulative_score['z'] >= 2].sort_values(by=['surprisal'], ascending=False)"
   ]
  },
  {
   "cell_type": "code",
   "execution_count": 10,
   "metadata": {
    "collapsed": false
   },
   "outputs": [
    {
     "data": {
      "text/html": [
       "<div>\n",
       "<table border=\"1\" class=\"dataframe\">\n",
       "  <thead>\n",
       "    <tr style=\"text-align: right;\">\n",
       "      <th></th>\n",
       "      <th>user</th>\n",
       "      <th>surprisal</th>\n",
       "      <th>z</th>\n",
       "    </tr>\n",
       "  </thead>\n",
       "  <tbody>\n",
       "    <tr>\n",
       "      <th>1996</th>\n",
       "      <td>buyer528</td>\n",
       "      <td>16.301175</td>\n",
       "      <td>-0.112066</td>\n",
       "    </tr>\n",
       "    <tr>\n",
       "      <th>532</th>\n",
       "      <td>fraudster152</td>\n",
       "      <td>16.046740</td>\n",
       "      <td>-0.112263</td>\n",
       "    </tr>\n",
       "    <tr>\n",
       "      <th>1623</th>\n",
       "      <td>fraudster1221</td>\n",
       "      <td>16.046740</td>\n",
       "      <td>-0.112263</td>\n",
       "    </tr>\n",
       "    <tr>\n",
       "      <th>1988</th>\n",
       "      <td>attacker1699</td>\n",
       "      <td>10.959278</td>\n",
       "      <td>-0.116191</td>\n",
       "    </tr>\n",
       "    <tr>\n",
       "      <th>458</th>\n",
       "      <td>merchant1421</td>\n",
       "      <td>10.959278</td>\n",
       "      <td>-0.116191</td>\n",
       "    </tr>\n",
       "    <tr>\n",
       "      <th>5</th>\n",
       "      <td>buyer282</td>\n",
       "      <td>10.959278</td>\n",
       "      <td>-0.116191</td>\n",
       "    </tr>\n",
       "    <tr>\n",
       "      <th>391</th>\n",
       "      <td>fraudster184</td>\n",
       "      <td>10.959278</td>\n",
       "      <td>-0.116191</td>\n",
       "    </tr>\n",
       "    <tr>\n",
       "      <th>1833</th>\n",
       "      <td>attacker1512</td>\n",
       "      <td>10.959278</td>\n",
       "      <td>-0.116191</td>\n",
       "    </tr>\n",
       "    <tr>\n",
       "      <th>249</th>\n",
       "      <td>buyer1712</td>\n",
       "      <td>10.959278</td>\n",
       "      <td>-0.116191</td>\n",
       "    </tr>\n",
       "    <tr>\n",
       "      <th>1997</th>\n",
       "      <td>buyer1367</td>\n",
       "      <td>5.087463</td>\n",
       "      <td>-0.120726</td>\n",
       "    </tr>\n",
       "  </tbody>\n",
       "</table>\n",
       "</div>"
      ],
      "text/plain": [
       "               user  surprisal         z\n",
       "1996       buyer528  16.301175 -0.112066\n",
       "532    fraudster152  16.046740 -0.112263\n",
       "1623  fraudster1221  16.046740 -0.112263\n",
       "1988   attacker1699  10.959278 -0.116191\n",
       "458    merchant1421  10.959278 -0.116191\n",
       "5          buyer282  10.959278 -0.116191\n",
       "391    fraudster184  10.959278 -0.116191\n",
       "1833   attacker1512  10.959278 -0.116191\n",
       "249       buyer1712  10.959278 -0.116191\n",
       "1997      buyer1367   5.087463 -0.120726"
      ]
     },
     "execution_count": 10,
     "metadata": {},
     "output_type": "execute_result"
    }
   ],
   "source": [
    "df_cumulative_score.sort_values(by=['surprisal'], ascending=False).tail(10)"
   ]
  },
  {
   "cell_type": "code",
   "execution_count": 11,
   "metadata": {
    "collapsed": false
   },
   "outputs": [
    {
     "name": "stdout",
     "output_type": "stream",
     "text": [
      "best 2 {True: {True: 0.937984496124031, False: 0.12451577199778639}, False: {True: 0.06201550387596899, False: 0.8754842280022136}} 0.937984496124031 0.12451577199778639 0.5312501340609087 2\n",
      "best 4 {True: {True: 0.9398496240601504, False: 0.12257348863006101}, False: {True: 0.06015037593984962, False: 0.877426511369939}} 0.9398496240601504 0.12257348863006101 0.5312115563451056 4\n",
      "limit 4\n",
      "count True {True: 120, False: 8}\n",
      "count False {True: 226, False: 1582}\n",
      "percent True {True: 0.9375, False: 0.125}\n",
      "percent False {True: 0.0625, False: 0.875}\n"
     ]
    }
   ],
   "source": [
    "np.seterr(divide='ignore', invalid='ignore', over='ignore')\n",
    "\n",
    "if random_seed:\n",
    "    np.random.seed(random_seed)\n",
    "\n",
    "maxlimit = 1\n",
    "maxtp = 0\n",
    "mintn = 1\n",
    "best_flat_lookup = {}\n",
    "\n",
    "for l in range(2, 10):\n",
    "    flat_status, flat_lookup = cheat_calculate_hit_rate(day1_data, user_transition_score, l)\n",
    "    if maxtp <= flat_lookup[True][True] and mintn >= flat_lookup[True][False]:\n",
    "        maxtp = flat_lookup[True][True]\n",
    "        mintn = flat_lookup[True][False]\n",
    "        maxlimit = l\n",
    "        print('best', l, flat_lookup, maxtp, mintn, (maxtp+mintn)/2,maxlimit)\n",
    "    \n",
    "# maxlimit = 7\n",
    "flat_status, flat_lookup = cheat_calculate_hit_rate(day1_data, user_transition_score, maxlimit)\n",
    "\n",
    "print('limit', maxlimit)\n",
    "print('count', True, flat_status[True])\n",
    "print('count', False, flat_status[False])\n",
    "\n",
    "print('percent', True, flat_lookup[True])\n",
    "print('percent', False, flat_lookup[False])\n"
   ]
  },
  {
   "cell_type": "markdown",
   "metadata": {},
   "source": [
    "Can we cluster users together?\n",
    "\n",
    "\n",
    "We will use two lists: \n",
    "- unclassified_users, which is a copy of the original user_score list, but not classified yet\n",
    "- behaviour_types: this is a list of hashes, the key being the user type (normally type + n), and the value of that hash is an array with all the profiles of the users classified under that type\n",
    "\n",
    "With these 2 lists, here is the idea:\n",
    "- From the unclassified_users list, we will pick one at random\n",
    "- Then we will pick 100 users at random, and try to find 10 that matches the behaviour. It's ok if we don't find any\n",
    "- I make the hypothesis that we have 10 kind of users, so my prior probability is 0.1\n",
    "- Then we check in all the keys under behaviour_types and compare our found random candidates with max 10 random candidates from that behaviour type. For the experimental data, We know that the True Positive probability is 51.5%, and the True Negative rate is 11.2%. By doing enough tests, we should be able to update our belief that we are comparing matching or different profiles"
   ]
  },
  {
   "cell_type": "code",
   "execution_count": 12,
   "metadata": {
    "collapsed": false
   },
   "outputs": [],
   "source": [
    "def update_probability(prior_probability, distribution, test_result):\n",
    "    \n",
    "    # What is our success rate for this test_result?\n",
    "    likelihood_of_being_right = distribution[test_result][True]\n",
    "    likelihood_of_being_wrong = distribution[test_result][False]\n",
    "          \n",
    "    numerator = likelihood_of_being_right * prior_probability\n",
    "    denominator = (likelihood_of_being_right * prior_probability) + (likelihood_of_being_wrong * (1 - prior_probability))\n",
    "    \n",
    "    posterior_probability = numerator / denominator\n",
    "    \n",
    "    return posterior_probability"
   ]
  },
  {
   "cell_type": "code",
   "execution_count": 13,
   "metadata": {
    "collapsed": false
   },
   "outputs": [
    {
     "name": "stdout",
     "output_type": "stream",
     "text": [
      "merchant857 {'login': 5.08746284125034, 'view_item': 14.71112919630353, 'comment': 0, 'buy_item': 0, 'logout': 0, 'end': 10.959277505720502, 'sell_item': 10.349281228817453, 'home': 0, 'bank_modify': 0, 'view_profile': 0, 'password_reset': 0, 'payment_modify': 0, 'update_address': 0, 'update_email': 0}\n",
      "merchant946 {'login': 5.08746284125034, 'view_item': 129.07211050631952, 'comment': 0, 'buy_item': 0, 'logout': 0, 'end': 10.959277505720502, 'sell_item': 102.84895609839981, 'home': 0, 'bank_modify': 0, 'view_profile': 0, 'password_reset': 0, 'payment_modify': 0, 'update_address': 0, 'update_email': 0}\n"
     ]
    },
    {
     "data": {
      "text/plain": [
       "{'dklp': -1.0127900003221136e-29, 'dklq': 0.0751718455254234, 'test': True}"
      ]
     },
     "execution_count": 13,
     "metadata": {},
     "output_type": "execute_result"
    }
   ],
   "source": [
    "np.seterr(divide='ignore', invalid='ignore', over='ignore') \n",
    "\n",
    "def align_profiles(profile1, profile2):\n",
    "    if profile1.keys() != profile2.keys():\n",
    "        for k in profile1.keys():\n",
    "            if k not in profile2.keys():\n",
    "                profile2[k] = profile1[k]\n",
    "        for k in profile2.keys():\n",
    "            if k not in profile1.keys():\n",
    "                profile1[k] = profile2[k]\n",
    "    p1 = [value for (key, value) in sorted(profile1.items())]\n",
    "    p2 = [value for (key, value) in sorted(profile2.items())]\n",
    "    allkeys = [key for (key, value) in sorted(profile2.items())]\n",
    "    return p1, p2, allkeys\n",
    "\n",
    "def compare_profiles(profile1, profile2, limit = 7):\n",
    "    u1, u2, trash = align_profiles(profile1, profile2)\n",
    "    \n",
    "    # Ref: https://en.wikipedia.org/wiki/Kullback%E2%80%93Leibler_divergence#Definition\n",
    "    px = [1/np.power(2,x) for x in np.array(u1)]    \n",
    "    qx = [1/np.power(2,x) for x in np.array(u2)]\n",
    "    \n",
    "    p = np.array(qx)/np.array(px)\n",
    "    q = np.array(px)/np.array(qx)\n",
    "    dklp = (qx * np.log2(p)).sum()\n",
    "    dklq = (px * np.log2(q)).sum()\n",
    "    \n",
    "    t = (dklp < limit and dklp >= -limit) and (dklq < limit and dklq >= -limit)\n",
    "    \n",
    "    return {'test': t, 'dklp': dklp, 'dklq': dklq}\n",
    "\n",
    "test_users = random.sample(user_transition_score.keys(),2)\n",
    "print(test_users[0], user_transition_score[test_users[0]])\n",
    "print(test_users[1], user_transition_score[test_users[1]])\n",
    "compare_profiles(user_transition_score[test_users[0]], user_transition_score[test_users[1]], maxlimit)"
   ]
  },
  {
   "cell_type": "code",
   "execution_count": 14,
   "metadata": {
    "collapsed": false
   },
   "outputs": [
    {
     "data": {
      "text/plain": [
       "{'a': 1.5, 'b': 1.75, 'c': 3.25, 'd': 4.0}"
      ]
     },
     "execution_count": 14,
     "metadata": {},
     "output_type": "execute_result"
    }
   ],
   "source": [
    "def compile_average_for_type(array):\n",
    "    garbage = {}\n",
    "    for i in range(len(array)):\n",
    "        if len(garbage.keys()) == 0:\n",
    "            garbage = array[i]\n",
    "        else:\n",
    "            g, a, allkeys = align_profiles(garbage, array[i])\n",
    "            c = np.array(g) + np.array(a)\n",
    "            for idx in range(len(allkeys)):\n",
    "                garbage[allkeys[idx]] = c[idx] \n",
    "    for k in garbage.keys():\n",
    "        garbage[k] = garbage[k] / len(array)\n",
    "    return garbage\n",
    "\n",
    "array = [{'a':1,'b':2,'c':3}, {'a':1,'b':2,'c':3}, {'a':1,'b':2,'c':3, 'd':4}, {'a':3,'b':1,'c':4}]\n",
    "compile_average_for_type(array)"
   ]
  },
  {
   "cell_type": "code",
   "execution_count": 15,
   "metadata": {
    "collapsed": true
   },
   "outputs": [],
   "source": [
    "def add_candidate_to_behaviour_type(candidate_name, matching_class, behaviour_type_table):  \n",
    "    if matching_class not in behaviour_type_table.keys():\n",
    "        behaviour_type_table[matching_class] = []\n",
    "\n",
    "    if candidate_name not in behaviour_type_table[matching_class]:\n",
    "        behaviour_type_table[matching_class].append(candidate_name)\n",
    "        \n",
    "    return candidate_name"
   ]
  },
  {
   "cell_type": "code",
   "execution_count": 16,
   "metadata": {
    "collapsed": false
   },
   "outputs": [],
   "source": [
    "def remove_from_classification(candidate_name, behaviour_type_table):\n",
    "    cleaneds = []\n",
    "    empties = []\n",
    "    for be, be_list in behaviour_type_table.items():\n",
    "        if candidate_name in behaviour_type_table[be]:\n",
    "            behaviour_type_table[be].remove(candidate_name)\n",
    "            cleaneds.append(be)\n",
    "        if len(behaviour_type_table[be]) == 0:\n",
    "            empties.append(be)\n",
    "    for e in empties:\n",
    "        del behaviour_type_table[e]\n",
    "            \n",
    "    return cleaneds       \n",
    "\n",
    "def classify_candidates_average(candidate_name, behaviour_type_average, score, limit = 7):\n",
    "    potential_matching_type = {}\n",
    "    passing_score = 0.9\n",
    "    sample_size = 10\n",
    "    small_size_adjustment = 2\n",
    "    \n",
    "    for be, be_average in behaviour_type_average.items():\n",
    "        post = 0.1 # this is the prior\n",
    "\n",
    "        result = compare_profiles(score[candidate_name], be_average, limit)\n",
    "        post = update_probability(post, flat_lookup, result['test'])\n",
    "            \n",
    "        if result['test'] == True:\n",
    "            potential_matching_type[be] = post\n",
    "\n",
    "    if len(potential_matching_type.keys()) == 0:\n",
    "        new_class_name = max(0,len(list(behaviour_type_average.values())))\n",
    "        return new_class_name\n",
    "    else:\n",
    "        return max(potential_matching_type, key=potential_matching_type.get)\n",
    "    \n",
    "def classify_users_in_list(unclassified_user_lists, behaviour_type_table, behaviour_average_table, score, limit = 7):\n",
    "    # select one user\n",
    "    candidate_name = random.choice(unclassified_user_lists)\n",
    "    if candidate_name:\n",
    "        # classify user\n",
    "        cleanup = remove_from_classification(candidate_name, behaviour_type_table)\n",
    "        \n",
    "        matching_class = classify_candidates_average(candidate_name, behaviour_average_table, score, limit)\n",
    "\n",
    "        # add the user to the proper type\n",
    "        add_candidate_to_behaviour_type(candidate_name, matching_class, behaviour_type_table)\n",
    "        if len(behaviour_type_table[matching_class]) % 4 == 0 or len(behaviour_type_table[matching_class]) == 1:\n",
    "            scores_for_users = random.sample(\n",
    "                [score[x] for x in behaviour_type_table[matching_class]], \n",
    "                min(len(behaviour_type_table[matching_class]),10)\n",
    "            )\n",
    "            behaviour_average_table[matching_class] = compile_average_for_type(scores_for_users)\n",
    "        unclassified_user_lists.remove(candidate_name)"
   ]
  },
  {
   "cell_type": "code",
   "execution_count": 27,
   "metadata": {
    "collapsed": false
   },
   "outputs": [
    {
     "name": "stdout",
     "output_type": "stream",
     "text": [
      "1999\n"
     ]
    }
   ],
   "source": [
    "if random_seed:\n",
    "    random.seed(random_seed)\n",
    "\n",
    "behaviour_type_table = {}\n",
    "behaviour_average_table = {}\n",
    "print(len(list(user_transition_score.keys())))\n",
    "unclassified_user_lists = random.sample(list(user_transition_score.keys()), min(len(todays_user_lists), len(list(user_transition_score.keys()))))"
   ]
  },
  {
   "cell_type": "code",
   "execution_count": 28,
   "metadata": {
    "collapsed": false,
    "scrolled": false
   },
   "outputs": [
    {
     "name": "stdout",
     "output_type": "stream",
     "text": [
      "0 136.212746254 524 {'merchant': 524}\n",
      "1 91.5604730387 511 {'buyer': 511}\n",
      "2 122.99995684 476 {'merchant': 476}\n",
      "3 152.237587314 163 {'buyer': 163}\n",
      "4 142.974370362 56 {'buyer': 56}\n",
      "5 83.1915471671 201 {'buyer': 201}\n",
      "6 125.098793623 4 {'buyer': 4}\n",
      "7 10.9592775057 6 {'buyer': 2, 'fraudster': 1, 'attacker': 2, 'merchant': 1}\n",
      "8 350.829429519 4 {'merchant': 4}\n",
      "9 94.2536470715 4 {'attacker': 4}\n",
      "10 38.7692550214 7 {'buyer': 7}\n",
      "11 3741.64095064 1 {'bot': 1}\n",
      "12 158.391936923 2 {'merchant': 2}\n",
      "13 51550.5640814 1 {'bot': 1}\n",
      "14 25659.7555907 1 {'bot': 1}\n",
      "15 17.9298542566 3 {'fraudster': 2, 'attacker': 1}\n",
      "16 5.08746284125 1 {'buyer': 1}\n",
      "17 181.943107272 1 {'buyer': 1}\n",
      "18 183.165776658 1 {'merchant': 1}\n",
      "19 31.5748267938 2 {'buyer': 2}\n",
      "20 181.700719883 1 {'buyer': 1}\n",
      "21 16.3011746394 1 {'buyer': 1}\n",
      "22 167.587890011 3 {'buyer': 2, 'fraudster': 1}\n",
      "23 168.427842172 1 {'buyer': 1}\n",
      "24 347.236844028 2 {'buyer': 2}\n",
      "25 136.175813628 4 {'spammer': 4}\n",
      "26 168.933119571 1 {'spammer': 1}\n",
      "27 206.475582662 1 {'merchant': 1}\n",
      "28 48.4507278436 1 {'merchant': 1}\n",
      "29 111.698395602 2 {'merchant': 2}\n",
      "30 26.3228647522 1 {'fraudster': 1}\n",
      "31 373.794311498 1 {'spammer': 1}\n",
      "32 28.3358997395 2 {'buyer': 1, 'merchant': 1}\n",
      "33 63.1502967645 1 {'buyer': 1}\n",
      "34 4788.88402875 1 {'bot': 1}\n",
      "35 471.164325798 1 {'merchant': 1}\n",
      "36 3121.26325764 1 {'bot': 1}\n",
      "37 228.95766815 2 {'merchant': 2}\n",
      "38 190.819622188 2 {'buyer': 1, 'fraudster': 1}\n",
      "39 77.5364574116 1 {'buyer': 1}\n",
      "CPU times: user 6.48 s, sys: 36.1 ms, total: 6.52 s\n",
      "Wall time: 6.58 s\n"
     ]
    }
   ],
   "source": [
    "%%time\n",
    "# while there are unclassified users\n",
    "while len(unclassified_user_lists):\n",
    "    classify_users_in_list(unclassified_user_lists, behaviour_type_table, behaviour_average_table, user_transition_score, maxlimit)\n",
    "\n",
    "for k in behaviour_type_table.keys():\n",
    "        type_average = np.mean([sum(user_transition_score[x].values()) for x in behaviour_type_table[k]])\n",
    "        print(k, type_average, len(behaviour_type_table[k]), cheat_lookup_all_users(behaviour_type_table[k]))"
   ]
  },
  {
   "cell_type": "code",
   "execution_count": 33,
   "metadata": {
    "collapsed": false
   },
   "outputs": [],
   "source": [
    "import matplotlib.pyplot as plt\n",
    "plt.style.use('ggplot')\n",
    "import matplotlib\n",
    "\n",
    "def graph_user_distribution_by_behaviour_id(type_table, average_table):  \n",
    "    current_behaviour_state_table = {}\n",
    "    for k in type_table.keys():\n",
    "        type_average = np.mean([sum(user_transition_score[x].values()) for x in type_table[k]])\n",
    "        current_behaviour_state_table[k] = {'type': k, 'score':type_average, 'nbmembers':len(type_table[k]), 'behaviour': average_table[k]}\n",
    "    \n",
    "    plt.figure(figsize=(20,5))\n",
    "\n",
    "    index = np.array(list(current_behaviour_state_table.keys()))\n",
    "    names = list(type_table.keys())\n",
    "    v1 = [current_behaviour_state_table[x]['nbmembers'] for x in names]\n",
    "    plt.figure(1, figsize=(9, 5))\n",
    "\n",
    "    bar_width = 0.4\n",
    "    spare_width = (1 - bar_width*2)/2\n",
    "#     opacity = 0.4\n",
    "\n",
    "    rects1 = plt.bar(index, v1, bar_width,\n",
    "                    color='b',\n",
    "                    label='Nb Members')\n",
    "\n",
    "    # rects2 = ax.bar(index + bar_width, v2, bar_width,\n",
    "    #                 alpha=opacity, color='r',\n",
    "    #                 label='Surprisal')\n",
    "\n",
    "    plt.xlabel('Behaviour Cluster ID')\n",
    "    plt.ylabel('Number of Users')\n",
    "    plt.title('Number of User Per Behaviour Cluster')\n",
    "    plt.xticks(index)\n",
    "    plt.grid()\n",
    "    plt.legend()\n",
    "    return plt\n",
    "\n",
    "\n",
    "# plt.show()"
   ]
  },
  {
   "cell_type": "code",
   "execution_count": 29,
   "metadata": {
    "collapsed": false
   },
   "outputs": [
    {
     "name": "stdout",
     "output_type": "stream",
     "text": [
      "[  0.00000000e+00   0.00000000e+00   0.00000000e+00   9.05822673e-02\n",
      "   0.00000000e+00   4.25817280e-02   8.49357676e-02   3.02053349e-05\n",
      "   0.00000000e+00   3.70591666e-01   0.00000000e+00   0.00000000e+00\n",
      "   4.11278366e-01   0.00000000e+00]\n"
     ]
    }
   ],
   "source": [
    "if 1: #graph debugging... ignore\n",
    "    current_behaviour_state_table = {}\n",
    "\n",
    "    for k in behaviour_type_table.keys():\n",
    "        type_average = np.mean([sum(user_transition_score[x].values()) for x in behaviour_type_table[k]])\n",
    "        current_behaviour_state_table[k] = {'type': k, 'score':type_average, 'nbmembers':len(behaviour_type_table[k]), 'behaviour': behaviour_average_table[k]}\n",
    "\n",
    "    surprisal_stats = np.array([\n",
    "        [current_behaviour_state_table[y]['behaviour'][x]/sum(current_behaviour_state_table[y]['behaviour'].values()) for x in sorted(current_behaviour_state_table[1]['behaviour'].keys())]\n",
    "        for y in list(current_behaviour_state_table.keys())# [key for (key, value) in sorted(current_behaviour_state_table.items())]\n",
    "    ])\n",
    "\n",
    "    keylists_columns = list(current_behaviour_state_table.keys())\n",
    "    path_rows = sorted(current_behaviour_state_table[keylists_columns[0]]['behaviour'].keys())\n",
    "    surprisal_values = list(current_behaviour_state_table[keylists_columns[0]]['behaviour'].values())\n",
    "    # np.array(surprisal_values) * current_behaviour_state_table[keylists_columns[0]]['nbmembers']\n",
    "\n",
    "    x = [[1,2,3,4],\n",
    "        ['a','b','c','d'],\n",
    "        [4,5,6,7]\n",
    "        ]\n",
    "    # print(np.array(surprisal_values))\n",
    "\n",
    "    #     p2 = [value for (key, value) in sorted(profile2.items())]\n",
    "    #     allkeys = [key for (key, value) in sorted(profile2.items())]\n",
    "\n",
    "    # print(path_rows)\n",
    "    print(surprisal_stats[0])\n",
    "    # print(sorted(current_behaviour_state_table[1]['behaviour'].keys()))\n"
   ]
  },
  {
   "cell_type": "code",
   "execution_count": 30,
   "metadata": {
    "collapsed": false
   },
   "outputs": [],
   "source": [
    "def graph_surprisal_distribution_by_type(type_table, average_table):\n",
    "    current_behaviour_state_table = {}\n",
    "    for k in type_table.keys():\n",
    "        type_average = np.mean([sum(user_transition_score[x].values()) for x in type_table[k]])\n",
    "        current_behaviour_state_table[k] = {'type': k, 'score':type_average, 'nbmembers':len(type_table[k]), 'behaviour': average_table[k]}\n",
    "    \n",
    "    surprisal_stats = np.array([\n",
    "        [current_behaviour_state_table[y]['behaviour'][x] for x in sorted(current_behaviour_state_table[1]['behaviour'].keys())]\n",
    "#         [current_behaviour_state_table[y]['behaviour'][x]/sum(current_behaviour_state_table[y]['behaviour'].values()) for x in sorted(current_behaviour_state_table[1]['behaviour'].keys())]\n",
    "        for y in list(current_behaviour_state_table.keys())\n",
    "    ]).T\n",
    "    \n",
    "    keylists_columns = np.array(list(current_behaviour_state_table.keys()))\n",
    "    path_rows = sorted(current_behaviour_state_table[keylists_columns[0]]['behaviour'].keys())\n",
    "\n",
    "    fig = plt.figure()\n",
    "    ax = fig.add_subplot(111)\n",
    "    fig = matplotlib.pyplot.gcf()\n",
    "    fig.set_size_inches(30.0,7.5)\n",
    "\n",
    "    # https://matplotlib.org/examples/color/colormaps_reference.html\n",
    "    colors = plt.cm.Paired(np.linspace(0, 0.75, len(path_rows)))\n",
    "\n",
    "    n_rows = len(surprisal_stats)\n",
    "\n",
    "    index = np.arange(len(keylists_columns)) + 0.4\n",
    "    bar_width = 0.4\n",
    "    spare_width = (1 - bar_width*2)/2\n",
    "    \n",
    "    ax.set_xlim(-spare_width,len(index)-spare_width)\n",
    "    ax.set_ylabel(\"Surprisal Distribution\")\n",
    "    xTickMarks = keylists_columns\n",
    "    \n",
    "    ax.set_xticks(index+bar_width)\n",
    "    \n",
    "    xtickNames = ax.set_xticklabels(xTickMarks)\n",
    "    plt.setp(xtickNames, rotation=0, fontsize=40)\n",
    "    ax.yaxis.grid()\n",
    "\n",
    "    # Initialize the vertical-offset for the stacked bar chart.\n",
    "    y_offset = np.zeros(len(keylists_columns))\n",
    "\n",
    "    # Plot bars and create text labels for the table\n",
    "    cell_text = []\n",
    "    for row in range(n_rows):\n",
    "        plt.bar(index, np.minimum(surprisal_stats[row],500), bar_width, bottom=y_offset, color=colors[row])\n",
    "        y_offset = y_offset + np.minimum(surprisal_stats[row],500)\n",
    "        cell_text.append(['%.2f' % x for x in surprisal_stats[row]])\n",
    "\n",
    "    # Add a table at the bottom of the axes\n",
    "    the_table = plt.table(cellText=cell_text,\n",
    "                          rowLabels=path_rows,\n",
    "                          rowColours=colors,\n",
    "                          colLabels=keylists_columns,\n",
    "                          loc='bottom')\n",
    "\n",
    "    the_table.scale(1,2.5)\n",
    "    \n",
    "    # Adjust layout to make room for the table:\n",
    "    plt.subplots_adjust(left=0.2, bottom=0.2)\n",
    "    ax.xaxis.labelpad = 260\n",
    "    ax.yaxis.labelpad = 20\n",
    "\n",
    "    plt.xticks([])\n",
    "    plt.title('Distribution Of Actions By Behaviour Type')\n"
   ]
  },
  {
   "cell_type": "code",
   "execution_count": 34,
   "metadata": {
    "collapsed": false
   },
   "outputs": [
    {
     "data": {
      "text/plain": [
       "<module 'matplotlib.pyplot' from '/Users/simon/anaconda/lib/python3.6/site-packages/matplotlib/pyplot.py'>"
      ]
     },
     "execution_count": 34,
     "metadata": {},
     "output_type": "execute_result"
    },
    {
     "data": {
      "image/png": "[encoded data removed]",
      "text/plain": [
       "<matplotlib.figure.Figure at 0x110854b00>"
      ]
     },
     "metadata": {},
     "output_type": "display_data"
    }
   ],
   "source": [
    "graph_user_distribution_by_behaviour_id(behaviour_type_table, behaviour_average_table)"
   ]
  },
  {
   "cell_type": "code",
   "execution_count": 35,
   "metadata": {
    "collapsed": false
   },
   "outputs": [
    {
     "data": {
      "image/png": "[encoded data removed]",
      "text/plain": [
       "<matplotlib.figure.Figure at 0x1153e8780>"
      ]
     },
     "metadata": {},
     "output_type": "display_data"
    }
   ],
   "source": [
    "graph_surprisal_distribution_by_type(behaviour_type_table, behaviour_average_table)"
   ]
  },
  {
   "cell_type": "code",
   "execution_count": 64,
   "metadata": {
    "collapsed": false,
    "scrolled": false
   },
   "outputs": [
    {
     "data": {
      "text/html": [
       "<div>\n",
       "<table border=\"1\" class=\"dataframe\">\n",
       "  <thead>\n",
       "    <tr style=\"text-align: right;\">\n",
       "      <th></th>\n",
       "      <th>path</th>\n",
       "      <th>bank_modify</th>\n",
       "      <th>end</th>\n",
       "      <th>login</th>\n",
       "      <th>logout</th>\n",
       "      <th>sell_item</th>\n",
       "      <th>update_address</th>\n",
       "      <th>update_email</th>\n",
       "      <th>view_item</th>\n",
       "      <th>view_profile</th>\n",
       "    </tr>\n",
       "    <tr>\n",
       "      <th>user</th>\n",
       "      <th>status</th>\n",
       "      <th></th>\n",
       "      <th></th>\n",
       "      <th></th>\n",
       "      <th></th>\n",
       "      <th></th>\n",
       "      <th></th>\n",
       "      <th></th>\n",
       "      <th></th>\n",
       "      <th></th>\n",
       "    </tr>\n",
       "  </thead>\n",
       "  <tbody>\n",
       "    <tr>\n",
       "      <th rowspan=\"2\" valign=\"top\">merchant1249</th>\n",
       "      <th>fail</th>\n",
       "      <td>1</td>\n",
       "      <td>0</td>\n",
       "      <td>0</td>\n",
       "      <td>0</td>\n",
       "      <td>1</td>\n",
       "      <td>0</td>\n",
       "      <td>0</td>\n",
       "      <td>0</td>\n",
       "      <td>0</td>\n",
       "    </tr>\n",
       "    <tr>\n",
       "      <th>success</th>\n",
       "      <td>2</td>\n",
       "      <td>1</td>\n",
       "      <td>1</td>\n",
       "      <td>1</td>\n",
       "      <td>21</td>\n",
       "      <td>1</td>\n",
       "      <td>1</td>\n",
       "      <td>15</td>\n",
       "      <td>4</td>\n",
       "    </tr>\n",
       "  </tbody>\n",
       "</table>\n",
       "</div>"
      ],
      "text/plain": [
       "path                  bank_modify  end  login  logout  sell_item  \\\n",
       "user         status                                                \n",
       "merchant1249 fail               1    0      0       0          1   \n",
       "             success            2    1      1       1         21   \n",
       "\n",
       "path                  update_address  update_email  view_item  view_profile  \n",
       "user         status                                                          \n",
       "merchant1249 fail                  0             0          0             0  \n",
       "             success               1             1         15             4  "
      ]
     },
     "execution_count": 64,
     "metadata": {},
     "output_type": "execute_result"
    }
   ],
   "source": [
    "df_investigate = day1_data.loc[day1_data['user'].isin(behaviour_type_table[35])]\n",
    "df_investigate.groupby(['user', 'status', 'path']).size().unstack(fill_value=0)"
   ]
  },
  {
   "cell_type": "markdown",
   "metadata": {},
   "source": [
    "# Day 2, Let's see if we can find something"
   ]
  },
  {
   "cell_type": "markdown",
   "metadata": {},
   "source": [
    "We are now Day 2. Surprisal values are based on a different day, but if the normal distribution is anything like Day 1, the surprisal value calculated should be still relevant.\n",
    "\n",
    "Let's generate a new day of logs"
   ]
  },
  {
   "cell_type": "code",
   "execution_count": null,
   "metadata": {
    "collapsed": false
   },
   "outputs": [],
   "source": [
    "start_time = datetime(2019,1,2,0,0)\n",
    "\n",
    "if random_seed:\n",
    "    random.seed(random_seed + 1)\n",
    "\n",
    "number_of_new_users = 200    \n",
    "all_user_lists = generate_userlist(all_user_lists, number_of_new_users)\n",
    "\n",
    "todays_user_lists = random.sample(all_user_lists, number_of_daily_users)\n",
    "# maxlimit = max((len(todays_user_lists) * maxlimitrate), 1)\n",
    "\n",
    "print(len(todays_user_lists), todays_user_lists[:5])\n",
    "\n",
    "if random_seed:\n",
    "    random.seed(random_seed + 1)\n",
    "day2_logs = generate_logs(todays_user_lists, start_time)\n",
    "\n",
    "print(len(day2_logs), 'logs events generated for', len(todays_user_lists), 'users')\n",
    "\n",
    "day2_data = transform_logs_to_pandas(day2_logs)"
   ]
  },
  {
   "cell_type": "code",
   "execution_count": null,
   "metadata": {
    "collapsed": false
   },
   "outputs": [],
   "source": [
    "user_transition_score_day2 = get_user_transition_score(day2_data, transition_surprisal, 'user', 'path', 'success')"
   ]
  },
  {
   "cell_type": "code",
   "execution_count": null,
   "metadata": {
    "collapsed": false
   },
   "outputs": [],
   "source": [
    "def merge_user_transition_score(original, newtransitions):        \n",
    "    for key in original.keys():\n",
    "        if key not in newtransitions.keys():\n",
    "            newtransitions[key] = original[key]\n",
    "\n",
    "    return newtransitions\n",
    "\n",
    "user_transition_score_merged = merge_user_transition_score(user_transition_score, user_transition_score_day2)\n",
    "len(user_transition_score_merged)"
   ]
  },
  {
   "cell_type": "code",
   "execution_count": null,
   "metadata": {
    "collapsed": false
   },
   "outputs": [],
   "source": [
    "cumulative_score = [[v,sum(user_transition_score_merged[v].values())] for v in [k for k in list(user_transition_score_merged.keys())]]\n",
    "\n",
    "df_cumulative_score = pd.DataFrame(cumulative_score, columns=['user', 'surprisal'])\n",
    "\n",
    "avg = df_cumulative_score['surprisal'].mean()\n",
    "std = df_cumulative_score['surprisal'].std()\n",
    "df_cumulative_score['z'] = (df_cumulative_score['surprisal'] - avg) / std\n",
    "\n",
    "df_cumulative_score.loc[df_cumulative_score['z'] >= 2].sort_values(by=['surprisal'], ascending=False)"
   ]
  },
  {
   "cell_type": "code",
   "execution_count": null,
   "metadata": {
    "collapsed": true
   },
   "outputs": [],
   "source": [
    "if random_seed:\n",
    "    random.seed(random_seed)\n",
    "\n",
    "unclassified_user_lists = random.sample(list(user_transition_score_merged.keys()), len(list(user_transition_score_merged.keys())))"
   ]
  },
  {
   "cell_type": "code",
   "execution_count": null,
   "metadata": {
    "collapsed": false
   },
   "outputs": [],
   "source": [
    "%%time\n",
    "# while there are unclassified users\n",
    "while len(unclassified_user_lists):\n",
    "    classify_users_in_list(unclassified_user_lists, behaviour_type_table, user_transition_score_merged, maxlimit)\n",
    "\n",
    "for k in behaviour_type_table.keys():\n",
    "    type_average = np.mean([sum(user_transition_score_merged[x].values()) for x in behaviour_type_table[k]])\n",
    "    print(k, type_average, len(behaviour_type_table[k]), cheat_lookup_all_users(behaviour_type_table[k]))"
   ]
  },
  {
   "cell_type": "markdown",
   "metadata": {},
   "source": [
    "# Day 3: Automatically Classifying Users\n",
    "\n",
    "At one point, we still need to classify behaviours. Using Naive Bayes over the actions, we can score each users to the likely category they belong too.\n",
    "\n",
    "Could we have done that without looking for the outliers? Yes, but we still need to identify which users is normal and which one is likely not.\n",
    "\n",
    "At first, we need to calculate the probability distribution of each actions for each categories."
   ]
  },
  {
   "cell_type": "code",
   "execution_count": null,
   "metadata": {
    "collapsed": false
   },
   "outputs": [],
   "source": [
    "start_time = datetime(2019,1,3,0,0)\n",
    "\n",
    "if random_seed:\n",
    "    random.seed(random_seed + 1)\n",
    "\n",
    "number_of_new_users = 200    \n",
    "all_user_lists = generate_userlist(all_user_lists, number_of_new_users)\n",
    "\n",
    "todays_user_lists = random.sample(all_user_lists, number_of_daily_users)\n",
    "\n",
    "print(len(todays_user_lists), todays_user_lists[:5])\n",
    "\n",
    "if random_seed:\n",
    "    random.seed(random_seed + 1)\n",
    "day3_logs = generate_logs(todays_user_lists, start_time)\n",
    "\n",
    "print(len(day3_logs), 'logs events generated for', len(todays_user_lists), 'users')\n",
    "\n",
    "day3_data = transform_logs_to_pandas(day3_logs)"
   ]
  },
  {
   "cell_type": "code",
   "execution_count": null,
   "metadata": {
    "collapsed": false
   },
   "outputs": [],
   "source": [
    "user_transition_score_day3 = get_user_transition_score(day3_data, transition_surprisal, 'user', 'path', 'success')\n",
    "user_transition_score_merged = merge_user_transition_score(user_transition_score_merged, user_transition_score_day3)\n",
    "len(user_transition_score_merged)"
   ]
  },
  {
   "cell_type": "code",
   "execution_count": null,
   "metadata": {
    "collapsed": true
   },
   "outputs": [],
   "source": [
    "if random_seed:\n",
    "    random.seed(random_seed)\n",
    "\n",
    "unclassified_user_lists = random.sample(list(user_transition_score_merged.keys()), len(list(user_transition_score_merged.keys())))"
   ]
  },
  {
   "cell_type": "code",
   "execution_count": null,
   "metadata": {
    "collapsed": false
   },
   "outputs": [],
   "source": [
    "%%time\n",
    "# while there are unclassified users\n",
    "while len(unclassified_user_lists):\n",
    "    classify_users_in_list(unclassified_user_lists, behaviour_type_table, user_transition_score_merged, maxlimit)\n",
    "\n",
    "for k in behaviour_type_table.keys():\n",
    "    type_average = np.mean([sum(user_transition_score_merged[x].values()) for x in behaviour_type_table[k]])\n",
    "    print(k, type_average, len(behaviour_type_table[k]), cheat_lookup_all_users(behaviour_type_table[k]))"
   ]
  },
  {
   "cell_type": "markdown",
   "metadata": {},
   "source": [
    "# Day 4: Automatically Classifying Users\n",
    "\n",
    "At one point, we still need to classify behaviours. Using Naive Bayes over the actions, we can score each users to the likely category they belong too.\n",
    "\n",
    "Could we have done that without looking for the outliers? Yes, but we still need to identify which users is normal and which one is likely not.\n",
    "\n",
    "At first, we need to calculate the probability distribution of each actions for each categories."
   ]
  },
  {
   "cell_type": "code",
   "execution_count": null,
   "metadata": {
    "collapsed": false
   },
   "outputs": [],
   "source": [
    "start_time = datetime(2019,1,4,0,0)\n",
    "\n",
    "if random_seed:\n",
    "    random.seed(random_seed + 1)\n",
    "\n",
    "number_of_new_users = 200    \n",
    "all_user_lists = generate_userlist(all_user_lists, number_of_new_users)\n",
    "\n",
    "todays_user_lists = random.sample(all_user_lists, number_of_daily_users)\n",
    "maxlimit = max((len(todays_user_lists) * maxlimitrate), 1)\n",
    "\n",
    "print(len(todays_user_lists), todays_user_lists[:5])\n",
    "\n",
    "if random_seed:\n",
    "    random.seed(random_seed + 1)\n",
    "day4_logs = generate_logs(todays_user_lists, start_time)\n",
    "\n",
    "print(len(day4_logs), 'logs events generated for', len(todays_user_lists), 'users')\n",
    "\n",
    "day4_data = transform_logs_to_pandas(day4_logs)"
   ]
  },
  {
   "cell_type": "code",
   "execution_count": null,
   "metadata": {
    "collapsed": false
   },
   "outputs": [],
   "source": [
    "user_transition_score_day4 = get_user_transition_score(day4_data, transition_surprisal, 'user', 'path', 'success')\n",
    "user_transition_score_merged = merge_user_transition_score(user_transition_score_merged, user_transition_score_day4)\n",
    "len(user_transition_score_merged)"
   ]
  },
  {
   "cell_type": "code",
   "execution_count": null,
   "metadata": {
    "collapsed": true
   },
   "outputs": [],
   "source": [
    "if random_seed:\n",
    "    random.seed(random_seed)\n",
    "\n",
    "unclassified_user_lists = random.sample(list(user_transition_score_merged.keys()), len(list(user_transition_score_merged.keys())))"
   ]
  },
  {
   "cell_type": "code",
   "execution_count": null,
   "metadata": {
    "collapsed": false
   },
   "outputs": [],
   "source": [
    "%%time\n",
    "# while there are unclassified users\n",
    "while len(unclassified_user_lists):\n",
    "    classify_users_in_list(unclassified_user_lists, behaviour_type_table, user_transition_score_merged, maxlimit)\n",
    "\n",
    "for k in behaviour_type_table.keys():\n",
    "    type_average = np.mean([sum(user_transition_score_merged[x].values()) for x in behaviour_type_table[k]])\n",
    "    print(k, type_average, len(behaviour_type_table[k]), cheat_lookup_all_users(behaviour_type_table[k]))"
   ]
  }
 ],
 "metadata": {
  "kernelspec": {
   "display_name": "Python 3",
   "language": "python",
   "name": "python3"
  },
  "language_info": {
   "codemirror_mode": {
    "name": "ipython",
    "version": 3
   },
   "file_extension": ".py",
   "mimetype": "text/x-python",
   "name": "python",
   "nbconvert_exporter": "python",
   "pygments_lexer": "ipython3",
   "version": "3.6.0"
  }
 },
 "nbformat": 4,
 "nbformat_minor": 2
}
