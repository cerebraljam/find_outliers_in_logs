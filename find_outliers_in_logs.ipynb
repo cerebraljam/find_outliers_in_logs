{
 "cells": [
  {
   "cell_type": "markdown",
   "metadata": {},
   "source": [
    "# How to group users and identify outliers in a log stream, based on behaviour\n",
    "\n",
    "## What is demonstrated in this notebook\n",
    "\n",
    "In this notebook I demonstrate, from a (generated) stream of logs, how to group users by behaviour, and how to highlight which behaviour group an analyst should focus his attention on. \n",
    "\n",
    "This method is good when monitoring a stable and closed system, with a finite number of possible actions and known definition of success and failure.\n",
    "\n",
    "Probabilities are based on a \"Subject (unique key), Action (ex.: login), Outcome (success/fail)\" discrete format. Continuous Action variables would need to be reduced to discrete output to fit this model.\n",
    "\n",
    "## Why is this a hard problem?\n",
    "\n",
    "What is a normal action? Which one is suspect? The answer is \"it depends\". \n",
    "\n",
    "To group individual together, we need a way to classify each action taken over time, and somehow group them together. A clustering function like KMean requires us to know how many cluster we have, and we need mesurable features to group them together. Normal clustering functions lose in efficiency the more we add features.\n",
    "\n",
    "Machine learning techniques are also great to identify patterns over a large number of repeating features, but struggle to handle unusual events especially when data is skewed by a high volume of \"normal\" actions. This is why in text analysis we normally remove common [English stop words](https://www.ranks.nl/stopwords). But what if these stop words were necessary to identfy an outlier? How can we keep them without debalancing everything?\n",
    "\n",
    "One other hypothesis would be to use Hidden Markov Chains, but for HNN, we need classified data. Sequences also need to be somehow of a consistent length, but users are most likely not to follow a straight pattern from A to B, which complicates the creation of HMM.\n",
    "\n",
    "Another approach would be to use rules. Classically, Intrusion detection systems recognize a set of patterns, and uses thresholds to know when to raise a flag, generating a large number of false positive. A rule based system is also unlikely to be able to detect the usage of normal functions in an abusive way.\n",
    "\n",
    "In the end, we need each features from all possible events to be classified and scored somehow, and we need a way to group these scores together.\n",
    "\n",
    "## Approach taken\n",
    "\n",
    "### What this notebook is the following\n",
    "\n",
    "* Step 1: We calculate the probability of each sequences of actions being taken by all users over a defined period of time (ex.: 1 day). From these probabilities, we create a lookup table for each possible sequence.\n",
    "* Step 2: For each users, we sum the probability (using logarithm base 2) for each action taken. Depending on the likelyhood of each action, this will create different profiles per user.\n",
    "* Step 3: Using the profile created on Step 2, we group them together by calculating the \"distance\" between all actions. If the distance is small, then the users have similar behaviour profile. If the distance is far, then they have different behaviour.\n",
    "* Step 4: With all users grouped together, we can quickly analyse a group of user and label that group with a usage profile. This profile shouldn't change over time. If new behaviours are observed, new groups will be created. An analyst then only have to pay attention to the new group and groups identified as malicious when monitoring a system.\n",
    "\n",
    "### Caviats\n",
    "\n",
    "* For Step 1, this can be done on a live stream of logs, but for systems generating a large quantify of logs, this could result in integer overflow. Using rolling windows (ex.: calculate for a period, then use these probabilities distribution to analyse the next period, while creating a new distribution for the next period) might be a better solution.\n",
    "* For Step 2, this works better when there is a clear start and end of sequence for a user. As it is coded right now, scoring a partial session would end up creating a large quantity of behaviour group, which could be noisy. However, this could be interesting to identify a list of \"opening moves\".\n",
    "* For Step 3, the \"distance\" between each users is somewhat arbitrary selected. If we impose a short maximum distance (ex.: 5, 0 being perfectly identical), then this method will generate a large number of groups to represent all possible behaviours, but if we use a larger maximum distance (ex.: 10), then we increase the likelihood of having misclassifications and group outlier with normal users.\n",
    "* For Step 4: None here :-D This is where I would start configuring rules or send data to a machine learning model, because users are now classified in limited groups.\n",
    "\n",
    "## The theory behind the approach\n",
    "\n",
    "Information Theory is normally used for signal analysis and compression. By using Surprisal Analysis and Kullback–Leibler divergence, we can group similar behaviour togethers.\n",
    "\n",
    "* [Information Content](https://en.wikipedia.org/wiki/Information_content)\n",
    "* [Surprisal Analysis](https://en.wikipedia.org/wiki/Surprisal_analysis)\n",
    "* [Kullback–Leibler divergence](https://en.wikipedia.org/wiki/Kullback%E2%80%93Leibler_divergence)\n",
    "* [Example of Surprisal](http://www.umsl.edu/~fraundorfp/egsurpri.html)\n",
    "\n",
    "Basically, Surprisal Analysis is a way to measure (in bits) how surprised we should be when looking at a specific behaviour. \n",
    "\n",
    "For example:\n",
    "* There is 1/6 chance to roll a 6 on a d6 die, gives us -log2(1/6) ~= 2.4849 bits of information. If you are playing D&D, you will be happily surprised.\n",
    "* Not rolling a 6 on a die represents -log2(5/6) ~= 0.263 bits. So rolling anything but a 6 in that same D&D game will most likely leave you dissapointed. \n",
    "* The chance of rolling 10 x 6 in a row on a die is 1/60466176 (10 * -log2(1/6) ~= 25.85 bits). This is highly unlikely.\n",
    "\n",
    "So later when we look at the surprisal score of a user and we see 51550 (bits), this tells us that what this user did is really, really unlikely.\n",
    "\n",
    "This also tells us that if the total surprisal score of the actions of a user is low, then we can safely assume that the actions taken by that user are normal.\n",
    "\n",
    "Surprisal are calculated using Log base 2, which has the nice particularity to be additive instead of being multiplied like probabilities, keeping numbers relatively small and easy to manipulate.\n",
    "\n",
    "This is what this notebook intend to demonstrate: Using Surprisal analysis, we will assign a score to actions, and by adding up the score of each action, identify series of actions that are unlikely to occur.\n"
   ]
  },
  {
   "cell_type": "markdown",
   "metadata": {},
   "source": [
    "# Step 0: We need logs\n",
    "\n",
    "What is explained in this notebook can be applied to real logs, but for the experimentation, I generate logs for simulated users based on a determined probability distribution.\n",
    "\n",
    "## Caviat: I use some cheats to demonstrate how the notebook works...\n",
    "\n",
    "But these cheats are not necessary to make this technique work. However, I did use that cheat at first to identify the most efficient \"distance\" to use in Step 3. \n",
    "\n",
    "\n",
    "## Different User Profiles Generated By The Library\n",
    "\n",
    "The following profiles are being generated.\n",
    "\n",
    "Normal users\n",
    "* Buyer\n",
    "* Merchants\n",
    "\n",
    "Abnormal users:\n",
    "* Scraper bots\n",
    "* Spammers\n",
    "* fraudster\n",
    "* Account Attackers\n",
    "\n",
    "Buyers and merchants represent 98% of our logs. Leaving 2% to the abnormal users. However, the actions taken by each users being on a probability distribution. \n",
    "\n",
    "It is possible to see an \"attakcer\" user being classified as a user, because that attacked might have had a change of heart and didn't attack after all. This allows us to demonstrate that this approach is not perfect: a small quantity of unlikely actions will most probably pass under the radar if we just look at the score of each user. That attacker might however be identified if the actions doesn't match the ones of normal users, which would generate a new group and single him/her out.\n"
   ]
  },
  {
   "cell_type": "code",
   "execution_count": 1,
   "metadata": {
    "collapsed": false
   },
   "outputs": [],
   "source": [
    "## This cell initialize the libraries needed for this notebook, \n",
    "## along with the blackbox functions used to generate the users and logs\n",
    "\n",
    "import random\n",
    "import numpy as np\n",
    "import pandas as pd\n",
    "from datetime import datetime, date, time, timedelta\n",
    "from math import log, pow\n",
    "\n",
    "%load_ext autoreload\n",
    "%autoreload 2\n",
    "\n",
    "from blackbox import distribution as user_profile_distribution\n",
    "from blackbox import generate_userlist, generate_logs, cheat_calculate_hit_rate, cheat_lookup_all_users\n",
    "\n",
    "magic = user_profile_distribution()"
   ]
  },
  {
   "cell_type": "markdown",
   "metadata": {},
   "source": [
    "# Step 0.1: Generating The User Database\n",
    "\n",
    "The following cells generates our users.\n",
    "\n",
    "Note: I often reinitializing the random seed, just to keep the testing consistence. Setting *random_seed* to False will generate new data every time."
   ]
  },
  {
   "cell_type": "code",
   "execution_count": 2,
   "metadata": {
    "collapsed": true
   },
   "outputs": [],
   "source": [
    "## Initial number of users in our system\n",
    "number_of_daily_users = 3000 # The more we add users, the longer the notebook takes to run."
   ]
  },
  {
   "cell_type": "code",
   "execution_count": 3,
   "metadata": {
    "collapsed": false
   },
   "outputs": [
    {
     "name": "stdout",
     "output_type": "stream",
     "text": [
      "3000 users in the database. Type of the 15 firsts: ['buyer', 'buyer', 'merchant', 'merchant', 'merchant', 'buyer', 'merchant', 'buyer', 'buyer', 'merchant', 'merchant', 'spammer', 'merchant', 'merchant', 'buyer']\n"
     ]
    }
   ],
   "source": [
    "random_seed = 42\n",
    "\n",
    "if random_seed:\n",
    "    random.seed(random_seed)\n",
    "\n",
    "all_user_lists = [] # Later on, we can add users to our list by supplying it to the generate_userlist function\n",
    "\n",
    "## We define how many new users to add\n",
    "number_of_new_users = number_of_daily_users - len(all_user_lists)\n",
    "\n",
    "all_user_lists = generate_userlist(all_user_lists, number_of_new_users)\n",
    "todays_user_lists = random.sample(all_user_lists, number_of_daily_users)\n",
    "\n",
    "print(len(todays_user_lists), 'users in the database. Type of the 15 firsts:', todays_user_lists[:15])"
   ]
  },
  {
   "cell_type": "markdown",
   "metadata": {},
   "source": [
    "# Step 0.2: Generating Logs For Day 1\n",
    "\n",
    "Note: The more users we have, the more log events will be generated. The probability distribution of each user ensures that they will start with a defined action, crawl the site following a defined pattern, and logout eventually, until the end of the day."
   ]
  },
  {
   "cell_type": "code",
   "execution_count": 4,
   "metadata": {
    "collapsed": false
   },
   "outputs": [
    {
     "name": "stdout",
     "output_type": "stream",
     "text": [
      "69095 log events generated for 3000 users\n",
      "CPU times: user 17.8 s, sys: 87 ms, total: 17.9 s\n",
      "Wall time: 18 s\n"
     ]
    }
   ],
   "source": [
    "%%time\n",
    "if random_seed:\n",
    "    random.seed(random_seed)\n",
    "\n",
    "start_time = datetime(2019,1,1,0,0)\n",
    "day1_logs = generate_logs(todays_user_lists, start_time)\n",
    "\n",
    "print(len(day1_logs), 'log events generated for', len(todays_user_lists), 'users')"
   ]
  },
  {
   "cell_type": "markdown",
   "metadata": {},
   "source": [
    "## Transforming the logs in a pandas dataframe (for this notebook...)\n",
    "\n",
    "The transition surprisal lookup table used in this notebook calculates scores based on the movements of the users between each actions. For example:\n",
    "\n",
    "* login -> view_items (success) will result in a low surpisal value\n",
    "* login -> buy_item (success) never happened. If this sequence happen, this should be a huge red flag.\n",
    "\n",
    "Notice that there is one level skipped here: the status of the previous path isn't taken into consideration. Adding it would definitely make the calculations more sensitive to anomalies, but with the cost of an increase on complexity."
   ]
  },
  {
   "cell_type": "code",
   "execution_count": 5,
   "metadata": {
    "collapsed": false
   },
   "outputs": [
    {
     "name": "stdout",
     "output_type": "stream",
     "text": [
      "                    time          user   path status  uidx  realtype  \\\n",
      "2    2019-01-01 00:01:14      buyer166  login   fail   166     buyer   \n",
      "4    2019-01-01 00:01:35      buyer166  login   fail   166     buyer   \n",
      "200  2019-01-01 00:14:55  attacker2467  login   fail  2467  attacker   \n",
      "202  2019-01-01 00:15:00  attacker2467  login   fail  2467  attacker   \n",
      "204  2019-01-01 00:15:01  attacker2467  login   fail  2467  attacker   \n",
      "\n",
      "    prev_path prev_status  \n",
      "2                          \n",
      "4       login        fail  \n",
      "200                        \n",
      "202     login        fail  \n",
      "204     login        fail  \n"
     ]
    }
   ],
   "source": [
    "def transform_logs_to_pandas(logs):\n",
    "    data = pd.DataFrame(np.array(logs), columns=['time', 'user', 'path', 'status', 'uidx', 'realtype'])\n",
    "    \n",
    "    data['prev_path'] = data.groupby(['user'])['path'].shift(1)\n",
    "    data['prev_path'] = data['prev_path'].fillna(\"\")\n",
    "\n",
    "    data['prev_status'] = data.groupby(['user'])['status'].shift(1)\n",
    "    data['prev_status'] = data['prev_status'].fillna(\"\")\n",
    "    return data\n",
    "    \n",
    "day1_data = transform_logs_to_pandas(day1_logs)\n",
    "\n",
    "\n",
    "# Example of failed actions in the logs. uidx and realtype are \"cheat\" columns, and not necessary in a real case usage.\n",
    "\n",
    "print(day1_data.loc[(day1_data['path'] == 'login') & (day1_data['status'] == 'fail')].head())"
   ]
  },
  {
   "cell_type": "markdown",
   "metadata": {},
   "source": [
    "## Step 1 : Generate the transition lookup table\n",
    "\n",
    "**This is where the magic happens.**\n",
    "\n",
    "The following cell generates the transition lookup table used to score each actions taken by the users.\n",
    "\n",
    "The format is as follow:\n",
    "\n",
    "```\n",
    "['current path'],['previous path']: {\n",
    "    'fail': 0, # How many time this action transition failed. (ex. View Items: Success, from: Login: Success)\n",
    "    'success': 13, # How many time this action transition succeded (ex. View Items: Fail, from: Login: Success)\n",
    "    'fsurprisal': 11.266786540694902, # Surprisal value if there is a failure happens\n",
    "    'ssurprisal': 7.56634682255381 # Surprisal value if that action is successful.\n",
    "    }\n",
    "```\n",
    "\n",
    "The surprisal value is directly related to the likelihood of an actions happening. If an actions is observed successfully few million times, then the successful surprisal value will be really low. However, the failure surprisal will be much higher if it never happens."
   ]
  },
  {
   "cell_type": "code",
   "execution_count": 6,
   "metadata": {
    "collapsed": false
   },
   "outputs": [],
   "source": [
    "def init_transition_surprisal_lookup(data, key, prev_key, feature, success):\n",
    "    surprisal = {}\n",
    "\n",
    "    for pkey in data[key].unique():\n",
    "        data_for_pkey = data.loc[(data[key] == pkey)]\n",
    "        denum = len(data.loc[(data[key] == pkey)])\n",
    "\n",
    "        for ppkey in data_for_pkey[prev_key].unique():\n",
    "            ds = data_for_pkey.loc[(data_for_pkey[prev_key] == ppkey) & (data_for_pkey[feature] == success)]\n",
    "            df = data_for_pkey.loc[(data_for_pkey[prev_key] == ppkey) & (data_for_pkey[feature] != success)]\n",
    "\n",
    "            dsuccess = len(ds) * 1.0\n",
    "            dfail = len(df) * 1.0\n",
    "\n",
    "            if dsuccess == 0:\n",
    "                dsuccess = 1.0 \n",
    "\n",
    "            if dfail == 0:\n",
    "                dfail = 1.0\n",
    "\n",
    "            if (pkey not in surprisal.keys()):\n",
    "                surprisal[pkey] = {}\n",
    "\n",
    "            surprisal[pkey][ppkey] = {\n",
    "                'success': len(ds), \n",
    "                'fail': len(df), \n",
    "                'ssurprisal': log(1/(dsuccess / denum),2), # Magic!!\n",
    "                'fsurprisal': log(1/(dfail / denum),2), # Magic!!\n",
    "            }\n",
    "    return surprisal\n",
    "\n",
    "transition_surprisal = init_transition_surprisal_lookup(day1_data, 'path', 'prev_path', 'status', 'success')"
   ]
  },
  {
   "cell_type": "markdown",
   "metadata": {},
   "source": [
    "The next cell creates a wrapper function for the transition surprisal lookup table. If the sequence was previously observed, it will return it, and will return the probability of 1 over the total number of actions taken (unlikely) for unobserved events, making them stand out."
   ]
  },
  {
   "cell_type": "code",
   "execution_count": 7,
   "metadata": {
    "collapsed": false
   },
   "outputs": [
    {
     "data": {
      "text/plain": [
       "{'fail': 1,\n",
       " 'fsurprisal': 11.903128676812319,\n",
       " 'ssurprisal': 7.095773754754716,\n",
       " 'success': 28}"
      ]
     },
     "execution_count": 7,
     "metadata": {},
     "output_type": "execute_result"
    }
   ],
   "source": [
    "def get_transition_surprisal(path, prev_path, surprisal, data):\n",
    "    if path not in list(surprisal.keys()):\n",
    "        denum = len(data)\n",
    "        return {\n",
    "            'fail': 0,\n",
    "            'success': 0,\n",
    "            'ssurprisal': log(1/(1/denum),2),\n",
    "            'fsurprisal': log(1/(1/denum),2),\n",
    "        }\n",
    "    else:\n",
    "        if prev_path not in list(surprisal[path].keys()):\n",
    "            denum = len(data.loc[(data['path'] == path)])\n",
    "            return {\n",
    "                'fail': 0,\n",
    "                'success': 0,\n",
    "                'ssurprisal': log(1/(1/denum),2),\n",
    "                'fsurprisal': log(1/(1/denum),2),\n",
    "            }\n",
    "        else:\n",
    "            return surprisal[path][prev_path]\n",
    "\n",
    "# Usage example: what is the surprisal values for a \"buy_item\" action \n",
    "# if the user just logged in on the previous action?\n",
    "get_transition_surprisal('buy_item', 'login', transition_surprisal, day1_data)"
   ]
  },
  {
   "cell_type": "markdown",
   "metadata": {},
   "source": [
    "# Step 2: For each users, sum the probability for each action taken.\n",
    "\n",
    "The following function takes the dataframe with all the logs for a day, and returns the sum of the surprisal values, conditional to a success or a failure, for each actions taken by a user."
   ]
  },
  {
   "cell_type": "code",
   "execution_count": 8,
   "metadata": {
    "collapsed": false
   },
   "outputs": [],
   "source": [
    "def get_user_transition_score(data, surprisal, key, feature, success_val):\n",
    "    accumulator = {}\n",
    "    key_last_path = {}\n",
    "    \n",
    "    for index,row in data.iterrows():\n",
    "        if row[key] not in key_last_path.keys():\n",
    "            key_last_path[row[key]] = \"\"\n",
    "            \n",
    "        if row[key] not in accumulator.keys():\n",
    "            accumulator[row[key]] = {k:0 for k in data[feature].unique()}\n",
    "            \n",
    "        if row[feature] is success_val:\n",
    "            accumulator[row[key]][row[feature]] += get_transition_surprisal(row[feature],key_last_path[row[key]], surprisal, data)['ssurprisal']\n",
    "        else:\n",
    "            accumulator[row[key]][row[feature]] += get_transition_surprisal(row[feature],key_last_path[row[key]], surprisal, data)['fsurprisal']\n",
    "\n",
    "        key_last_path[row[key]] = row[feature]\n",
    "                                    \n",
    "    return accumulator\n",
    "\n",
    "\n",
    "user_transition_score = get_user_transition_score(day1_data, transition_surprisal, 'user', 'path', 'success')"
   ]
  },
  {
   "cell_type": "markdown",
   "metadata": {},
   "source": [
    "## Optional (but useful): Identify how shady are each outliers\n",
    "\n",
    "The following three cells calculate the mean and standard deviation of each users, and display the users with a score of 2 or more standard deviations."
   ]
  },
  {
   "cell_type": "code",
   "execution_count": 9,
   "metadata": {
    "collapsed": true
   },
   "outputs": [],
   "source": [
    "cumulative_score = [[v,sum(user_transition_score[v].values())] for v in [k for k in list(user_transition_score.keys())]]\n",
    "\n",
    "df_cumulative_score = pd.DataFrame(cumulative_score, columns=['user', 'surprisal'])\n",
    "\n",
    "avg = df_cumulative_score['surprisal'].mean()\n",
    "std = df_cumulative_score['surprisal'].std()\n",
    "df_cumulative_score['z'] = (df_cumulative_score['surprisal'] - avg) / std\n"
   ]
  },
  {
   "cell_type": "code",
   "execution_count": 10,
   "metadata": {
    "collapsed": false
   },
   "outputs": [
    {
     "data": {
      "text/html": [
       "<div>\n",
       "<table border=\"1\" class=\"dataframe\">\n",
       "  <thead>\n",
       "    <tr style=\"text-align: right;\">\n",
       "      <th></th>\n",
       "      <th>user</th>\n",
       "      <th>surprisal</th>\n",
       "      <th>z</th>\n",
       "    </tr>\n",
       "  </thead>\n",
       "  <tbody>\n",
       "    <tr>\n",
       "      <th>1451</th>\n",
       "      <td>bot1392</td>\n",
       "      <td>34192.771972</td>\n",
       "      <td>30.525805</td>\n",
       "    </tr>\n",
       "    <tr>\n",
       "      <th>2407</th>\n",
       "      <td>bot831</td>\n",
       "      <td>29638.440077</td>\n",
       "      <td>26.438511</td>\n",
       "    </tr>\n",
       "    <tr>\n",
       "      <th>910</th>\n",
       "      <td>bot524</td>\n",
       "      <td>22653.550349</td>\n",
       "      <td>20.169908</td>\n",
       "    </tr>\n",
       "    <tr>\n",
       "      <th>1972</th>\n",
       "      <td>bot2148</td>\n",
       "      <td>18399.108431</td>\n",
       "      <td>16.351751</td>\n",
       "    </tr>\n",
       "    <tr>\n",
       "      <th>529</th>\n",
       "      <td>bot202</td>\n",
       "      <td>17577.598547</td>\n",
       "      <td>15.614486</td>\n",
       "    </tr>\n",
       "    <tr>\n",
       "      <th>1204</th>\n",
       "      <td>bot1387</td>\n",
       "      <td>17495.991605</td>\n",
       "      <td>15.541248</td>\n",
       "    </tr>\n",
       "    <tr>\n",
       "      <th>870</th>\n",
       "      <td>bot194</td>\n",
       "      <td>8600.834908</td>\n",
       "      <td>7.558272</td>\n",
       "    </tr>\n",
       "    <tr>\n",
       "      <th>315</th>\n",
       "      <td>bot1972</td>\n",
       "      <td>8094.871867</td>\n",
       "      <td>7.104195</td>\n",
       "    </tr>\n",
       "    <tr>\n",
       "      <th>502</th>\n",
       "      <td>bot691</td>\n",
       "      <td>7153.671801</td>\n",
       "      <td>6.259513</td>\n",
       "    </tr>\n",
       "    <tr>\n",
       "      <th>76</th>\n",
       "      <td>bot1183</td>\n",
       "      <td>6756.518015</td>\n",
       "      <td>5.903087</td>\n",
       "    </tr>\n",
       "  </tbody>\n",
       "</table>\n",
       "</div>"
      ],
      "text/plain": [
       "         user     surprisal          z\n",
       "1451  bot1392  34192.771972  30.525805\n",
       "2407   bot831  29638.440077  26.438511\n",
       "910    bot524  22653.550349  20.169908\n",
       "1972  bot2148  18399.108431  16.351751\n",
       "529    bot202  17577.598547  15.614486\n",
       "1204  bot1387  17495.991605  15.541248\n",
       "870    bot194   8600.834908   7.558272\n",
       "315   bot1972   8094.871867   7.104195\n",
       "502    bot691   7153.671801   6.259513\n",
       "76    bot1183   6756.518015   5.903087"
      ]
     },
     "execution_count": 10,
     "metadata": {},
     "output_type": "execute_result"
    }
   ],
   "source": [
    "# List all users with a zscore over 2.\n",
    "df_cumulative_score.loc[df_cumulative_score['z'] >= 2].sort_values(by=['surprisal'], ascending=False)"
   ]
  },
  {
   "cell_type": "code",
   "execution_count": 11,
   "metadata": {
    "collapsed": false
   },
   "outputs": [
    {
     "data": {
      "text/html": [
       "<div>\n",
       "<table border=\"1\" class=\"dataframe\">\n",
       "  <thead>\n",
       "    <tr style=\"text-align: right;\">\n",
       "      <th></th>\n",
       "      <th>user</th>\n",
       "      <th>surprisal</th>\n",
       "      <th>z</th>\n",
       "    </tr>\n",
       "  </thead>\n",
       "  <tbody>\n",
       "    <tr>\n",
       "      <th>2226</th>\n",
       "      <td>buyer966</td>\n",
       "      <td>20.231532</td>\n",
       "      <td>-0.142406</td>\n",
       "    </tr>\n",
       "    <tr>\n",
       "      <th>222</th>\n",
       "      <td>attacker1130</td>\n",
       "      <td>16.531092</td>\n",
       "      <td>-0.145727</td>\n",
       "    </tr>\n",
       "    <tr>\n",
       "      <th>1553</th>\n",
       "      <td>attacker721</td>\n",
       "      <td>16.531092</td>\n",
       "      <td>-0.145727</td>\n",
       "    </tr>\n",
       "    <tr>\n",
       "      <th>1834</th>\n",
       "      <td>attacker1073</td>\n",
       "      <td>16.531092</td>\n",
       "      <td>-0.145727</td>\n",
       "    </tr>\n",
       "    <tr>\n",
       "      <th>120</th>\n",
       "      <td>fraudster1293</td>\n",
       "      <td>11.545447</td>\n",
       "      <td>-0.150202</td>\n",
       "    </tr>\n",
       "    <tr>\n",
       "      <th>1546</th>\n",
       "      <td>buyer2158</td>\n",
       "      <td>11.545447</td>\n",
       "      <td>-0.150202</td>\n",
       "    </tr>\n",
       "    <tr>\n",
       "      <th>1335</th>\n",
       "      <td>buyer1840</td>\n",
       "      <td>11.545447</td>\n",
       "      <td>-0.150202</td>\n",
       "    </tr>\n",
       "    <tr>\n",
       "      <th>2904</th>\n",
       "      <td>merchant142</td>\n",
       "      <td>11.545447</td>\n",
       "      <td>-0.150202</td>\n",
       "    </tr>\n",
       "    <tr>\n",
       "      <th>649</th>\n",
       "      <td>buyer540</td>\n",
       "      <td>11.545447</td>\n",
       "      <td>-0.150202</td>\n",
       "    </tr>\n",
       "    <tr>\n",
       "      <th>2998</th>\n",
       "      <td>buyer238</td>\n",
       "      <td>4.985645</td>\n",
       "      <td>-0.156089</td>\n",
       "    </tr>\n",
       "  </tbody>\n",
       "</table>\n",
       "</div>"
      ],
      "text/plain": [
       "               user  surprisal         z\n",
       "2226       buyer966  20.231532 -0.142406\n",
       "222    attacker1130  16.531092 -0.145727\n",
       "1553    attacker721  16.531092 -0.145727\n",
       "1834   attacker1073  16.531092 -0.145727\n",
       "120   fraudster1293  11.545447 -0.150202\n",
       "1546      buyer2158  11.545447 -0.150202\n",
       "1335      buyer1840  11.545447 -0.150202\n",
       "2904    merchant142  11.545447 -0.150202\n",
       "649        buyer540  11.545447 -0.150202\n",
       "2998       buyer238   4.985645 -0.156089"
      ]
     },
     "execution_count": 11,
     "metadata": {},
     "output_type": "execute_result"
    }
   ],
   "source": [
    "# List the 10 most boring users.\n",
    "df_cumulative_score.sort_values(by=['surprisal'], ascending=False).tail(10)"
   ]
  },
  {
   "cell_type": "markdown",
   "metadata": {},
   "source": [
    "## Cheat cell: Identify the ideal \"distance\" to increase the True Positive rate, and reduce the False Positive Rate\n",
    "\n",
    "Without using this cheat, we need to guess the ideal \"distance\". From experimentation, this should be between 4 and 8. 9 and more will cause a higher rate of False Positive."
   ]
  },
  {
   "cell_type": "code",
   "execution_count": 12,
   "metadata": {
    "collapsed": false
   },
   "outputs": [
    {
     "name": "stdout",
     "output_type": "stream",
     "text": [
      "best 2 {True: {True: 0.9354838709677419, False: 0.12112308194580476}, False: {True: 0.06451612903225806, False: 0.8788769180541952}} 0.9354838709677419 0.12112308194580476 0.5283034764567733 2\n",
      "limit 2\n",
      "count True {True: 165, False: 13}\n",
      "count False {True: 380, False: 2691}\n",
      "percent True {True: 0.9269662921348315, False: 0.12373819602735266}\n",
      "percent False {True: 0.07303370786516854, False: 0.8762618039726473}\n"
     ]
    }
   ],
   "source": [
    "np.seterr(divide='ignore', invalid='ignore', over='ignore')\n",
    "\n",
    "if random_seed:\n",
    "    np.random.seed(random_seed)\n",
    "\n",
    "maxlimit = 1\n",
    "maxtp = 0\n",
    "mintn = 1\n",
    "best_flat_lookup = {}\n",
    "\n",
    "for l in range(2, 10):\n",
    "    flat_status, flat_lookup = cheat_calculate_hit_rate(day1_data, user_transition_score, l)\n",
    "    if maxtp <= flat_lookup[True][True] and mintn >= flat_lookup[True][False]:\n",
    "        maxtp = flat_lookup[True][True]\n",
    "        mintn = flat_lookup[True][False]\n",
    "        maxlimit = l\n",
    "        print('best', l, flat_lookup, maxtp, mintn, (maxtp+mintn)/2,maxlimit)\n",
    "    \n",
    "\n",
    "flat_status, flat_lookup = cheat_calculate_hit_rate(day1_data, user_transition_score, maxlimit)\n",
    "\n",
    "print('limit', maxlimit)\n",
    "print('count', True, flat_status[True])\n",
    "print('count', False, flat_status[False])\n",
    "\n",
    "print('percent', True, flat_lookup[True])\n",
    "print('percent', False, flat_lookup[False])\n"
   ]
  },
  {
   "cell_type": "code",
   "execution_count": 13,
   "metadata": {
    "collapsed": true
   },
   "outputs": [],
   "source": [
    "# Bypassing the cheat function and forcing the maximum distance.\n",
    "maxlimit = 5"
   ]
  },
  {
   "cell_type": "markdown",
   "metadata": {},
   "source": [
    "# Step 3: Grouping users by their behaviour"
   ]
  },
  {
   "cell_type": "code",
   "execution_count": 14,
   "metadata": {
    "collapsed": false
   },
   "outputs": [
    {
     "name": "stdout",
     "output_type": "stream",
     "text": [
      "merchant1159 {'login': 4.985644707022931, 'view_item': 94.19583408958562, 'comment': 0, 'buy_item': 0, 'logout': 0, 'end': 11.545447181678094, 'sell_item': 83.69866845609923, 'home': 0, 'bank_modify': 0, 'view_profile': 0, 'update_address': 0, 'update_email': 0, 'password_reset': 0, 'payment_modify': 0}\n",
      "buyer1515 {'login': 4.985644707022931, 'view_item': 67.7400193361843, 'comment': 0, 'buy_item': 53.12436221098946, 'logout': 10.867278739709663, 'end': 11.545447181678094, 'sell_item': 0, 'home': 0, 'bank_modify': 0, 'view_profile': 0, 'update_address': 0, 'update_email': 0, 'password_reset': 0, 'payment_modify': 0}\n"
     ]
    },
    {
     "data": {
      "text/plain": [
       "{'dklp': 83.69285085506084, 'dklq': 63.991640950699122, 'test': False}"
      ]
     },
     "execution_count": 14,
     "metadata": {},
     "output_type": "execute_result"
    }
   ],
   "source": [
    "# Calculating the distance between profiles requires to convert log base 2 back to probabilities, \n",
    "# which sometimes causes overflow when profiles are too far apart. We can safely ignore these errors\n",
    "np.seterr(divide='ignore', invalid='ignore', over='ignore') \n",
    "\n",
    "# If new actions are observed and are missing, we need to 1) ignore them, or 2) add them for the calculation\n",
    "# This function ensure that both profiles has the same keys, and asign a value of 0 if it was missing\n",
    "# Profiles and keys are returned in order of key names\n",
    "def align_profiles(profile1, profile2):\n",
    "    if profile1.keys() != profile2.keys():\n",
    "        for k in profile1.keys():\n",
    "            if k not in profile2.keys():\n",
    "                profile2[k] = profile1[k]\n",
    "        for k in profile2.keys():\n",
    "            if k not in profile1.keys():\n",
    "                profile1[k] = profile2[k]\n",
    "    p1 = [value for (key, value) in sorted(profile1.items())]\n",
    "    p2 = [value for (key, value) in sorted(profile2.items())]\n",
    "    allkeys = [key for (key, value) in sorted(profile2.items())]\n",
    "    return p1, p2, allkeys\n",
    "\n",
    "# Magic here too!\n",
    "# this function calculate the proximity between two profiles\n",
    "# The Kullback-Leibler function isn't symetric, so A could be close to B, but B be absolutely different to A\n",
    "# This is why we calculate the two possible distance (a/b and b/a)\n",
    "# The return value is True if the two profiles are within the limit distance, else it returns False\n",
    "def compare_profiles(profile1, profile2, limit = 7):\n",
    "    u1, u2, trash = align_profiles(profile1, profile2)\n",
    "    \n",
    "    # Ref: https://en.wikipedia.org/wiki/Kullback%E2%80%93Leibler_divergence#Definition\n",
    "    px = [1/np.power(2,x) for x in np.array(u1)]    \n",
    "    qx = [1/np.power(2,x) for x in np.array(u2)]\n",
    "    \n",
    "    p = np.array(qx)/np.array(px)\n",
    "    q = np.array(px)/np.array(qx)\n",
    "    dklp = (qx * np.log2(p)).sum()\n",
    "    dklq = (px * np.log2(q)).sum()\n",
    "    \n",
    "    # dklp/dlklq == Divergence Kullback-Leibler for p and q\n",
    "    t = (dklp < limit and dklp >= -limit) and (dklq < limit and dklq >= -limit)\n",
    "    \n",
    "    return {'test': t, 'dklp': dklp, 'dklq': dklq}\n",
    "\n",
    "# Example of usage\n",
    "test_users = random.sample(user_transition_score.keys(),2)\n",
    "print(test_users[0], user_transition_score[test_users[0]])\n",
    "print(test_users[1], user_transition_score[test_users[1]])\n",
    "compare_profiles(user_transition_score[test_users[0]], user_transition_score[test_users[1]], maxlimit)"
   ]
  },
  {
   "cell_type": "code",
   "execution_count": 15,
   "metadata": {
    "collapsed": false
   },
   "outputs": [
    {
     "data": {
      "text/plain": [
       "{'a': 1.5, 'b': 1.75, 'c': 3.25, 'd': 4.0}"
      ]
     },
     "execution_count": 15,
     "metadata": {},
     "output_type": "execute_result"
    }
   ],
   "source": [
    "# This function is used to calculate the average profile for a behaviour group.\n",
    "# The idea is that it will align the profiles first, then calculate the average of the values for each keys\n",
    "def compile_average_for_type(array):\n",
    "    garbage = {}\n",
    "    for i in range(len(array)):\n",
    "        if len(garbage.keys()) == 0:\n",
    "            garbage = array[i]\n",
    "        else:\n",
    "            g, a, allkeys = align_profiles(garbage, array[i])\n",
    "            c = np.array(g) + np.array(a)\n",
    "            for idx in range(len(allkeys)):\n",
    "                garbage[allkeys[idx]] = c[idx] \n",
    "    for k in garbage.keys():\n",
    "        garbage[k] = garbage[k] / len(array)\n",
    "    return garbage\n",
    "\n",
    "# Example of usage\n",
    "array = [{'a':1,'b':2,'c':3}, {'a':1,'b':2,'c':3}, {'a':1,'b':2,'c':3, 'd':4}, {'a':3,'b':1,'c':4}]\n",
    "compile_average_for_type(array)"
   ]
  },
  {
   "cell_type": "code",
   "execution_count": 16,
   "metadata": {
    "collapsed": true
   },
   "outputs": [],
   "source": [
    "# Once classified, this function will add to the identified class\n",
    "# If the target class does not exist yet (the classification function returns an \n",
    "# inexistant class the candidate didn't match any existing profile)\n",
    "# Then the function will add the candidate to that class.\n",
    "def add_candidate_to_behaviour_group(candidate_name, matching_class, behaviour_group_table):  \n",
    "    if matching_class not in behaviour_group_table.keys():\n",
    "        behaviour_group_table[matching_class] = []\n",
    "\n",
    "    if candidate_name not in behaviour_group_table[matching_class]:\n",
    "        behaviour_group_table[matching_class].append(candidate_name)\n",
    "        \n",
    "    return candidate_name"
   ]
  },
  {
   "cell_type": "code",
   "execution_count": 17,
   "metadata": {
    "collapsed": false
   },
   "outputs": [],
   "source": [
    "# This is a cleanup function. If a user is already a member of a class, it will be removed \n",
    "# to be reclassified again\n",
    "# If the class is empty once cleaned, it will stay emptied since another candidate \n",
    "# might have that profile later one.\n",
    "def remove_from_classification(candidate_name, behaviour_group_table):\n",
    "    cleaneds = [] # convention, I put s to array variables\n",
    "    empties = []\n",
    "    for be, be_list in behaviour_group_table.items():\n",
    "        if candidate_name in behaviour_group_table[be]:\n",
    "            behaviour_group_table[be].remove(candidate_name)\n",
    "            cleaneds.append(be)\n",
    "        if len(behaviour_group_table[be]) == 0:\n",
    "            empties.append(be)\n",
    "    for e in empties:\n",
    "        del behaviour_group_table[e]\n",
    "            \n",
    "    return cleaneds       \n",
    "\n",
    "# This function compares the candidates to the saved average calculated for each behaviour group\n",
    "def classify_candidates_average(candidate_name, behaviour_type_average, score, limit = 7):\n",
    "    potential_matching_type = {}\n",
    "    passing_score = 0.9\n",
    "    sample_size = 10\n",
    "    small_size_adjustment = 2\n",
    "    \n",
    "    for be, be_average in behaviour_type_average.items():\n",
    "        post = 0.1 # this is the prior\n",
    "\n",
    "        result = compare_profiles(score[candidate_name], be_average, limit)\n",
    "            \n",
    "        if result['test'] == True:\n",
    "            potential_matching_type[be] = post\n",
    "\n",
    "    if len(potential_matching_type.keys()) == 0:\n",
    "        new_class_name = max(0,len(list(behaviour_type_average.values())))\n",
    "        return new_class_name\n",
    "    else:\n",
    "        return max(potential_matching_type, key=potential_matching_type.get)\n",
    "\n",
    "# This is a helper function that calls all the actions in order for all unclassified users\n",
    "# The candidate is selected at random from the list to prevent behaviour_class skewing if a batch of close users has\n",
    "# slightly similar behaviours.\n",
    "# The recalculation of the average only happens on the first value, and later one at each 4 profiles.\n",
    "# Profiles selected to calculate the average are also selected at random to try to keep the average balanced over time\n",
    "# This is also to prevent behaviour group polution. An earlier version was using Bayes probability update to test \n",
    "# a candidate against multiple members of a class, which had a bad side effect: If the maxmimum allowed distance is 5, \n",
    "# the first value might be 5, the second, could be between 0 and 10 and would be found as a match, then the following\n",
    "# could stretch until 15, and so on. If enough tests were made, because we know that the classification is normally\n",
    "# quite accurate, this would allow group to degenerate.\n",
    "def classify_users_in_list(unclassified_user_lists, behaviour_group_table, behaviour_average_table, score, limit = 7):\n",
    "    # select one user\n",
    "    candidate_name = random.choice(unclassified_user_lists)\n",
    "    if candidate_name:\n",
    "        # classify user\n",
    "        cleanup = remove_from_classification(candidate_name, behaviour_group_table)\n",
    "        \n",
    "        matching_class = classify_candidates_average(candidate_name, behaviour_average_table, score, limit)\n",
    "\n",
    "        # add the user to the proper type\n",
    "        add_candidate_to_behaviour_group(candidate_name, matching_class, behaviour_group_table)\n",
    "        if len(behaviour_group_table[matching_class]) % 4 == 0 or len(behaviour_group_table[matching_class]) == 1:\n",
    "            scores_for_users = random.sample(\n",
    "                [score[x] for x in behaviour_group_table[matching_class]], \n",
    "                min(len(behaviour_group_table[matching_class]),10)\n",
    "            )\n",
    "            behaviour_average_table[matching_class] = compile_average_for_type(scores_for_users)\n",
    "        unclassified_user_lists.remove(candidate_name)"
   ]
  },
  {
   "cell_type": "markdown",
   "metadata": {},
   "source": [
    "## Extract the users to classify from the observed active users\n",
    "\n",
    "The following cell initialize the behaviour_group_table and behaviour_average_table variables.\n",
    "Then we get the list of observed users, and we create a list of unclassified users to classify"
   ]
  },
  {
   "cell_type": "code",
   "execution_count": 18,
   "metadata": {
    "collapsed": false
   },
   "outputs": [
    {
     "name": "stdout",
     "output_type": "stream",
     "text": [
      "2999\n"
     ]
    }
   ],
   "source": [
    "if random_seed:\n",
    "    random.seed(random_seed)\n",
    "\n",
    "behaviour_group_table = {}\n",
    "behaviour_average_table = {}\n",
    "print(len(list(user_transition_score.keys())))\n",
    "unclassified_user_lists = random.sample(list(user_transition_score.keys()), min(len(todays_user_lists), len(list(user_transition_score.keys()))))"
   ]
  },
  {
   "cell_type": "markdown",
   "metadata": {},
   "source": [
    "The next cell is heavy to run. This is where we go through the list of unclassified users and we add them in the proper group.\n",
    "\n",
    "Note: *behaviour_group_table* and *behaviour_average_table* are modified by the subfunctions"
   ]
  },
  {
   "cell_type": "code",
   "execution_count": 19,
   "metadata": {
    "collapsed": false,
    "scrolled": false
   },
   "outputs": [
    {
     "name": "stdout",
     "output_type": "stream",
     "text": [
      "CPU times: user 12 s, sys: 38.9 ms, total: 12.1 s\n",
      "Wall time: 12.1 s\n"
     ]
    }
   ],
   "source": [
    "%%time\n",
    "while len(unclassified_user_lists):\n",
    "    classify_users_in_list(unclassified_user_lists, behaviour_group_table, behaviour_average_table, user_transition_score, maxlimit)"
   ]
  },
  {
   "cell_type": "markdown",
   "metadata": {},
   "source": [
    "## Cheat cell: List all behaviour groups and the number of user by their real type\n",
    "\n",
    "This cell is only to demonstrate that the previous functions mostly group users by their good real time.\n",
    "There are some misclassifications, this could be caused by the randomness of the actions taken by the generated users. \n",
    "\n",
    "Also, an attacker's action could look exactly like a real user. In these cases, we will most probably won't be able to identify that that user was an attacker, unless other actions were taken that would separate the behaviour profile from a normal user."
   ]
  },
  {
   "cell_type": "code",
   "execution_count": 20,
   "metadata": {
    "collapsed": false
   },
   "outputs": [
    {
     "name": "stdout",
     "output_type": "stream",
     "text": [
      "0 126.597730317 746 {'merchant': 746}\n",
      "1 93.7006802612 798 {'buyer': 798}\n",
      "2 165.106230106 274 {'buyer': 274}\n",
      "3 82.1226685229 251 {'buyer': 251}\n",
      "4 159.379639992 96 {'buyer': 96}\n",
      "5 143.359317165 731 {'merchant': 731}\n",
      "6 249.880103456 1 {'buyer': 1}\n",
      "7 191.368894111 6 {'buyer': 5, 'fraudster': 1}\n",
      "8 244.894155926 2 {'buyer': 2}\n",
      "9 249.65153609 1 {'buyer': 1}\n",
      "10 29.4321473213 2 {'merchant': 2}\n",
      "11 34192.7719717 1 {'bot': 1}\n",
      "12 365.215886043 3 {'merchant': 3}\n",
      "13 40.7688380859 11 {'buyer': 11}\n",
      "14 1092.99622918 1 {'bot': 1}\n",
      "15 184.666656114 3 {'merchant': 3}\n",
      "16 19.556956114 10 {'buyer': 2, 'attacker': 5, 'fraudster': 2, 'merchant': 1}\n",
      "17 169.155946646 5 {'spammer': 5}\n",
      "18 122.43986214 1 {'buyer': 1}\n",
      "19 209.73582516 4 {'merchant': 4}\n",
      "20 37.0202139404 3 {'buyer': 1, 'attacker': 2}\n",
      "21 192.750208925 3 {'spammer': 3}\n",
      "22 343.179525931 2 {'merchant': 2}\n",
      "23 175.363943864 3 {'merchant': 3}\n",
      "24 71.0088488556 2 {'fraudster': 2}\n",
      "25 4.98564470702 1 {'buyer': 1}\n",
      "26 6756.51801549 1 {'bot': 1}\n",
      "27 44.817450904 7 {'merchant': 7}\n",
      "28 435.842507689 2 {'buyer': 2}\n",
      "29 18399.1084312 1 {'bot': 1}\n",
      "30 29638.4400773 1 {'bot': 1}\n",
      "31 29.0612569806 4 {'merchant': 3, 'buyer': 1}\n",
      "32 169.544596314 2 {'buyer': 2}\n",
      "33 299.439673576 1 {'merchant': 1}\n",
      "34 96.9310103338 4 {'fraudster': 1, 'attacker': 3}\n",
      "35 8094.87186701 1 {'bot': 1}\n",
      "36 7153.6718007 1 {'bot': 1}\n",
      "37 97.4881028882 1 {'buyer': 1}\n",
      "38 8600.83490844 1 {'bot': 1}\n",
      "39 199.200463842 1 {'merchant': 1}\n",
      "40 118.705632495 2 {'fraudster': 1, 'buyer': 1}\n",
      "41 113.699276303 1 {'spammer': 1}\n",
      "42 219.052547518 1 {'buyer': 1}\n",
      "43 22653.5503494 1 {'bot': 1}\n",
      "44 174.878220167 1 {'attacker': 1}\n",
      "45 17495.9916045 1 {'bot': 1}\n",
      "46 11.5454471817 1 {'buyer': 1}\n",
      "47 42.4732538322 1 {'fraudster': 1}\n",
      "48 17577.5985467 1 {'bot': 1}\n"
     ]
    }
   ],
   "source": [
    "for k in behaviour_group_table.keys():\n",
    "        type_average = np.mean([sum(user_transition_score[x].values()) for x in behaviour_group_table[k]])\n",
    "        print(k, type_average, len(behaviour_group_table[k]), cheat_lookup_all_users(behaviour_group_table[k]))"
   ]
  },
  {
   "cell_type": "markdown",
   "metadata": {},
   "source": [
    "# Step 4: Analyse the behaviour groups, and lighlight which group contains outliers\n",
    "\n",
    "This sections demonstrates how we can visualise and classify each group of behaviours. "
   ]
  },
  {
   "cell_type": "code",
   "execution_count": 21,
   "metadata": {
    "collapsed": false
   },
   "outputs": [],
   "source": [
    "# This cell creates an helper function to generate a graph of the number of users in each behaviour group\n",
    "\n",
    "import matplotlib.pyplot as plt\n",
    "plt.style.use('ggplot')\n",
    "import matplotlib\n",
    "\n",
    "def graph_user_distribution_by_behaviour_id(type_table, average_table, transition_score):  \n",
    "    current_behaviour_state_table = {}\n",
    "    for k in type_table.keys():\n",
    "        type_average = np.mean([sum(transition_score[x].values()) for x in type_table[k]])\n",
    "        current_behaviour_state_table[k] = {'type': k, 'score':type_average, 'nbmembers':len(type_table[k]), 'behaviour': average_table[k]}\n",
    "    \n",
    "    plt.figure(figsize=(20,5))\n",
    "\n",
    "    index = np.array(list(current_behaviour_state_table.keys()))\n",
    "    names = list(type_table.keys())\n",
    "    v1 = [current_behaviour_state_table[x]['nbmembers'] for x in names]\n",
    "    plt.figure(1, figsize=(9, 5))\n",
    "\n",
    "    bar_width = 0.4\n",
    "    spare_width = (1 - bar_width*2)/2\n",
    "\n",
    "    rects1 = plt.bar(index, v1, bar_width,\n",
    "                    color='b',\n",
    "                    label='Nb Members')\n",
    "\n",
    "    plt.xlabel('Behaviour Group ID')\n",
    "    plt.ylabel('Number of Users')\n",
    "    plt.title('Number of User Per Behaviour Group')\n",
    "    plt.xticks(index)\n",
    "    plt.grid()\n",
    "    plt.legend()\n",
    "    return plt"
   ]
  },
  {
   "cell_type": "code",
   "execution_count": 23,
   "metadata": {
    "collapsed": false
   },
   "outputs": [],
   "source": [
    "# This cell creates an helper function that displays the distribution of actions for each group.\n",
    "# Note that the surprisal value for a single action is maxed out at 500. More than this, the graph\n",
    "# becomes useless since all normal actions squashed by the outliers\n",
    "\n",
    "def graph_surprisal_distribution_by_action(type_table, average_table, transition_score):\n",
    "    current_behaviour_state_table = {}\n",
    "    for k in type_table.keys():\n",
    "        type_average = np.mean([sum(transition_score[x].values()) for x in type_table[k]])\n",
    "        current_behaviour_state_table[k] = {'type': k, 'score':type_average, 'nbmembers':len(type_table[k]), 'behaviour': average_table[k]}\n",
    "    \n",
    "    surprisal_stats = np.array([\n",
    "        [current_behaviour_state_table[y]['behaviour'][x] for x in sorted(current_behaviour_state_table[1]['behaviour'].keys())]\n",
    "#         [current_behaviour_state_table[y]['behaviour'][x]/sum(current_behaviour_state_table[y]['behaviour'].values()) for x in sorted(current_behaviour_state_table[1]['behaviour'].keys())]\n",
    "        for y in [x for x in list(current_behaviour_state_table.keys()) if current_behaviour_state_table[x]['nbmembers'] > 0]\n",
    "    ]).T\n",
    "    \n",
    "    keylists_columns = [x for x in sorted(list(current_behaviour_state_table.keys())) if current_behaviour_state_table[x]['nbmembers'] > 0]\n",
    "    if len(keylists_columns) > 0:\n",
    "        path_rows = sorted(current_behaviour_state_table[keylists_columns[0]]['behaviour'].keys())\n",
    "\n",
    "        fig = plt.figure()\n",
    "        ax = fig.add_subplot(111)\n",
    "        fig = matplotlib.pyplot.gcf()\n",
    "        fig.set_size_inches(20.0,7.5)\n",
    "\n",
    "        # https://matplotlib.org/examples/color/colormaps_reference.html\n",
    "        colors = plt.cm.Paired(np.linspace(0, 1, len(path_rows)))\n",
    "\n",
    "        n_rows = len(surprisal_stats)\n",
    "\n",
    "        index = np.arange(len(keylists_columns)) + 0.4\n",
    "        bar_width = 0.4\n",
    "        opacity=0.4\n",
    "        spare_width = (1 - bar_width*2)/2\n",
    "\n",
    "        ax.set_xlim(-spare_width,len(index)-spare_width)\n",
    "        ax.set_ylabel(\"Surprisal Distribution\")\n",
    "        xTickMarks = keylists_columns\n",
    "\n",
    "        ax.set_xticks(index+bar_width)\n",
    "\n",
    "        xtickNames = ax.set_xticklabels(xTickMarks)\n",
    "        plt.setp(xtickNames, rotation=0, fontsize=40)\n",
    "        ax.yaxis.grid()\n",
    "\n",
    "        y_offset = np.zeros(len(keylists_columns))\n",
    "\n",
    "        # Plot bars and create text labels for the table\n",
    "        cell_text = []\n",
    "        for row in range(n_rows):\n",
    "            plt.bar(index, np.minimum(surprisal_stats[row],500), bar_width, bottom=y_offset, color=colors[row])\n",
    "            y_offset = y_offset + np.minimum(surprisal_stats[row],500)\n",
    "            cell_text.append(['%.1f' % x for x in surprisal_stats[row]])\n",
    "\n",
    "        # Add a table at the bottom of the axes\n",
    "        the_table = plt.table(cellText=cell_text,\n",
    "                              rowLabels=path_rows,\n",
    "                              rowColours=colors,\n",
    "                              alpha=opacity,\n",
    "                              colLabels=keylists_columns,\n",
    "                              loc='bottom')\n",
    "        the_table.scale(1,2.5)\n",
    "        the_table.auto_set_font_size(value=False)\n",
    "\n",
    "        # Adjust layout to make room for the table:\n",
    "        plt.subplots_adjust(left=0.2, bottom=0.2)\n",
    "        ax.xaxis.labelpad = 260\n",
    "        ax.yaxis.labelpad = 20\n",
    "\n",
    "        plt.xticks([])\n",
    "        plt.title('Distribution Of Actions By Behaviour Type')\n",
    "    return plt\n"
   ]
  },
  {
   "cell_type": "markdown",
   "metadata": {},
   "source": [
    "## Graph the behaviour groups and the count of members"
   ]
  },
  {
   "cell_type": "code",
   "execution_count": 24,
   "metadata": {
    "collapsed": false
   },
   "outputs": [
    {
     "data": {
      "text/plain": [
       "<module 'matplotlib.pyplot' from '/Users/simon/anaconda/lib/python3.6/site-packages/matplotlib/pyplot.py'>"
      ]
     },
     "execution_count": 24,
     "metadata": {},
     "output_type": "execute_result"
    },
    {
     "data": {
      "image/png": "[encoded data removed]",
      "text/plain": [
       "<matplotlib.figure.Figure at 0x11a467d68>"
      ]
     },
     "metadata": {},
     "output_type": "display_data"
    }
   ],
   "source": [
    "graph_user_distribution_by_behaviour_id(behaviour_group_table, behaviour_average_table, user_transition_score)"
   ]
  },
  {
   "cell_type": "markdown",
   "metadata": {},
   "source": [
    "## Graph the distribution of by action, weighted by their surprisal score\n",
    "\n",
    "How to read the graph: \n",
    "* Compare the previous graph and this one\n",
    "* Groups with high number of users and a low surprisal distribution should mainly represent normal users. \n",
    "* The different colors should also help to identify which action was mainly used by these users\n",
    "\n",
    "How to spot outliers?\n",
    "* Look for groups with a low number of users and a high surprisal distribution.\n",
    "* The bottom table with the list of actions and scores can also be used to understand the bar above. Low values represent normal actions, high values represents outliers.\n",
    "* With the distribution of test users used in this notebook, bots should be the main offenders.\n",
    "\n",
    "Note: The graph below is probably not the best long term solution to graph behaviour groups since it will tend to be crowded with time. It's just for the prouf of concept."
   ]
  },
  {
   "cell_type": "code",
   "execution_count": 25,
   "metadata": {
    "collapsed": false
   },
   "outputs": [
    {
     "data": {
      "text/plain": [
       "<module 'matplotlib.pyplot' from '/Users/simon/anaconda/lib/python3.6/site-packages/matplotlib/pyplot.py'>"
      ]
     },
     "execution_count": 25,
     "metadata": {},
     "output_type": "execute_result"
    },
    {
     "data": {
      "image/png": "[encoded data removed]",
      "text/plain": [
       "<matplotlib.figure.Figure at 0x1161c57b8>"
      ]
     },
     "metadata": {},
     "output_type": "display_data"
    }
   ],
   "source": [
    "graph_surprisal_distribution_by_action(behaviour_group_table, behaviour_average_table, user_transition_score)"
   ]
  },
  {
   "cell_type": "markdown",
   "metadata": {},
   "source": [
    "# 4.1 Investigate the behaviour groups to understand the behaviour of the members\n",
    "\n",
    "The following cell extracts the cound of actions for each member of a designated group.\n"
   ]
  },
  {
   "cell_type": "code",
   "execution_count": 26,
   "metadata": {
    "collapsed": false,
    "scrolled": false
   },
   "outputs": [
    {
     "data": {
      "text/html": [
       "<div>\n",
       "<table border=\"1\" class=\"dataframe\">\n",
       "  <thead>\n",
       "    <tr style=\"text-align: right;\">\n",
       "      <th></th>\n",
       "      <th>path</th>\n",
       "      <th>bank_modify</th>\n",
       "      <th>end</th>\n",
       "      <th>login</th>\n",
       "      <th>sell_item</th>\n",
       "      <th>update_address</th>\n",
       "      <th>update_email</th>\n",
       "      <th>view_item</th>\n",
       "      <th>view_profile</th>\n",
       "    </tr>\n",
       "    <tr>\n",
       "      <th>user</th>\n",
       "      <th>status</th>\n",
       "      <th></th>\n",
       "      <th></th>\n",
       "      <th></th>\n",
       "      <th></th>\n",
       "      <th></th>\n",
       "      <th></th>\n",
       "      <th></th>\n",
       "      <th></th>\n",
       "    </tr>\n",
       "  </thead>\n",
       "  <tbody>\n",
       "    <tr>\n",
       "      <th rowspan=\"2\" valign=\"top\">merchant1098</th>\n",
       "      <th>fail</th>\n",
       "      <td>0</td>\n",
       "      <td>0</td>\n",
       "      <td>0</td>\n",
       "      <td>1</td>\n",
       "      <td>1</td>\n",
       "      <td>1</td>\n",
       "      <td>0</td>\n",
       "      <td>0</td>\n",
       "    </tr>\n",
       "    <tr>\n",
       "      <th>success</th>\n",
       "      <td>2</td>\n",
       "      <td>1</td>\n",
       "      <td>1</td>\n",
       "      <td>9</td>\n",
       "      <td>4</td>\n",
       "      <td>3</td>\n",
       "      <td>7</td>\n",
       "      <td>10</td>\n",
       "    </tr>\n",
       "  </tbody>\n",
       "</table>\n",
       "</div>"
      ],
      "text/plain": [
       "path                  bank_modify  end  login  sell_item  update_address  \\\n",
       "user         status                                                        \n",
       "merchant1098 fail               0    0      0          1               1   \n",
       "             success            2    1      1          9               4   \n",
       "\n",
       "path                  update_email  view_item  view_profile  \n",
       "user         status                                          \n",
       "merchant1098 fail                1          0             0  \n",
       "             success             3          7            10  "
      ]
     },
     "execution_count": 26,
     "metadata": {},
     "output_type": "execute_result"
    }
   ],
   "source": [
    "behaviour_group_to_analyse = 43\n",
    "\n",
    "df_investigate = day1_data.loc[day1_data['user'].isin(behaviour_group_table[behaviour_group_to_analyse])]\n",
    "df_investigate.groupby(['user', 'status', 'path']).size().unstack(fill_value=0)"
   ]
  },
  {
   "cell_type": "markdown",
   "metadata": {},
   "source": [
    "# What next: Repeating the analysis on following days\n",
    "\n",
    "Now that all functions are defined, we can collect logs on subsequent days and classify the users with the previously identified behaviour groups.\n",
    "\n",
    "If users change their behaviour, they will be reclassified. Inactive users will stay where they are.\n",
    "\n",
    "Except the \"merge_user_transition_score\" function, all functions called were previously used. I simply adjusted them to analyse the logs of a different day, in which 200 new users registered.\n",
    "\n",
    "Logs are also limited to the daily number of users defined at the beginning of the notebook. This means that some users will come back, and some won't. If a user is reclassified, some behaviour group might end up being empty. They will be represented by empty column indexes, but the behaviour average is preserved for further classification if needed. "
   ]
  },
  {
   "cell_type": "code",
   "execution_count": 27,
   "metadata": {
    "collapsed": false
   },
   "outputs": [
    {
     "name": "stdout",
     "output_type": "stream",
     "text": [
      "Number of active users today: 3000 ['merchant', 'buyer', 'merchant', 'buyer', 'merchant']\n",
      "81832 logs events generated for 3000 users\n"
     ]
    }
   ],
   "source": [
    "# New day\n",
    "start_time = datetime(2019,1,2,0,0)\n",
    "\n",
    "# Changing the initial seed to get different results\n",
    "if random_seed:\n",
    "    random.seed(random_seed + 1)\n",
    "\n",
    "# How many new users registered today\n",
    "number_of_new_users = 200\n",
    "all_user_lists = generate_userlist(all_user_lists, number_of_new_users)\n",
    "\n",
    "# Select which users will login today\n",
    "todays_user_lists = random.sample(all_user_lists, number_of_daily_users)\n",
    "\n",
    "print('Number of active users today:', len(todays_user_lists), todays_user_lists[:5])\n",
    "\n",
    "if random_seed:\n",
    "    random.seed(random_seed + 1)\n",
    "# Generate the logs for the day for the active users\n",
    "day2_logs = generate_logs(todays_user_lists, start_time)\n",
    "\n",
    "print(len(day2_logs), 'logs events generated for', len(todays_user_lists), 'users')\n",
    "\n",
    "# Prepare the data for analysis, by converting them in a pandas dataframe\n",
    "day2_data = transform_logs_to_pandas(day2_logs)"
   ]
  },
  {
   "cell_type": "code",
   "execution_count": 28,
   "metadata": {
    "collapsed": false
   },
   "outputs": [],
   "source": [
    "# Calculate the user transition score based on the previous day surprisal lookup table. \n",
    "# We could have recompile is here as well, but this is to be consistant with the suggestion to compare users against\n",
    "# a previously calculated transition table.\n",
    "user_transition_score_day2 = get_user_transition_score(day2_data, transition_surprisal, 'user', 'path', 'success')"
   ]
  },
  {
   "cell_type": "markdown",
   "metadata": {},
   "source": [
    "## Merge the previously calculated transition scores with the new ones\n",
    "The next function takes the new transition scores calculated for the second day, and add the values from day 1 for the missing users. This is done to allow us to compare new profiles with previous users when behaviour groups averages are reclaculated."
   ]
  },
  {
   "cell_type": "code",
   "execution_count": 29,
   "metadata": {
    "collapsed": false
   },
   "outputs": [
    {
     "data": {
      "text/plain": [
       "4546"
      ]
     },
     "execution_count": 29,
     "metadata": {},
     "output_type": "execute_result"
    }
   ],
   "source": [
    "def merge_user_transition_score(original, newtransitions):        \n",
    "    for key in original.keys():\n",
    "        if key not in newtransitions.keys():\n",
    "            newtransitions[key] = original[key]\n",
    "\n",
    "    return newtransitions\n",
    "\n",
    "user_transition_score_merged = merge_user_transition_score(user_transition_score, user_transition_score_day2)\n",
    "len(user_transition_score_merged)"
   ]
  },
  {
   "cell_type": "markdown",
   "metadata": {},
   "source": [
    "## Optional (but useful): Identifying unclassified outliers\n",
    "\n",
    "Same as done on day 1, we can identify outliers just by listing the ones with 2 standard deviations and more."
   ]
  },
  {
   "cell_type": "code",
   "execution_count": 30,
   "metadata": {
    "collapsed": false
   },
   "outputs": [
    {
     "data": {
      "text/html": [
       "<div>\n",
       "<table border=\"1\" class=\"dataframe\">\n",
       "  <thead>\n",
       "    <tr style=\"text-align: right;\">\n",
       "      <th></th>\n",
       "      <th>user</th>\n",
       "      <th>surprisal</th>\n",
       "      <th>z</th>\n",
       "    </tr>\n",
       "  </thead>\n",
       "  <tbody>\n",
       "    <tr>\n",
       "      <th>766</th>\n",
       "      <td>bot240</td>\n",
       "      <td>106017.762003</td>\n",
       "      <td>53.350231</td>\n",
       "    </tr>\n",
       "    <tr>\n",
       "      <th>3735</th>\n",
       "      <td>bot1392</td>\n",
       "      <td>34192.771972</td>\n",
       "      <td>17.134004</td>\n",
       "    </tr>\n",
       "    <tr>\n",
       "      <th>4229</th>\n",
       "      <td>bot831</td>\n",
       "      <td>29638.440077</td>\n",
       "      <td>14.837579</td>\n",
       "    </tr>\n",
       "    <tr>\n",
       "      <th>143</th>\n",
       "      <td>bot2780</td>\n",
       "      <td>27103.848929</td>\n",
       "      <td>13.559565</td>\n",
       "    </tr>\n",
       "    <tr>\n",
       "      <th>559</th>\n",
       "      <td>bot477</td>\n",
       "      <td>25422.745920</td>\n",
       "      <td>12.711905</td>\n",
       "    </tr>\n",
       "    <tr>\n",
       "      <th>509</th>\n",
       "      <td>bot1692</td>\n",
       "      <td>24911.342416</td>\n",
       "      <td>12.454041</td>\n",
       "    </tr>\n",
       "    <tr>\n",
       "      <th>3463</th>\n",
       "      <td>bot524</td>\n",
       "      <td>22653.550349</td>\n",
       "      <td>11.315597</td>\n",
       "    </tr>\n",
       "    <tr>\n",
       "      <th>2449</th>\n",
       "      <td>bot183</td>\n",
       "      <td>20477.365225</td>\n",
       "      <td>10.218302</td>\n",
       "    </tr>\n",
       "    <tr>\n",
       "      <th>522</th>\n",
       "      <td>bot1450</td>\n",
       "      <td>18866.988233</td>\n",
       "      <td>9.406303</td>\n",
       "    </tr>\n",
       "    <tr>\n",
       "      <th>4010</th>\n",
       "      <td>bot2148</td>\n",
       "      <td>18399.108431</td>\n",
       "      <td>9.170385</td>\n",
       "    </tr>\n",
       "    <tr>\n",
       "      <th>3268</th>\n",
       "      <td>bot202</td>\n",
       "      <td>17577.598547</td>\n",
       "      <td>8.756156</td>\n",
       "    </tr>\n",
       "    <tr>\n",
       "      <th>3600</th>\n",
       "      <td>bot1387</td>\n",
       "      <td>17495.991605</td>\n",
       "      <td>8.715007</td>\n",
       "    </tr>\n",
       "    <tr>\n",
       "      <th>969</th>\n",
       "      <td>bot2988</td>\n",
       "      <td>13203.466447</td>\n",
       "      <td>6.550593</td>\n",
       "    </tr>\n",
       "    <tr>\n",
       "      <th>3446</th>\n",
       "      <td>bot194</td>\n",
       "      <td>8600.834908</td>\n",
       "      <td>4.229813</td>\n",
       "    </tr>\n",
       "    <tr>\n",
       "      <th>3159</th>\n",
       "      <td>bot1972</td>\n",
       "      <td>8094.871867</td>\n",
       "      <td>3.974692</td>\n",
       "    </tr>\n",
       "    <tr>\n",
       "      <th>3255</th>\n",
       "      <td>bot691</td>\n",
       "      <td>7153.671801</td>\n",
       "      <td>3.500112</td>\n",
       "    </tr>\n",
       "    <tr>\n",
       "      <th>3038</th>\n",
       "      <td>bot1183</td>\n",
       "      <td>6756.518015</td>\n",
       "      <td>3.299856</td>\n",
       "    </tr>\n",
       "    <tr>\n",
       "      <th>791</th>\n",
       "      <td>bot19</td>\n",
       "      <td>5396.402313</td>\n",
       "      <td>2.614046</td>\n",
       "    </tr>\n",
       "  </tbody>\n",
       "</table>\n",
       "</div>"
      ],
      "text/plain": [
       "         user      surprisal          z\n",
       "766    bot240  106017.762003  53.350231\n",
       "3735  bot1392   34192.771972  17.134004\n",
       "4229   bot831   29638.440077  14.837579\n",
       "143   bot2780   27103.848929  13.559565\n",
       "559    bot477   25422.745920  12.711905\n",
       "509   bot1692   24911.342416  12.454041\n",
       "3463   bot524   22653.550349  11.315597\n",
       "2449   bot183   20477.365225  10.218302\n",
       "522   bot1450   18866.988233   9.406303\n",
       "4010  bot2148   18399.108431   9.170385\n",
       "3268   bot202   17577.598547   8.756156\n",
       "3600  bot1387   17495.991605   8.715007\n",
       "969   bot2988   13203.466447   6.550593\n",
       "3446   bot194    8600.834908   4.229813\n",
       "3159  bot1972    8094.871867   3.974692\n",
       "3255   bot691    7153.671801   3.500112\n",
       "3038  bot1183    6756.518015   3.299856\n",
       "791     bot19    5396.402313   2.614046"
      ]
     },
     "execution_count": 30,
     "metadata": {},
     "output_type": "execute_result"
    }
   ],
   "source": [
    "cumulative_score = [[v,sum(user_transition_score_merged[v].values())] for v in [k for k in list(user_transition_score_merged.keys())]]\n",
    "\n",
    "df_cumulative_score = pd.DataFrame(cumulative_score, columns=['user', 'surprisal'])\n",
    "\n",
    "avg = df_cumulative_score['surprisal'].mean()\n",
    "std = df_cumulative_score['surprisal'].std()\n",
    "df_cumulative_score['z'] = (df_cumulative_score['surprisal'] - avg) / std\n",
    "\n",
    "df_cumulative_score.loc[df_cumulative_score['z'] >= 2].sort_values(by=['surprisal'], ascending=False)"
   ]
  },
  {
   "cell_type": "code",
   "execution_count": 31,
   "metadata": {
    "collapsed": false
   },
   "outputs": [
    {
     "name": "stdout",
     "output_type": "stream",
     "text": [
      "3000\n"
     ]
    }
   ],
   "source": [
    "if random_seed:\n",
    "    random.seed(random_seed)\n",
    "\n",
    "unclassified_user_lists = random.sample(list(user_transition_score_merged.keys()), min(len(todays_user_lists), len(list(user_transition_score_merged.keys()))))\n",
    "print(len(unclassified_user_lists))"
   ]
  },
  {
   "cell_type": "code",
   "execution_count": 32,
   "metadata": {
    "collapsed": false
   },
   "outputs": [
    {
     "name": "stdout",
     "output_type": "stream",
     "text": [
      "CPU times: user 25.1 s, sys: 105 ms, total: 25.2 s\n",
      "Wall time: 25.4 s\n"
     ]
    }
   ],
   "source": [
    "%%time\n",
    "\n",
    "# Classifying observed users\n",
    "while len(unclassified_user_lists):\n",
    "    classify_users_in_list(unclassified_user_lists, behaviour_group_table, behaviour_average_table, user_transition_score_merged, maxlimit)"
   ]
  },
  {
   "cell_type": "code",
   "execution_count": 33,
   "metadata": {
    "collapsed": false
   },
   "outputs": [
    {
     "name": "stdout",
     "output_type": "stream",
     "text": [
      "0 137.085321251 1262 {'merchant': 1262}\n",
      "1 102.285467702 569 {'buyer': 569}\n",
      "2 157.054044738 345 {'buyer': 345}\n",
      "3 92.0571943776 670 {'buyer': 670}\n",
      "4 133.096646896 55 {'buyer': 55}\n",
      "5 133.351300167 284 {'merchant': 284}\n",
      "6 75.3384737556 1 {'buyer': 1}\n",
      "7 181.37947633 4 {'buyer': 3, 'fraudster': 1}\n",
      "8 244.894155926 2 {'buyer': 2}\n",
      "9 249.65153609 1 {'buyer': 1}\n",
      "10 75.7149724417 2 {'merchant': 2}\n",
      "11 34192.7719717 1 {'bot': 1}\n",
      "12 193.345571213 5 {'merchant': 5}\n",
      "13 57.4597311728 7 {'buyer': 7}\n",
      "15 232.815195288 7 {'merchant': 7}\n",
      "16 82.9709666099 118 {'fraudster': 2, 'attacker': 6, 'buyer': 110}\n",
      "17 165.136035105 7 {'spammer': 7}\n",
      "18 122.43986214 1 {'buyer': 1}\n",
      "19 198.702615172 1 {'merchant': 1}\n",
      "20 36.7870271328 7 {'attacker': 4, 'fraudster': 3}\n",
      "21 175.210140107 5 {'spammer': 5}\n",
      "22 289.152078462 3 {'merchant': 3}\n",
      "23 144.355716471 2 {'merchant': 2}\n",
      "24 71.0088488556 2 {'fraudster': 2}\n",
      "25 28.3528775122 2 {'buyer': 2}\n",
      "27 127.938838022 3 {'merchant': 3}\n",
      "28 410.621363334 3 {'buyer': 3}\n",
      "31 133.241830943 430 {'merchant': 429, 'buyer': 1}\n",
      "32 181.8264926 1 {'buyer': 1}\n",
      "33 299.439673576 1 {'merchant': 1}\n",
      "34 66.8601036056 7 {'attacker': 4, 'fraudster': 3}\n",
      "40 154.649574337 4 {'fraudster': 2, 'buyer': 2}\n",
      "41 113.699276303 1 {'spammer': 1}\n",
      "42 263.772688095 2 {'buyer': 2}\n",
      "44 174.878220167 1 {'attacker': 1}\n",
      "45 17495.9916045 1 {'bot': 1}\n",
      "46 11.5454471817 8 {'buyer': 4, 'merchant': 3, 'attacker': 1}\n",
      "47 52.0725412204 2 {'fraudster': 2}\n",
      "49 25422.7459202 1 {'bot': 1}\n",
      "50 92.3359446749 3 {'buyer': 3}\n",
      "51 82.7867919602 95 {'buyer': 95}\n",
      "52 163.383394847 7 {'merchant': 7}\n",
      "53 18866.9882329 1 {'bot': 1}\n",
      "54 106017.762003 1 {'bot': 1}\n",
      "55 8600.83490844 1 {'bot': 1}\n",
      "56 17577.5985467 1 {'bot': 1}\n",
      "57 5396.40231273 1 {'bot': 1}\n",
      "58 22653.5503494 1 {'bot': 1}\n",
      "59 18399.1084312 1 {'bot': 1}\n",
      "60 40.299426061 3 {'merchant': 3}\n",
      "61 246.976718812 2 {'buyer': 2}\n",
      "62 158.832069554 67 {'buyer': 67}\n",
      "63 41.9697630618 10 {'buyer': 10}\n",
      "64 20477.365225 1 {'bot': 1}\n",
      "65 13203.4664466 1 {'bot': 1}\n",
      "66 114.302719058 1 {'buyer': 1}\n",
      "67 1272.53150194 1 {'bot': 1}\n",
      "68 82.9171337506 1 {'merchant': 1}\n",
      "69 6756.51801549 1 {'bot': 1}\n",
      "70 69.8039331706 2 {'merchant': 2}\n",
      "71 34.1190791622 4 {'buyer': 4}\n",
      "72 207.014807237 2 {'buyer': 2}\n",
      "73 8094.87186701 1 {'bot': 1}\n",
      "74 24911.342416 1 {'bot': 1}\n",
      "75 189.837044888 1 {'buyer': 1}\n",
      "76 3443.27616355 1 {'bot': 1}\n",
      "77 7153.6718007 1 {'bot': 1}\n",
      "78 143.840022642 2 {'merchant': 2}\n",
      "79 20.5605338383 2 {'buyer': 2}\n",
      "80 72.293641481 1 {'spammer': 1}\n",
      "81 1092.99622918 1 {'bot': 1}\n",
      "82 29638.4400773 1 {'bot': 1}\n",
      "83 188.306963181 1 {'merchant': 1}\n",
      "84 27.3983706284 1 {'fraudster': 1}\n"
     ]
    }
   ],
   "source": [
    "# Cheat cell: list all groups with the distribution of their users, by real type\n",
    "\n",
    "for k in sorted(behaviour_group_table.keys()):\n",
    "    type_average = np.mean([sum(user_transition_score_merged[x].values()) for x in behaviour_group_table[k]])\n",
    "    print(k, type_average, len(behaviour_group_table[k]), cheat_lookup_all_users(behaviour_group_table[k]))"
   ]
  },
  {
   "cell_type": "markdown",
   "metadata": {},
   "source": [
    "## Graph the behaviour groups and the count of members"
   ]
  },
  {
   "cell_type": "code",
   "execution_count": 34,
   "metadata": {
    "collapsed": false
   },
   "outputs": [
    {
     "data": {
      "text/plain": [
       "<module 'matplotlib.pyplot' from '/Users/simon/anaconda/lib/python3.6/site-packages/matplotlib/pyplot.py'>"
      ]
     },
     "execution_count": 34,
     "metadata": {},
     "output_type": "execute_result"
    },
    {
     "data": {
      "image/png": "[encoded data removed]",
      "text/plain": [
       "<matplotlib.figure.Figure at 0x11a4199e8>"
      ]
     },
     "metadata": {},
     "output_type": "display_data"
    }
   ],
   "source": [
    "graph_user_distribution_by_behaviour_id(behaviour_group_table, behaviour_average_table, user_transition_score_merged)"
   ]
  },
  {
   "cell_type": "markdown",
   "metadata": {},
   "source": [
    "## Graph the distribution of by action, weighted by their surprisal score"
   ]
  },
  {
   "cell_type": "code",
   "execution_count": 35,
   "metadata": {
    "collapsed": false
   },
   "outputs": [
    {
     "data": {
      "text/plain": [
       "<module 'matplotlib.pyplot' from '/Users/simon/anaconda/lib/python3.6/site-packages/matplotlib/pyplot.py'>"
      ]
     },
     "execution_count": 35,
     "metadata": {},
     "output_type": "execute_result"
    },
    {
     "data": {
      "image/png": "[encoded data removed]",
      "text/plain": [
       "<matplotlib.figure.Figure at 0x1244caef0>"
      ]
     },
     "metadata": {},
     "output_type": "display_data"
    }
   ],
   "source": [
    "graph_surprisal_distribution_by_action(behaviour_group_table, behaviour_average_table, user_transition_score_merged)"
   ]
  },
  {
   "cell_type": "markdown",
   "metadata": {},
   "source": [
    "## Investigate the behaviour groups to understand the behaviour of the members"
   ]
  },
  {
   "cell_type": "code",
   "execution_count": 36,
   "metadata": {
    "collapsed": false,
    "scrolled": false
   },
   "outputs": [
    {
     "data": {
      "text/html": [
       "<div>\n",
       "<table border=\"1\" class=\"dataframe\">\n",
       "  <thead>\n",
       "    <tr style=\"text-align: right;\">\n",
       "      <th></th>\n",
       "      <th>path</th>\n",
       "      <th>end</th>\n",
       "      <th>login</th>\n",
       "      <th>logout</th>\n",
       "    </tr>\n",
       "    <tr>\n",
       "      <th>user</th>\n",
       "      <th>status</th>\n",
       "      <th></th>\n",
       "      <th></th>\n",
       "      <th></th>\n",
       "    </tr>\n",
       "  </thead>\n",
       "  <tbody>\n",
       "    <tr>\n",
       "      <th>fraudster75</th>\n",
       "      <th>success</th>\n",
       "      <td>1</td>\n",
       "      <td>1</td>\n",
       "      <td>1</td>\n",
       "    </tr>\n",
       "  </tbody>\n",
       "</table>\n",
       "</div>"
      ],
      "text/plain": [
       "path                 end  login  logout\n",
       "user        status                     \n",
       "fraudster75 success    1      1       1"
      ]
     },
     "execution_count": 36,
     "metadata": {},
     "output_type": "execute_result"
    }
   ],
   "source": [
    "behaviour_group_to_analyse = 84\n",
    "\n",
    "df_investigate = day2_data.loc[day2_data['user'].isin(behaviour_group_table[behaviour_group_to_analyse])]\n",
    "df_investigate.groupby(['user', 'status', 'path']).size().unstack(fill_value=0)"
   ]
  }
 ],
 "metadata": {
  "kernelspec": {
   "display_name": "Python 3",
   "language": "python",
   "name": "python3"
  },
  "language_info": {
   "codemirror_mode": {
    "name": "ipython",
    "version": 3
   },
   "file_extension": ".py",
   "mimetype": "text/x-python",
   "name": "python",
   "nbconvert_exporter": "python",
   "pygments_lexer": "ipython3",
   "version": "3.6.0"
  }
 },
 "nbformat": 4,
 "nbformat_minor": 2
}
