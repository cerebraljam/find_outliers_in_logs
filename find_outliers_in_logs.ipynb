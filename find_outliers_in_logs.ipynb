{
 "cells": [
  {
   "cell_type": "markdown",
   "metadata": {},
   "source": [
    "# How to group users and identify outliers in a log stream, based on behaviour\n"
   ]
  },
  {
   "cell_type": "markdown",
   "metadata": {},
   "source": [
    "## What is demonstrated in this notebook\n",
    "\n",
    "In this notebook I demonstrate, from a (generated) stream of logs, how to group users by behaviour, and how to highlight which behaviour group an analyst should focus his attention on. \n",
    "\n",
    "This method is good when monitoring a stable and closed system, with a finite number of possible actions, and known definition of success and failure.\n",
    "\n",
    "Probabilities are based on a \"Subject (unique key), Action (ex.: login), Outcome (success/fail)\" discrete format. Continuous Action variables (like numerical values) would need to be reduced to discrete output to fit this model.\n",
    "\n",
    "## Why is this a hard problem?\n",
    "\n",
    "What is a normal action? Which one is suspect? The answer is \"it depends\". \n",
    "\n",
    "To group individual together, we need a way to classify each action taken over time, and somehow group them together.\n",
    "\n",
    "A clustering function like KMean requires us to know how many cluster we have, and we need mesurable features to group them together. Normal clustering functions lose in efficiency the more we add features.\n",
    "\n",
    "Machine learning techniques are also great to identify patterns over a large number of repeating features, but struggle to handle unusual events especially when data is skewed by a high volume of \"normal\" actions. This is why when we do text analysis, we normally remove common [English stop words](https://www.ranks.nl/stopwords). But what if these stop words were necessary to identfy an outlier? How can we keep them without debalancing everything?\n",
    "\n",
    "One other hypothesis would be to use Hidden Markov Chains, but for HNN, we need classified data. Sequences also need to be somehow of a consistent length, but users are most likely not to follow a straight pattern from A to B, which complicates the creation of HMM.\n",
    "\n",
    "Another approach would be to use rules. Classically, Intrusion detection systems recognize a set of patterns, and uses thresholds to know when to raise a flag, generating a large number of false positive. A rule based system is also unlikely to be able to detect the usage of normal functions in an abusive way.\n",
    "\n",
    "In the end, we need each features from all possible events to be classified and scored somehow, and we need a way to group these scores together.\n",
    "\n",
    "## Approach taken\n",
    "\n",
    "### What this notebook is the following\n",
    "\n",
    "* Step 1: We calculate the probability of each sequences of actions being taken by all users over a defined period of time (ex.: 1 day). From these probabilities, we create a lookup probability table for each possible sequence.\n",
    "* Step 2: For each users, we sum the probability (using logarithm base 2) for each action taken. Depending on the likelyhood of each action, this tells us how much new information we learned from the actions taken by a user, defining a action profile for each user.\n",
    "* Step 3: Using the profiles created on Step 2, we group them together by calculating how much information is gained if we compare each actions together. If the information gained is low, then we know that both users had a similar action pattern. If the information gained is high, then they have different behaviour.\n",
    "* Step 4: With all users grouped together, we can quickly analyse a group of user and label that group with a usage profile. The way these profiles are caculated here should keep them stable over time. If new behaviours are observed, new groups will be created. An analyst then only have to pay attention to the new group and groups identified as malicious when monitoring a system.\n",
    "\n",
    "### Caviats\n",
    "\n",
    "* For Step 1, this can be done on a live stream of logs, but for systems generating a large quantify of logs, this could result in integer overflow if we are dealing with too many events. Using rolling windows (ex.: calculate for a period, then use these probabilities distribution to analyse the next period, while creating a new distribution for the next period) might be a better solution.\n",
    "* For Step 2, this works better when there is a clear start and end of sequence for a user. As it is coded right now, scoring a partial session would end up creating a large quantity of behaviour groups, which would be noisy.\n",
    "* For Step 3, the \"distance\" (which isn't) between each users is somewhat arbitrary selected. Litmits should be adjusted depending on the number of events on the system. On small simulations, larger values (5-10) worked well. However, if the quantity of events is really high, a smaller distance (1-3) might be necessary. Using too strict limits will generate a large number of groups to represent all possible behaviours, but if we use a larger maximum limit (ex.: 10), then we increase the likelihood of having misclassifications and group outlier with normal users.\n",
    "* For Step 4: None here :-D This is where I would start configuring rules or send data to a machine learning model, because users are now classified in limited groups.\n",
    "\n",
    "## The theory behind the approach\n",
    "\n",
    "Formulas are inspired from Information Theory, and they are normally used for signal analysis and compression. \n",
    "* Step 2 consist of using Surprisal: by calculating the entropy of each action, we can assign a score on each action, representing how surprised we should be when we see an action happening.\n",
    "* Step 3 uses the Kullback–Leibler divergence formula. This normally tells us how much information is gained by comparing two probabilities together. However, this formula isn't symetric. By calculating both possibilities, we can get an idea how close two profiles are, and use this to group similar behaviours together.\n",
    "\n",
    "* [Information Content](https://en.wikipedia.org/wiki/Information_content)\n",
    "* [Surprisal Analysis](https://en.wikipedia.org/wiki/Surprisal_analysis)\n",
    "* [Kullback–Leibler divergence](https://en.wikipedia.org/wiki/Kullback%E2%80%93Leibler_divergence)\n",
    "* [Example of Surprisal](http://www.umsl.edu/~fraundorfp/egsurpri.html)\n",
    "\n",
    "Example of how to calculate surprisal:\n",
    "* There is 1/6 chance to roll a 6 on a d6 die, gives us -log2(1/6) ~= 2.4849 bits of information. If you are playing D&D, you will be happily surprised.\n",
    "* Not rolling a 6 on a die represents -log2(5/6) ~= 0.263 bits. So rolling anything but a 6 in that same D&D game will most likely leave you dissapointed. \n",
    "* The chance of rolling 10 x 6 in a row on a die is 1/60466176 (10 * -log2(1/6) ~= 25.85 bits). This is highly unlikely.\n",
    "\n",
    "So later when we look at the surprisal score of a user and we see 51550 (bits), this tells us that the actions taken by this user are really, really unlikely.\n",
    "\n",
    "This also tells us that if the total surprisal score of the actions of a user is low, then we can safely assume that the actions taken by that user are normal. But by repeating a large number of normal actions together, the score will pile up and single out the user.\n",
    "\n",
    "Surprisal are calculated using Log base 2, which has the nice particularity to be additive instead of being multiplied like probabilities, keeping numbers relatively small and easy to manipulate.\n",
    "\n",
    "## Demonstration\n",
    "\n",
    "This is what this notebook intend to demonstrate: Using Surprisal analysis, we will assign a score to actions, and by adding up the score of each action, identify series of actions that are unlikely to occur, then group users by their action profile.\n"
   ]
  },
  {
   "cell_type": "markdown",
   "metadata": {},
   "source": [
    "# Step 0: We need logs\n",
    "\n",
    "What is explained in this notebook can be applied to real logs, but for the experimentation, I generate logs for simulated users based on a determined probability distribution.\n",
    "\n",
    "## Caviat: I use some cheats to demonstrate how the notebook works...\n",
    "\n",
    "These cheats are not necessary to make this technique work and are clearly identified when used. I did use one of these cheat at first to identify the most efficient Kullback-Leibler divergence limit to use in Step 3. \n",
    "\n",
    "\n",
    "## Different User Profiles Generated By The Library\n",
    "\n",
    "The following profiles are being generated.\n",
    "\n",
    "Normal users\n",
    "* Buyer\n",
    "* Merchants\n",
    "\n",
    "Abnormal users:\n",
    "* Scraper bots\n",
    "* Spammers\n",
    "* fraudster\n",
    "* Account Attackers\n",
    "\n",
    "Buyers and merchants represent 98% of our logs. Leaving 2% to the abnormal users. However, the actions taken by each users being on a probability distribution. \n",
    "\n",
    "It is possible to see an \"attakcer\" user being classified as a user, because that attacked might have had a change of heart and didn't attack after all. This allows us to demonstrate that this approach is not perfect: a small quantity of unlikely actions will most probably pass under the radar if we just look at the score of each user. That attacker might however be identified if the actions doesn't match the ones of normal users, which would generate a new group and single him/her out.\n"
   ]
  },
  {
   "cell_type": "code",
   "execution_count": 1,
   "metadata": {
    "collapsed": false
   },
   "outputs": [],
   "source": [
    "## This cell initialize the libraries needed for this notebook, \n",
    "## along with the blackbox functions used to generate the users and logs\n",
    "\n",
    "import random\n",
    "import numpy as np\n",
    "import pandas as pd\n",
    "from datetime import datetime, date, time, timedelta\n",
    "from math import log, pow\n",
    "import timeit\n",
    "\n",
    "chrono_start = timeit.default_timer()\n",
    "\n",
    "%load_ext autoreload\n",
    "%autoreload 2\n",
    "\n",
    "from blackbox import distribution as user_profile_distribution\n",
    "from blackbox import generate_userlist, generate_logs, cheat_calculate_hit_rate, cheat_lookup_all_users\n",
    "\n",
    "magic = user_profile_distribution()"
   ]
  },
  {
   "cell_type": "markdown",
   "metadata": {},
   "source": [
    "# Step 0.1: Generating The User Database\n",
    "\n",
    "The following cells generates our users.\n",
    "\n",
    "Note: I often reinitializing the random seed, just to keep the testing consistence. Setting *random_seed* to False will generate new data every time."
   ]
  },
  {
   "cell_type": "code",
   "execution_count": 2,
   "metadata": {
    "collapsed": true
   },
   "outputs": [],
   "source": [
    "## Initial number of users in our system\n",
    "number_of_daily_users = 2000 # The more we add users, the longer the notebook takes to run."
   ]
  },
  {
   "cell_type": "code",
   "execution_count": 3,
   "metadata": {
    "collapsed": false
   },
   "outputs": [
    {
     "name": "stdout",
     "output_type": "stream",
     "text": [
      "2000 users in the database.\n",
      "Type of the 15 firsts: ['buyer', 'merchant', 'merchant', 'buyer', 'buyer', 'buyer', 'buyer', 'buyer', 'merchant', 'merchant', 'merchant', 'merchant', 'buyer', 'buyer', 'buyer']\n"
     ]
    }
   ],
   "source": [
    "random_seed = 42\n",
    "\n",
    "if random_seed:\n",
    "    random.seed(random_seed)\n",
    "\n",
    "all_user_lists = [] # Later on, we can add users to our list by supplying it to the generate_userlist function\n",
    "\n",
    "## We define how many new users to add\n",
    "number_of_new_users = number_of_daily_users - len(all_user_lists)\n",
    "\n",
    "all_user_lists = generate_userlist(all_user_lists, number_of_new_users)\n",
    "todays_user_lists = random.sample(all_user_lists, number_of_daily_users)\n",
    "\n",
    "print(len(todays_user_lists), 'users in the database.')\n",
    "print('Type of the 15 firsts:', todays_user_lists[:15])"
   ]
  },
  {
   "cell_type": "markdown",
   "metadata": {},
   "source": [
    "# Step 0.2: Generating Logs For Day 1\n",
    "\n",
    "Note: The more users we have, the more log events will be generated. \n",
    "\n",
    "The probability distribution of each user ensures that they will start with a defined action, crawl the site following a defined pattern, and logout eventually, until the end of the day."
   ]
  },
  {
   "cell_type": "code",
   "execution_count": 4,
   "metadata": {
    "collapsed": false
   },
   "outputs": [
    {
     "name": "stdout",
     "output_type": "stream",
     "text": [
      "40170 log events generated for 2000 users\n",
      "CPU times: user 7.23 s, sys: 38 ms, total: 7.27 s\n",
      "Wall time: 7.3 s\n"
     ]
    }
   ],
   "source": [
    "%%time\n",
    "if random_seed:\n",
    "    random.seed(random_seed)\n",
    "\n",
    "start_time = datetime(2019,1,1,0,0)\n",
    "day1_logs = generate_logs(todays_user_lists, start_time)\n",
    "\n",
    "print(len(day1_logs), 'log events generated for', len(todays_user_lists), 'users')"
   ]
  },
  {
   "cell_type": "markdown",
   "metadata": {},
   "source": [
    "## Transforming the logs in a pandas dataframe (for this notebook...)\n",
    "\n",
    "The transition surprisal lookup table used in this notebook calculates scores based on the movements of the users between each actions. For example:\n",
    "\n",
    "* login -> view_items (success) will result in a low surpisal value\n",
    "* login -> buy_item (success) never happened. If this sequence happen, this should be a huge red flag.\n",
    "\n",
    "Note: I skipped one feature: the status (success/failure) of the previous path isn't taken into consideration. Adding it would definitely make the calculations more sensitive to anomalies, but with the cost of an increase on complexity."
   ]
  },
  {
   "cell_type": "code",
   "execution_count": 5,
   "metadata": {
    "collapsed": false
   },
   "outputs": [
    {
     "name": "stdout",
     "output_type": "stream",
     "text": [
      "                    time          user   path status  uidx  realtype prev_path\n",
      "558  2019-01-01 00:46:39  merchant1316  login   fail  1316  merchant          \n",
      "777  2019-01-01 00:59:12   attacker652  login   fail   652  attacker          \n",
      "778  2019-01-01 00:59:15   attacker652  login   fail   652  attacker     login\n",
      "779  2019-01-01 00:59:19   attacker652  login   fail   652  attacker     login\n",
      "834  2019-01-01 01:03:14     buyer1472  login   fail  1472     buyer          \n"
     ]
    }
   ],
   "source": [
    "def transform_logs_to_pandas(logs):\n",
    "    data = pd.DataFrame(np.array(logs), columns=['time', 'user', 'path', 'status', 'uidx', 'realtype'])\n",
    "    \n",
    "    data['prev_path'] = data.groupby(['user'])['path'].shift(1)\n",
    "    data['prev_path'] = data['prev_path'].fillna(\"\")\n",
    "    return data\n",
    "    \n",
    "day1_data = transform_logs_to_pandas(day1_logs)\n",
    "\n",
    "\n",
    "# Example of failed actions in the logs. uidx and realtype are \"cheat\" columns, and not necessary in a real case usage.\n",
    "print(day1_data.loc[(day1_data['path'] == 'login') & (day1_data['status'] == 'fail')].head())"
   ]
  },
  {
   "cell_type": "markdown",
   "metadata": {},
   "source": [
    "## Step 1 : Generate the transition lookup table\n",
    "\n",
    "**This is where the magic trick happens.**\n",
    "\n",
    "The following cell generates the transition lookup table used to score each actions taken by the users.\n",
    "\n",
    "The format is as follow:\n",
    "\n",
    "```\n",
    "['current path'],['previous path']: {\n",
    "    'fail': 0, # How many time this action transition failed. (ex. View Items: Success, from: Login: Success)\n",
    "    'success': 13, # How many time this action transition succeded (ex. View Items: Fail, from: Login: Success)\n",
    "    'fsurprisal': 11.266786540694902, # Surprisal value if there is a failure happens\n",
    "    'ssurprisal': 7.56634682255381 # Surprisal value if that action is successful.\n",
    "    }\n",
    "```\n",
    "\n",
    "The surprisal value is directly related to the likelihood of an actions happening. If an actions is observed successfully few million times, then the successful surprisal value will be really low. However, the failure surprisal will be much higher if an action/status never or rarely happens."
   ]
  },
  {
   "cell_type": "code",
   "execution_count": 6,
   "metadata": {
    "collapsed": false
   },
   "outputs": [],
   "source": [
    "def init_transition_surprisal_lookup(data, key, prev_key, feature, success):\n",
    "    surprisal = {}\n",
    "\n",
    "    for pkey in data[key].unique():\n",
    "        data_for_pkey = data.loc[(data[key] == pkey)]\n",
    "        denum = len(data.loc[(data[key] == pkey)])\n",
    "\n",
    "        for ppkey in data_for_pkey[prev_key].unique():\n",
    "            ds = data_for_pkey.loc[(data_for_pkey[prev_key] == ppkey) & (data_for_pkey[feature] == success)]\n",
    "            df = data_for_pkey.loc[(data_for_pkey[prev_key] == ppkey) & (data_for_pkey[feature] != success)]\n",
    "\n",
    "            dsuccess = len(ds) * 1.0\n",
    "            dfail = len(df) * 1.0\n",
    "\n",
    "            if dsuccess == 0:\n",
    "                dsuccess = 1.0 \n",
    "\n",
    "            if dfail == 0:\n",
    "                dfail = 1.0\n",
    "\n",
    "            if (pkey not in surprisal.keys()):\n",
    "                surprisal[pkey] = {}\n",
    "\n",
    "            surprisal[pkey][ppkey] = {\n",
    "                'success': len(ds),  # Not used later one, just interesting for debugging\n",
    "                'fail': len(df),  # Not used later one.\n",
    "                'ssurprisal': log(1/(dsuccess / denum),2), # Magic!!\n",
    "                'fsurprisal': log(1/(dfail / denum),2), # Magic!!\n",
    "            }\n",
    "    return surprisal\n",
    "\n",
    "transition_surprisal = init_transition_surprisal_lookup(day1_data, 'path', 'prev_path', 'status', 'success')"
   ]
  },
  {
   "cell_type": "markdown",
   "metadata": {},
   "source": [
    "The next cell creates a wrapper function to query the transition surprisal lookup table. If the sequence was previously observed, it will return it, and will return the probability of 1 over the total number of actions taken (unlikely) for unobserved events, making them stand out."
   ]
  },
  {
   "cell_type": "code",
   "execution_count": 7,
   "metadata": {
    "collapsed": false
   },
   "outputs": [
    {
     "data": {
      "text/plain": [
       "{'fail': 0,\n",
       " 'fsurprisal': 11.213711798105674,\n",
       " 'ssurprisal': 6.965784284662088,\n",
       " 'success': 19}"
      ]
     },
     "execution_count": 7,
     "metadata": {},
     "output_type": "execute_result"
    }
   ],
   "source": [
    "def get_transition_surprisal(path, prev_path, surprisal, data):\n",
    "    if path not in list(surprisal.keys()):\n",
    "        denum = len(data)\n",
    "        return {\n",
    "            'fail': 0,\n",
    "            'success': 0,\n",
    "            'ssurprisal': log(1/(1/denum),2),\n",
    "            'fsurprisal': log(1/(1/denum),2),\n",
    "        }\n",
    "    else:\n",
    "        if prev_path not in list(surprisal[path].keys()):\n",
    "            denum = len(data.loc[(data['path'] == path)])\n",
    "            return {\n",
    "                'fail': 0,\n",
    "                'success': 0,\n",
    "                'ssurprisal': log(1/(1/denum),2),\n",
    "                'fsurprisal': log(1/(1/denum),2),\n",
    "            }\n",
    "        else:\n",
    "            return surprisal[path][prev_path]\n",
    "\n",
    "# Usage example: what is the surprisal values for a \"buy_item\" action \n",
    "# if the user just logged in on the previous action?\n",
    "get_transition_surprisal('buy_item', 'login', transition_surprisal, day1_data)"
   ]
  },
  {
   "cell_type": "markdown",
   "metadata": {},
   "source": [
    "# Step 2: For each users, sum the probability for all actions taken.\n",
    "\n",
    "The following function takes the dataframe with all the logs for a day, and returns the sum of the surprisal values, conditional to a success or a failure, for all actions taken by a user."
   ]
  },
  {
   "cell_type": "code",
   "execution_count": 8,
   "metadata": {
    "collapsed": false
   },
   "outputs": [],
   "source": [
    "def get_user_transition_score(data, surprisal, key, feature, success_val):\n",
    "    accumulator = {}\n",
    "    key_last_path = {}\n",
    "    \n",
    "    for index,row in data.iterrows():\n",
    "        if row[key] not in key_last_path.keys():\n",
    "            key_last_path[row[key]] = \"\"\n",
    "            \n",
    "        if row[key] not in accumulator.keys():\n",
    "            accumulator[row[key]] = {k:0 for k in data[feature].unique()}\n",
    "            \n",
    "        if row[feature] is success_val:\n",
    "            accumulator[row[key]][row[feature]] += get_transition_surprisal(row[feature],key_last_path[row[key]], surprisal, data)['ssurprisal']\n",
    "        else:\n",
    "            accumulator[row[key]][row[feature]] += get_transition_surprisal(row[feature],key_last_path[row[key]], surprisal, data)['fsurprisal']\n",
    "\n",
    "        key_last_path[row[key]] = row[feature]\n",
    "                                    \n",
    "    return accumulator\n",
    "\n",
    "\n",
    "user_transition_score = get_user_transition_score(day1_data, transition_surprisal, 'user', 'path', 'success')"
   ]
  },
  {
   "cell_type": "markdown",
   "metadata": {},
   "source": [
    "## Optional (but useful): Identify who are the main offenders\n",
    "\n",
    "The following three cells calculate the mean and standard deviation of each users, and display the users with a score of 2 or more standard deviations."
   ]
  },
  {
   "cell_type": "code",
   "execution_count": 9,
   "metadata": {
    "collapsed": true
   },
   "outputs": [],
   "source": [
    "cumulative_score = [[v,sum(user_transition_score[v].values())] for v in [k for k in list(user_transition_score.keys())]]\n",
    "\n",
    "df_cumulative_score = pd.DataFrame(cumulative_score, columns=['user', 'surprisal'])\n",
    "\n",
    "avg = df_cumulative_score['surprisal'].mean()\n",
    "std = df_cumulative_score['surprisal'].std()\n",
    "df_cumulative_score['z'] = (df_cumulative_score['surprisal'] - avg) / std\n"
   ]
  },
  {
   "cell_type": "code",
   "execution_count": 10,
   "metadata": {
    "collapsed": false
   },
   "outputs": [
    {
     "data": {
      "text/html": [
       "<div>\n",
       "<table border=\"1\" class=\"dataframe\">\n",
       "  <thead>\n",
       "    <tr style=\"text-align: right;\">\n",
       "      <th></th>\n",
       "      <th>user</th>\n",
       "      <th>surprisal</th>\n",
       "      <th>z</th>\n",
       "    </tr>\n",
       "  </thead>\n",
       "  <tbody>\n",
       "    <tr>\n",
       "      <th>686</th>\n",
       "      <td>bot272</td>\n",
       "      <td>51550.564081</td>\n",
       "      <td>39.684129</td>\n",
       "    </tr>\n",
       "    <tr>\n",
       "      <th>623</th>\n",
       "      <td>bot1295</td>\n",
       "      <td>25659.755591</td>\n",
       "      <td>19.690524</td>\n",
       "    </tr>\n",
       "    <tr>\n",
       "      <th>189</th>\n",
       "      <td>bot1323</td>\n",
       "      <td>4788.884029</td>\n",
       "      <td>3.573455</td>\n",
       "    </tr>\n",
       "    <tr>\n",
       "      <th>832</th>\n",
       "      <td>bot1292</td>\n",
       "      <td>3741.640951</td>\n",
       "      <td>2.764745</td>\n",
       "    </tr>\n",
       "    <tr>\n",
       "      <th>1867</th>\n",
       "      <td>bot321</td>\n",
       "      <td>3121.263258</td>\n",
       "      <td>2.285672</td>\n",
       "    </tr>\n",
       "  </tbody>\n",
       "</table>\n",
       "</div>"
      ],
      "text/plain": [
       "         user     surprisal          z\n",
       "686    bot272  51550.564081  39.684129\n",
       "623   bot1295  25659.755591  19.690524\n",
       "189   bot1323   4788.884029   3.573455\n",
       "832   bot1292   3741.640951   2.764745\n",
       "1867   bot321   3121.263258   2.285672"
      ]
     },
     "execution_count": 10,
     "metadata": {},
     "output_type": "execute_result"
    }
   ],
   "source": [
    "# List all users with a zscore over 2.\n",
    "df_cumulative_score.loc[df_cumulative_score['z'] >= 2].sort_values(by=['surprisal'], ascending=False)"
   ]
  },
  {
   "cell_type": "code",
   "execution_count": 11,
   "metadata": {
    "collapsed": false
   },
   "outputs": [
    {
     "data": {
      "text/html": [
       "<div>\n",
       "<table border=\"1\" class=\"dataframe\">\n",
       "  <thead>\n",
       "    <tr style=\"text-align: right;\">\n",
       "      <th></th>\n",
       "      <th>user</th>\n",
       "      <th>surprisal</th>\n",
       "      <th>z</th>\n",
       "    </tr>\n",
       "  </thead>\n",
       "  <tbody>\n",
       "    <tr>\n",
       "      <th>1996</th>\n",
       "      <td>buyer528</td>\n",
       "      <td>16.301175</td>\n",
       "      <td>-0.112066</td>\n",
       "    </tr>\n",
       "    <tr>\n",
       "      <th>532</th>\n",
       "      <td>fraudster152</td>\n",
       "      <td>16.046740</td>\n",
       "      <td>-0.112263</td>\n",
       "    </tr>\n",
       "    <tr>\n",
       "      <th>1623</th>\n",
       "      <td>fraudster1221</td>\n",
       "      <td>16.046740</td>\n",
       "      <td>-0.112263</td>\n",
       "    </tr>\n",
       "    <tr>\n",
       "      <th>1988</th>\n",
       "      <td>attacker1699</td>\n",
       "      <td>10.959278</td>\n",
       "      <td>-0.116191</td>\n",
       "    </tr>\n",
       "    <tr>\n",
       "      <th>458</th>\n",
       "      <td>merchant1421</td>\n",
       "      <td>10.959278</td>\n",
       "      <td>-0.116191</td>\n",
       "    </tr>\n",
       "    <tr>\n",
       "      <th>5</th>\n",
       "      <td>buyer282</td>\n",
       "      <td>10.959278</td>\n",
       "      <td>-0.116191</td>\n",
       "    </tr>\n",
       "    <tr>\n",
       "      <th>391</th>\n",
       "      <td>fraudster184</td>\n",
       "      <td>10.959278</td>\n",
       "      <td>-0.116191</td>\n",
       "    </tr>\n",
       "    <tr>\n",
       "      <th>1833</th>\n",
       "      <td>attacker1512</td>\n",
       "      <td>10.959278</td>\n",
       "      <td>-0.116191</td>\n",
       "    </tr>\n",
       "    <tr>\n",
       "      <th>249</th>\n",
       "      <td>buyer1712</td>\n",
       "      <td>10.959278</td>\n",
       "      <td>-0.116191</td>\n",
       "    </tr>\n",
       "    <tr>\n",
       "      <th>1997</th>\n",
       "      <td>buyer1367</td>\n",
       "      <td>5.087463</td>\n",
       "      <td>-0.120726</td>\n",
       "    </tr>\n",
       "  </tbody>\n",
       "</table>\n",
       "</div>"
      ],
      "text/plain": [
       "               user  surprisal         z\n",
       "1996       buyer528  16.301175 -0.112066\n",
       "532    fraudster152  16.046740 -0.112263\n",
       "1623  fraudster1221  16.046740 -0.112263\n",
       "1988   attacker1699  10.959278 -0.116191\n",
       "458    merchant1421  10.959278 -0.116191\n",
       "5          buyer282  10.959278 -0.116191\n",
       "391    fraudster184  10.959278 -0.116191\n",
       "1833   attacker1512  10.959278 -0.116191\n",
       "249       buyer1712  10.959278 -0.116191\n",
       "1997      buyer1367   5.087463 -0.120726"
      ]
     },
     "execution_count": 11,
     "metadata": {},
     "output_type": "execute_result"
    }
   ],
   "source": [
    "# List the 10 most boring users.\n",
    "df_cumulative_score.sort_values(by=['surprisal'], ascending=False).tail(10)"
   ]
  },
  {
   "cell_type": "markdown",
   "metadata": {},
   "source": [
    "## Cheat cell: Identify the ideal \"distance\" to increase the True Positive rate, and reduce the False Positive Rate\n",
    "\n",
    "Without using this cheat, we need to guess the ideal Kullback-Leibler divergence limit. \n",
    "\n",
    "* From experimentation, this should be between 4 and 8. 9 and more did tend to cause a higher False Positive rate.\n",
    "* Values too small are likely to reduces the number of false positives, but will end up create more behaviour profiles\n",
    "* Values too big will result in a smaller number of groups, and more misclassification\n"
   ]
  },
  {
   "cell_type": "code",
   "execution_count": 12,
   "metadata": {
    "collapsed": false
   },
   "outputs": [
    {
     "name": "stdout",
     "output_type": "stream",
     "text": [
      "best 2 {True: {True: 0.937984496124031, False: 0.12451577199778639}, False: {True: 0.06201550387596899, False: 0.8754842280022136}} 0.937984496124031 0.12451577199778639 0.5312501340609087 2\n",
      "best 4 {True: {True: 0.9398496240601504, False: 0.12257348863006101}, False: {True: 0.06015037593984962, False: 0.877426511369939}} 0.9398496240601504 0.12257348863006101 0.5312115563451056 4\n",
      "limit 4\n",
      "count True {True: 120, False: 8}\n",
      "count False {True: 226, False: 1582}\n",
      "percent True {True: 0.9375, False: 0.125}\n",
      "percent False {True: 0.0625, False: 0.875}\n"
     ]
    }
   ],
   "source": [
    "np.seterr(divide='ignore', invalid='ignore', over='ignore')\n",
    "\n",
    "if random_seed:\n",
    "    np.random.seed(random_seed)\n",
    "\n",
    "maxlimit = 1\n",
    "maxtp = 0\n",
    "mintn = 1\n",
    "best_flat_lookup = {}\n",
    "\n",
    "for l in range(2, 10):\n",
    "    flat_status, flat_lookup = cheat_calculate_hit_rate(day1_data, user_transition_score, l)\n",
    "    if maxtp <= flat_lookup[True][True] and mintn >= flat_lookup[True][False]:\n",
    "        maxtp = flat_lookup[True][True]\n",
    "        mintn = flat_lookup[True][False]\n",
    "        maxlimit = l\n",
    "        print('best', l, flat_lookup, maxtp, mintn, (maxtp+mintn)/2,maxlimit)\n",
    "    \n",
    "\n",
    "flat_status, flat_lookup = cheat_calculate_hit_rate(day1_data, user_transition_score, maxlimit)\n",
    "\n",
    "print('limit', maxlimit)\n",
    "print('count', True, flat_status[True])\n",
    "print('count', False, flat_status[False])\n",
    "\n",
    "print('percent', True, flat_lookup[True])\n",
    "print('percent', False, flat_lookup[False])\n"
   ]
  },
  {
   "cell_type": "code",
   "execution_count": 13,
   "metadata": {
    "collapsed": true
   },
   "outputs": [],
   "source": [
    "# Bypassing the cheat function and forcing the maximum Kullback-Leibler divergence limit.\n",
    "maxlimit = 5"
   ]
  },
  {
   "cell_type": "markdown",
   "metadata": {},
   "source": [
    "# Step 3: Grouping users by their behaviour\n",
    "\n",
    "The second magic trick is in the compare_profiles() function"
   ]
  },
  {
   "cell_type": "code",
   "execution_count": 14,
   "metadata": {
    "collapsed": false
   },
   "outputs": [
    {
     "name": "stdout",
     "output_type": "stream",
     "text": [
      "merchant857 {'login': 5.08746284125034, 'view_item': 14.71112919630353, 'comment': 0, 'buy_item': 0, 'logout': 0, 'end': 10.959277505720502, 'sell_item': 10.349281228817453, 'home': 0, 'bank_modify': 0, 'view_profile': 0, 'password_reset': 0, 'payment_modify': 0, 'update_address': 0, 'update_email': 0}\n",
      "merchant946 {'login': 5.08746284125034, 'view_item': 129.07211050631952, 'comment': 0, 'buy_item': 0, 'logout': 0, 'end': 10.959277505720502, 'sell_item': 102.84895609839981, 'home': 0, 'bank_modify': 0, 'view_profile': 0, 'password_reset': 0, 'payment_modify': 0, 'update_address': 0, 'update_email': 0}\n"
     ]
    },
    {
     "data": {
      "text/plain": [
       "{'dklp': -1.0127900003221136e-29, 'dklq': 0.0751718455254234, 'test': True}"
      ]
     },
     "execution_count": 14,
     "metadata": {},
     "output_type": "execute_result"
    }
   ],
   "source": [
    "# Calculating the \"distance\" between profiles requires to convert log base 2 back to probabilities, \n",
    "# which sometimes causes overflow when profiles are too far apart. We can safely ignore these errors\n",
    "np.seterr(divide='ignore', invalid='ignore', over='ignore') \n",
    "\n",
    "# If new actions are observed and are missing, we need to 1) ignore them, or 2) add them for the calculation\n",
    "# This function ensure that both profiles has the same keys, and asign 0 when missing\n",
    "# Profiles and keys are returned in order of key names\n",
    "def align_profiles(profile1, profile2):\n",
    "    if profile1.keys() != profile2.keys():\n",
    "        for k in profile1.keys():\n",
    "            if k not in profile2.keys():\n",
    "                profile2[k] = 0#profile1[k]\n",
    "        for k in profile2.keys():\n",
    "            if k not in profile1.keys():\n",
    "                profile1[k] = 0#profile2[k]\n",
    "    p1 = [value for (key, value) in sorted(profile1.items())]\n",
    "    p2 = [value for (key, value) in sorted(profile2.items())]\n",
    "    allkeys = [key for (key, value) in sorted(profile2.items())]\n",
    "    return p1, p2, allkeys\n",
    "\n",
    "# Magic here too!\n",
    "# this function calculate the proximity between two profiles\n",
    "# The Kullback-Leibler function isn't symetric, so A could be close to B, but B be absolutely different to A\n",
    "# This is why we calculate the two possible distance (a/b and b/a)\n",
    "# The return value is True if the two profiles are within the limit distance, else it returns False\n",
    "def compare_profiles(profile1, profile2, limit = 7):\n",
    "    u1, u2, trash = align_profiles(profile1, profile2)\n",
    "    \n",
    "    # Ref: https://en.wikipedia.org/wiki/Kullback%E2%80%93Leibler_divergence#Definition\n",
    "    px = [1/np.power(2,x) for x in np.array(u1)]    \n",
    "    qx = [1/np.power(2,x) for x in np.array(u2)]\n",
    "    \n",
    "    p = np.array(qx)/np.array(px)\n",
    "    q = np.array(px)/np.array(qx)\n",
    "    dklp = (qx * np.log2(p)).sum()\n",
    "    dklq = (px * np.log2(q)).sum()\n",
    "    \n",
    "    # dklp/dlklq == Divergence Kullback-Leibler for p and q\n",
    "    t = (dklp < limit and dklp >= -limit) and (dklq < limit and dklq >= -limit)\n",
    "    \n",
    "    return {'test': t, 'dklp': dklp, 'dklq': dklq}\n",
    "\n",
    "# Example of usage\n",
    "test_users = random.sample(user_transition_score.keys(),2)\n",
    "print(test_users[0], user_transition_score[test_users[0]])\n",
    "print(test_users[1], user_transition_score[test_users[1]])\n",
    "compare_profiles(user_transition_score[test_users[0]], user_transition_score[test_users[1]], maxlimit)"
   ]
  },
  {
   "cell_type": "code",
   "execution_count": 15,
   "metadata": {
    "collapsed": false
   },
   "outputs": [
    {
     "data": {
      "text/plain": [
       "{'a': 1.5, 'b': 1.75, 'c': 3.25, 'd': 1.0}"
      ]
     },
     "execution_count": 15,
     "metadata": {},
     "output_type": "execute_result"
    }
   ],
   "source": [
    "# This function is used to calculate the average profile for a behaviour group.\n",
    "# The idea is that it will align the profiles first, then calculate the average of the values for each keys\n",
    "def compile_average_for_type(array):\n",
    "    garbage = {}\n",
    "    for i in range(len(array)):\n",
    "        if len(garbage.keys()) == 0:\n",
    "            garbage = array[i]\n",
    "        else:\n",
    "            g, a, allkeys = align_profiles(garbage, array[i])\n",
    "            c = np.array(g) + np.array(a)\n",
    "            for idx in range(len(allkeys)):\n",
    "                garbage[allkeys[idx]] = c[idx] \n",
    "    for k in garbage.keys():\n",
    "        garbage[k] = garbage[k] / len(array)\n",
    "    return garbage\n",
    "\n",
    "# Example of usage\n",
    "array = [{'a':1,'b':2,'c':3}, {'a':1,'b':2,'c':3}, {'a':1,'b':2,'c':3, 'd':4}, {'a':3,'b':1,'c':4}]\n",
    "compile_average_for_type(array)"
   ]
  },
  {
   "cell_type": "markdown",
   "metadata": {},
   "source": [
    "Once classified, this function will add to the identified class.\n",
    "* If the target class does not exist yet (the classification function returns an \n",
    "* Inexistant class the candidate didn't match any existing profile)\n",
    "* Then the function will add the candidate to that class."
   ]
  },
  {
   "cell_type": "code",
   "execution_count": 16,
   "metadata": {
    "collapsed": true
   },
   "outputs": [],
   "source": [
    "def add_candidate_to_behaviour_group(candidate_name, matching_class, behaviour_group_table):  \n",
    "    if matching_class not in behaviour_group_table.keys():\n",
    "        behaviour_group_table[matching_class] = []\n",
    "\n",
    "    if candidate_name not in behaviour_group_table[matching_class]:\n",
    "        behaviour_group_table[matching_class].append(candidate_name)\n",
    "        \n",
    "    return candidate_name"
   ]
  },
  {
   "cell_type": "code",
   "execution_count": 17,
   "metadata": {
    "collapsed": false
   },
   "outputs": [],
   "source": [
    "# This is a cleanup function. If a user is already a member of a class, it will be removed \n",
    "# to be reclassified again\n",
    "# If the class is empty once cleaned, it will stay emptied since another candidate \n",
    "# might have that profile later one.\n",
    "def remove_from_classification(candidate_name, behaviour_group_table):\n",
    "    cleaneds = [] # convention, I put s to array variables\n",
    "    empties = []\n",
    "    for be, be_list in behaviour_group_table.items():\n",
    "        if candidate_name in behaviour_group_table[be]:\n",
    "            behaviour_group_table[be].remove(candidate_name)\n",
    "            cleaneds.append(be)\n",
    "        if len(behaviour_group_table[be]) == 0:\n",
    "            empties.append(be)\n",
    "    for e in empties:\n",
    "        del behaviour_group_table[e]\n",
    "            \n",
    "    return cleaneds       \n",
    "\n",
    "# This function compares the candidates to the saved average calculated for each behaviour group\n",
    "def classify_candidates_average(candidate_name, behaviour_type_average, score, limit = 7):\n",
    "    potential_matching_type = {}\n",
    "    passing_score = 0.9\n",
    "    sample_size = 10\n",
    "    small_size_adjustment = 2\n",
    "    \n",
    "    for be, be_average in behaviour_type_average.items():\n",
    "        result = compare_profiles(score[candidate_name], be_average, limit)\n",
    "            \n",
    "        if result['test'] == True:\n",
    "            potential_matching_type[be] = result['dklp'] - result['dklq']\n",
    "\n",
    "    if len(potential_matching_type.keys()) == 0:\n",
    "        new_class_name = max(0,len(list(behaviour_type_average.values())))\n",
    "        return new_class_name\n",
    "    else:\n",
    "        return min(potential_matching_type, key=potential_matching_type.get)\n",
    "\n",
    "# This is a helper function that calls all the actions in order for all unclassified users\n",
    "# The candidate is selected at random from the list to prevent behaviour_class skewing if a batch of close users has\n",
    "# slightly similar behaviours.\n",
    "# The recalculation of the average only happens on the first value, and later one at each 4 profiles.\n",
    "# Profiles selected to calculate the average are also selected at random to try to keep the average balanced over time\n",
    "# This is also to prevent behaviour group polution. An earlier version was using Bayes probability update to test \n",
    "# a candidate against multiple members of a class, which had a bad side effect: If the maxmimum allowed distance is 5, \n",
    "# the first value might be 5, the second, could be between 0 and 10 and would be found as a match, then the following\n",
    "# could stretch until 15, and so on. If enough tests were made, because we know that the classification is normally\n",
    "# quite accurate, this would allow group to degenerate.\n",
    "def classify_users_in_list(unclassified_user_lists, behaviour_group_table, behaviour_average_table, score, limit = 7):\n",
    "    # select one user\n",
    "    candidate_name = random.choice(unclassified_user_lists)\n",
    "    if candidate_name:\n",
    "        # classify user\n",
    "        cleanup = remove_from_classification(candidate_name, behaviour_group_table)\n",
    "        \n",
    "        matching_class = classify_candidates_average(candidate_name, behaviour_average_table, score, limit)\n",
    "\n",
    "        # add the user to the proper type\n",
    "        add_candidate_to_behaviour_group(candidate_name, matching_class, behaviour_group_table)\n",
    "        if len(behaviour_group_table[matching_class]) % 4 == 0 or len(behaviour_group_table[matching_class]) == 1:\n",
    "            scores_for_users = random.sample(\n",
    "                [score[x] for x in behaviour_group_table[matching_class]], \n",
    "                min(len(behaviour_group_table[matching_class]),10)\n",
    "            )\n",
    "            behaviour_average_table[matching_class] = compile_average_for_type(scores_for_users)\n",
    "        unclassified_user_lists.remove(candidate_name)"
   ]
  },
  {
   "cell_type": "markdown",
   "metadata": {},
   "source": [
    "## Extract the users to classify from the observed active users\n",
    "\n",
    "The following cell initialize the behaviour_group_table and behaviour_average_table variables.\n",
    "Then we get the list of observed users, and we create a list of unclassified users to classify."
   ]
  },
  {
   "cell_type": "code",
   "execution_count": 18,
   "metadata": {
    "collapsed": false
   },
   "outputs": [
    {
     "name": "stdout",
     "output_type": "stream",
     "text": [
      "1999\n"
     ]
    }
   ],
   "source": [
    "if random_seed:\n",
    "    random.seed(random_seed)\n",
    "\n",
    "behaviour_group_table = {}\n",
    "behaviour_average_table = {}\n",
    "print(len(list(user_transition_score.keys())))\n",
    "unclassified_user_lists = random.sample(list(user_transition_score.keys()), min(len(todays_user_lists), len(list(user_transition_score.keys()))))"
   ]
  },
  {
   "cell_type": "markdown",
   "metadata": {},
   "source": [
    "The next cell is heavy to run. This is where we go through the list of unclassified users and we add them in the proper group.\n",
    "\n",
    "Note: *behaviour_group_table* and *behaviour_average_table* are modified by the subfunctions"
   ]
  },
  {
   "cell_type": "code",
   "execution_count": 19,
   "metadata": {
    "collapsed": false,
    "scrolled": false
   },
   "outputs": [
    {
     "name": "stdout",
     "output_type": "stream",
     "text": [
      "CPU times: user 6.27 s, sys: 23.8 ms, total: 6.29 s\n",
      "Wall time: 6.34 s\n"
     ]
    }
   ],
   "source": [
    "%%time\n",
    "while len(unclassified_user_lists):\n",
    "    classify_users_in_list(unclassified_user_lists, behaviour_group_table, behaviour_average_table, user_transition_score, maxlimit)"
   ]
  },
  {
   "cell_type": "markdown",
   "metadata": {},
   "source": [
    "## Cheat cell: List all behaviour groups and the number of user by their real type\n",
    "\n",
    "This cell is only to demonstrate that the previous functions mostly group users by their good real time.\n",
    "There are some misclassifications, this could be caused by the randomness of the actions taken by the generated users. \n",
    "\n",
    "Also, an attacker's action could look exactly like a real user. In these cases, we will most probably won't be able to identify that that user was an attacker, unless other actions were taken that would separate the behaviour profile from a normal user."
   ]
  },
  {
   "cell_type": "code",
   "execution_count": 20,
   "metadata": {
    "collapsed": false
   },
   "outputs": [
    {
     "name": "stdout",
     "output_type": "stream",
     "text": [
      "0 133.81558114 528 {'merchant': 528}\n",
      "1 89.4563711812 515 {'buyer': 515}\n",
      "2 122.584854049 476 {'merchant': 476}\n",
      "3 157.83356633 165 {'buyer': 165}\n",
      "4 145.142789844 56 {'buyer': 56}\n",
      "5 82.4124937823 201 {'buyer': 201}\n",
      "6 17.9298542566 3 {'fraudster': 2, 'attacker': 1}\n",
      "7 10.9592775057 6 {'attacker': 2, 'buyer': 2, 'fraudster': 1, 'merchant': 1}\n",
      "8 25659.7555907 1 {'bot': 1}\n",
      "9 39.0774246392 7 {'buyer': 7}\n",
      "10 28.3358997395 2 {'buyer': 1, 'merchant': 1}\n",
      "11 158.391936923 2 {'merchant': 2}\n",
      "12 140.563175357 4 {'spammer': 4}\n",
      "13 5.08746284125 1 {'buyer': 1}\n",
      "14 31.5748267938 2 {'buyer': 2}\n",
      "15 94.2536470715 4 {'attacker': 4}\n",
      "16 167.587890011 3 {'fraudster': 1, 'buyer': 2}\n",
      "17 206.475582662 1 {'merchant': 1}\n",
      "18 168.933119571 1 {'spammer': 1}\n",
      "19 16.3011746394 1 {'buyer': 1}\n",
      "20 77.5364574116 1 {'buyer': 1}\n",
      "21 228.95766815 2 {'merchant': 2}\n",
      "22 373.794311498 1 {'spammer': 1}\n",
      "23 190.819622188 2 {'buyer': 1, 'fraudster': 1}\n",
      "24 111.698395602 2 {'merchant': 2}\n",
      "25 48.4507278436 1 {'merchant': 1}\n",
      "26 3121.26325764 1 {'bot': 1}\n",
      "27 26.3228647522 1 {'fraudster': 1}\n",
      "28 471.164325798 1 {'merchant': 1}\n",
      "29 51550.5640814 1 {'bot': 1}\n",
      "30 181.700719883 1 {'buyer': 1}\n",
      "31 63.1502967645 1 {'buyer': 1}\n",
      "32 168.427842172 1 {'buyer': 1}\n",
      "33 4788.88402875 1 {'bot': 1}\n",
      "34 183.165776658 1 {'merchant': 1}\n",
      "35 181.943107272 1 {'buyer': 1}\n",
      "36 3741.64095064 1 {'bot': 1}\n"
     ]
    }
   ],
   "source": [
    "for k in behaviour_group_table.keys():\n",
    "        type_average = np.mean([sum(user_transition_score[x].values()) for x in behaviour_group_table[k]])\n",
    "        print(k, type_average, len(behaviour_group_table[k]), cheat_lookup_all_users(behaviour_group_table[k]))"
   ]
  },
  {
   "cell_type": "markdown",
   "metadata": {},
   "source": [
    "# Step 4: Analyse the behaviour groups, and lighlight which group contains outliers\n",
    "\n",
    "This sections demonstrates how we can visualise and classify each group of behaviours. "
   ]
  },
  {
   "cell_type": "code",
   "execution_count": 21,
   "metadata": {
    "collapsed": false
   },
   "outputs": [],
   "source": [
    "# This cell creates an helper function to generate a graph of the number of users in each behaviour group\n",
    "\n",
    "import matplotlib.pyplot as plt\n",
    "plt.style.use('ggplot')\n",
    "import matplotlib\n",
    "\n",
    "def graph_user_distribution_by_behaviour_id(type_table, average_table, transition_score):  \n",
    "    current_behaviour_state_table = {}\n",
    "    for k in type_table.keys():\n",
    "        type_average = np.mean([sum(transition_score[x].values()) for x in type_table[k]])\n",
    "        current_behaviour_state_table[k] = {'type': k, 'score':type_average, 'nbmembers':len(type_table[k]), 'behaviour': average_table[k]}\n",
    "    \n",
    "    plt.figure(figsize=(20,5))\n",
    "\n",
    "    index = np.array(list(current_behaviour_state_table.keys()))\n",
    "    names = list(type_table.keys())\n",
    "    v1 = [current_behaviour_state_table[x]['nbmembers'] for x in names]\n",
    "    plt.figure(1, figsize=(9, 5))\n",
    "\n",
    "    bar_width = 0.4\n",
    "    spare_width = (1 - bar_width*2)/2\n",
    "\n",
    "    rects1 = plt.bar(index, v1, bar_width,\n",
    "                    color='b',\n",
    "                    label='Nb Members')\n",
    "\n",
    "    plt.xlabel('Behaviour Group ID')\n",
    "    plt.ylabel('Number of Users')\n",
    "    plt.title('Number of User Per Behaviour Group')\n",
    "    plt.xticks(index)\n",
    "    plt.grid()\n",
    "    plt.legend()\n",
    "    return plt"
   ]
  },
  {
   "cell_type": "code",
   "execution_count": 22,
   "metadata": {
    "collapsed": false
   },
   "outputs": [],
   "source": [
    "# This cell creates an helper function that displays the distribution of actions for each group.\n",
    "# Note that the surprisal value for a single action is maxed out at 500. More than this, the graph\n",
    "# becomes useless since all normal actions squashed by the outliers\n",
    "\n",
    "def graph_surprisal_distribution_by_action(type_table, average_table, transition_score):\n",
    "    current_behaviour_state_table = {}\n",
    "    for k in type_table.keys():\n",
    "        type_average = np.mean([sum(transition_score[x].values()) for x in type_table[k]])\n",
    "        current_behaviour_state_table[k] = {'type': k, 'score':type_average, 'nbmembers':len(type_table[k]), 'behaviour': average_table[k]}\n",
    "    \n",
    "    surprisal_stats = np.array([\n",
    "        [current_behaviour_state_table[y]['behaviour'][x] for x in sorted(current_behaviour_state_table[1]['behaviour'].keys())]\n",
    "        for y in [x for x in list(current_behaviour_state_table.keys()) if current_behaviour_state_table[x]['nbmembers'] > 0]\n",
    "    ]).T\n",
    "    \n",
    "    keylists_columns = [x for x in sorted(list(current_behaviour_state_table.keys())) if current_behaviour_state_table[x]['nbmembers'] > 0]\n",
    "    if len(keylists_columns) > 0:\n",
    "        path_rows = sorted(current_behaviour_state_table[keylists_columns[0]]['behaviour'].keys())\n",
    "\n",
    "        fig = plt.figure()\n",
    "        ax = fig.add_subplot(111)\n",
    "        fig = matplotlib.pyplot.gcf()\n",
    "        fig.set_size_inches(20.0,7.5)\n",
    "\n",
    "        # https://matplotlib.org/examples/color/colormaps_reference.html\n",
    "        colors = plt.cm.Paired(np.linspace(0, 1, len(path_rows)))\n",
    "\n",
    "        n_rows = len(surprisal_stats)\n",
    "\n",
    "        index = np.arange(len(keylists_columns)) + 0.4\n",
    "        bar_width = 0.4\n",
    "        opacity=0.4\n",
    "        spare_width = (1 - bar_width*2)/2\n",
    "\n",
    "        ax.set_xlim(-spare_width,len(index)-spare_width)\n",
    "        ax.set_ylabel(\"Surprisal Distribution\")\n",
    "        xTickMarks = keylists_columns\n",
    "\n",
    "        ax.set_xticks(index+bar_width)\n",
    "\n",
    "        xtickNames = ax.set_xticklabels(xTickMarks)\n",
    "        plt.setp(xtickNames, rotation=0, fontsize=40)\n",
    "        ax.yaxis.grid()\n",
    "\n",
    "        y_offset = np.zeros(len(keylists_columns))\n",
    "\n",
    "        # Plot bars and create text labels for the table\n",
    "        cell_text = []\n",
    "        for row in range(n_rows):\n",
    "            plt.bar(index, np.minimum(surprisal_stats[row],500), bar_width, bottom=y_offset, color=colors[row])\n",
    "            y_offset = y_offset + np.minimum(surprisal_stats[row],500)\n",
    "            cell_text.append(['%.1f' % x for x in surprisal_stats[row]])\n",
    "\n",
    "        # Add a table at the bottom of the axes\n",
    "        the_table = plt.table(cellText=cell_text,\n",
    "                              rowLabels=path_rows,\n",
    "                              rowColours=colors,\n",
    "                              alpha=opacity,\n",
    "                              colLabels=keylists_columns,\n",
    "                              loc='bottom')\n",
    "        the_table.scale(1,2.5)\n",
    "        the_table.auto_set_font_size(value=False)\n",
    "\n",
    "        # Adjust layout to make room for the table:\n",
    "        plt.subplots_adjust(left=0.2, bottom=0.2)\n",
    "        ax.xaxis.labelpad = 260\n",
    "        ax.yaxis.labelpad = 20\n",
    "\n",
    "        plt.xticks([])\n",
    "        plt.title('Distribution Of Actions By Behaviour Type')\n",
    "    return plt\n"
   ]
  },
  {
   "cell_type": "markdown",
   "metadata": {},
   "source": [
    "## Graph the behaviour groups and the count of members"
   ]
  },
  {
   "cell_type": "code",
   "execution_count": 23,
   "metadata": {
    "collapsed": false
   },
   "outputs": [
    {
     "data": {
      "text/plain": [
       "<module 'matplotlib.pyplot' from '/Users/simon/anaconda/lib/python3.6/site-packages/matplotlib/pyplot.py'>"
      ]
     },
     "execution_count": 23,
     "metadata": {},
     "output_type": "execute_result"
    },
    {
     "data": {
      "image/png": "[encoded data removed]",
      "text/plain": [
       "<matplotlib.figure.Figure at 0x11919fe48>"
      ]
     },
     "metadata": {},
     "output_type": "display_data"
    }
   ],
   "source": [
    "graph_user_distribution_by_behaviour_id(behaviour_group_table, behaviour_average_table, user_transition_score)"
   ]
  },
  {
   "cell_type": "markdown",
   "metadata": {},
   "source": [
    "## Graph the distribution of by action, weighted by their surprisal score\n",
    "\n",
    "How to read the graph: \n",
    "* Compare the previous graph and this one\n",
    "* Groups with high number of users and a low surprisal distribution should mainly represent normal users. \n",
    "* The different colors should also help to identify which action was mainly used by these users\n",
    "\n",
    "How to spot outliers?\n",
    "* Look for groups with a low number of users and a high surprisal distribution.\n",
    "* The bottom table with the list of actions and scores can also be used to understand the bar above. Low values represent normal actions, high values represents outliers.\n",
    "* With the distribution of test users used in this notebook, bots should be the main offenders.\n",
    "\n",
    "Note: The graph below is probably not the best long term solution to graph behaviour groups since it will tend to be crowded with time. It's just for the prouf of concept."
   ]
  },
  {
   "cell_type": "code",
   "execution_count": 24,
   "metadata": {
    "collapsed": false
   },
   "outputs": [
    {
     "data": {
      "text/plain": [
       "<module 'matplotlib.pyplot' from '/Users/simon/anaconda/lib/python3.6/site-packages/matplotlib/pyplot.py'>"
      ]
     },
     "execution_count": 24,
     "metadata": {},
     "output_type": "execute_result"
    },
    {
     "data": {
      "image/png": "[encoded data removed]",
      "text/plain": [
       "<matplotlib.figure.Figure at 0x11a256128>"
      ]
     },
     "metadata": {},
     "output_type": "display_data"
    }
   ],
   "source": [
    "graph_surprisal_distribution_by_action(behaviour_group_table, behaviour_average_table, user_transition_score)"
   ]
  },
  {
   "cell_type": "markdown",
   "metadata": {},
   "source": [
    "# 4.1 Investigate the behaviour groups to understand the behaviour of the members\n",
    "\n",
    "The following cell extracts the count of actions for each member of a designated group.\n"
   ]
  },
  {
   "cell_type": "code",
   "execution_count": 25,
   "metadata": {
    "collapsed": false,
    "scrolled": false
   },
   "outputs": [
    {
     "data": {
      "text/html": [
       "<div>\n",
       "<table border=\"1\" class=\"dataframe\">\n",
       "  <thead>\n",
       "    <tr style=\"text-align: right;\">\n",
       "      <th></th>\n",
       "      <th>path</th>\n",
       "      <th>end</th>\n",
       "      <th>login</th>\n",
       "      <th>view_item</th>\n",
       "    </tr>\n",
       "    <tr>\n",
       "      <th>user</th>\n",
       "      <th>status</th>\n",
       "      <th></th>\n",
       "      <th></th>\n",
       "      <th></th>\n",
       "    </tr>\n",
       "  </thead>\n",
       "  <tbody>\n",
       "    <tr>\n",
       "      <th rowspan=\"2\" valign=\"top\">bot321</th>\n",
       "      <th>fail</th>\n",
       "      <td>0</td>\n",
       "      <td>0</td>\n",
       "      <td>30</td>\n",
       "    </tr>\n",
       "    <tr>\n",
       "      <th>success</th>\n",
       "      <td>1</td>\n",
       "      <td>1</td>\n",
       "      <td>514</td>\n",
       "    </tr>\n",
       "  </tbody>\n",
       "</table>\n",
       "</div>"
      ],
      "text/plain": [
       "path            end  login  view_item\n",
       "user   status                        \n",
       "bot321 fail       0      0         30\n",
       "       success    1      1        514"
      ]
     },
     "execution_count": 25,
     "metadata": {},
     "output_type": "execute_result"
    }
   ],
   "source": [
    "behaviour_group_to_analyse = 26\n",
    "\n",
    "df_investigate = day1_data.loc[day1_data['user'].isin(behaviour_group_table[behaviour_group_to_analyse])]\n",
    "df_investigate.groupby(['user', 'status', 'path']).size().unstack(fill_value=0)"
   ]
  },
  {
   "cell_type": "markdown",
   "metadata": {},
   "source": [
    "# What next: Repeating the analysis on following days\n",
    "\n",
    "Now that all functions are defined, we can collect logs on subsequent days and classify the users with the previously identified behaviour groups.\n",
    "\n",
    "If users change their behaviour, they will be reclassified. Inactive users will stay where they are.\n",
    "\n",
    "Except the \"merge_user_transition_score\" function, all functions called were previously used. I simply adjusted them to analyse the logs of a different day, in which 200 new users registered.\n",
    "\n",
    "Event logs are also limited to the daily number of users defined at the beginning of the notebook. This means that some users will come back, and some won't. If a user is reclassified, some behaviour group might end up being empty. Empty groups will be deleted in *behaviour_group_table* but will remain in *behaviour_average_table* for further classification if needed. \n",
    "\n",
    "Empty groups will be represented by empty column indexes in the graph, but the behaviour average is preserved  "
   ]
  },
  {
   "cell_type": "code",
   "execution_count": 26,
   "metadata": {
    "collapsed": false
   },
   "outputs": [
    {
     "name": "stdout",
     "output_type": "stream",
     "text": [
      "Number of active users today: 2000 ['merchant', 'buyer', 'merchant', 'buyer', 'merchant']\n",
      "36626 logs events generated for 2000 users\n"
     ]
    }
   ],
   "source": [
    "# New day\n",
    "start_time = datetime(2019,1,2,0,0)\n",
    "\n",
    "# Changing the initial seed to get different results\n",
    "if random_seed:\n",
    "    random.seed(random_seed + 1)\n",
    "\n",
    "# How many new users registered today\n",
    "number_of_new_users = 200\n",
    "all_user_lists = generate_userlist(all_user_lists, number_of_new_users)\n",
    "\n",
    "# Select which users will login today\n",
    "todays_user_lists = random.sample(all_user_lists, number_of_daily_users)\n",
    "\n",
    "print('Number of active users today:', len(todays_user_lists), todays_user_lists[:5])\n",
    "\n",
    "if random_seed:\n",
    "    random.seed(random_seed + 1)\n",
    "# Generate the logs for the day for the active users\n",
    "day2_logs = generate_logs(todays_user_lists, start_time)\n",
    "\n",
    "print(len(day2_logs), 'logs events generated for', len(todays_user_lists), 'users')\n",
    "\n",
    "# Prepare the data for analysis, by converting them in a pandas dataframe\n",
    "day2_data = transform_logs_to_pandas(day2_logs)"
   ]
  },
  {
   "cell_type": "code",
   "execution_count": 27,
   "metadata": {
    "collapsed": false
   },
   "outputs": [],
   "source": [
    "# Calculate the user transition score based on the previous day surprisal lookup table. \n",
    "# We could have recompile is here as well, but this is to be consistant with the suggestion to compare users against\n",
    "# a previously calculated transition table.\n",
    "user_transition_score_day2 = get_user_transition_score(day2_data, transition_surprisal, 'user', 'path', 'success')"
   ]
  },
  {
   "cell_type": "markdown",
   "metadata": {},
   "source": [
    "## Merge the previously calculated transition scores with the new ones\n",
    "The next function takes the new user transition scores calculated for the second day, and add the values from day 1 for the missing users. This is done to allow us to compare new profiles with previous users when behaviour groups averages are reclaculated."
   ]
  },
  {
   "cell_type": "code",
   "execution_count": 28,
   "metadata": {
    "collapsed": false
   },
   "outputs": [
    {
     "data": {
      "text/plain": [
       "3015"
      ]
     },
     "execution_count": 28,
     "metadata": {},
     "output_type": "execute_result"
    }
   ],
   "source": [
    "def merge_user_transition_score(original, newtransitions):        \n",
    "    for key in original.keys():\n",
    "        if key not in newtransitions.keys():\n",
    "            newtransitions[key] = original[key]\n",
    "\n",
    "    return newtransitions\n",
    "\n",
    "user_transition_score_merged = merge_user_transition_score(user_transition_score, user_transition_score_day2)\n",
    "len(user_transition_score_merged)"
   ]
  },
  {
   "cell_type": "markdown",
   "metadata": {},
   "source": [
    "## Optional (but useful): Identifying unclassified outliers\n",
    "\n",
    "Same as done on day 1, we can identify outliers just by listing the ones with 2 standard deviations and more."
   ]
  },
  {
   "cell_type": "code",
   "execution_count": 29,
   "metadata": {
    "collapsed": false
   },
   "outputs": [
    {
     "data": {
      "text/html": [
       "<div>\n",
       "<table border=\"1\" class=\"dataframe\">\n",
       "  <thead>\n",
       "    <tr style=\"text-align: right;\">\n",
       "      <th></th>\n",
       "      <th>user</th>\n",
       "      <th>surprisal</th>\n",
       "      <th>z</th>\n",
       "    </tr>\n",
       "  </thead>\n",
       "  <tbody>\n",
       "    <tr>\n",
       "      <th>2346</th>\n",
       "      <td>bot272</td>\n",
       "      <td>51550.564081</td>\n",
       "      <td>41.683575</td>\n",
       "    </tr>\n",
       "    <tr>\n",
       "      <th>2318</th>\n",
       "      <td>bot1295</td>\n",
       "      <td>25659.755591</td>\n",
       "      <td>20.679847</td>\n",
       "    </tr>\n",
       "    <tr>\n",
       "      <th>204</th>\n",
       "      <td>bot583</td>\n",
       "      <td>21476.474817</td>\n",
       "      <td>17.286191</td>\n",
       "    </tr>\n",
       "    <tr>\n",
       "      <th>1404</th>\n",
       "      <td>bot1919</td>\n",
       "      <td>19934.067892</td>\n",
       "      <td>16.034925</td>\n",
       "    </tr>\n",
       "    <tr>\n",
       "      <th>1357</th>\n",
       "      <td>bot1125</td>\n",
       "      <td>16706.965581</td>\n",
       "      <td>13.416962</td>\n",
       "    </tr>\n",
       "    <tr>\n",
       "      <th>1809</th>\n",
       "      <td>bot387</td>\n",
       "      <td>7947.687878</td>\n",
       "      <td>6.311062</td>\n",
       "    </tr>\n",
       "    <tr>\n",
       "      <th>1589</th>\n",
       "      <td>bot1141</td>\n",
       "      <td>6650.017108</td>\n",
       "      <td>5.258336</td>\n",
       "    </tr>\n",
       "    <tr>\n",
       "      <th>2099</th>\n",
       "      <td>bot1323</td>\n",
       "      <td>4788.884029</td>\n",
       "      <td>3.748506</td>\n",
       "    </tr>\n",
       "    <tr>\n",
       "      <th>2429</th>\n",
       "      <td>bot1292</td>\n",
       "      <td>3741.640951</td>\n",
       "      <td>2.898938</td>\n",
       "    </tr>\n",
       "    <tr>\n",
       "      <th>2941</th>\n",
       "      <td>bot321</td>\n",
       "      <td>3121.263258</td>\n",
       "      <td>2.395661</td>\n",
       "    </tr>\n",
       "  </tbody>\n",
       "</table>\n",
       "</div>"
      ],
      "text/plain": [
       "         user     surprisal          z\n",
       "2346   bot272  51550.564081  41.683575\n",
       "2318  bot1295  25659.755591  20.679847\n",
       "204    bot583  21476.474817  17.286191\n",
       "1404  bot1919  19934.067892  16.034925\n",
       "1357  bot1125  16706.965581  13.416962\n",
       "1809   bot387   7947.687878   6.311062\n",
       "1589  bot1141   6650.017108   5.258336\n",
       "2099  bot1323   4788.884029   3.748506\n",
       "2429  bot1292   3741.640951   2.898938\n",
       "2941   bot321   3121.263258   2.395661"
      ]
     },
     "execution_count": 29,
     "metadata": {},
     "output_type": "execute_result"
    }
   ],
   "source": [
    "cumulative_score = [[v,sum(user_transition_score_merged[v].values())] for v in [k for k in list(user_transition_score_merged.keys())]]\n",
    "\n",
    "df_cumulative_score = pd.DataFrame(cumulative_score, columns=['user', 'surprisal'])\n",
    "\n",
    "avg = df_cumulative_score['surprisal'].mean()\n",
    "std = df_cumulative_score['surprisal'].std()\n",
    "df_cumulative_score['z'] = (df_cumulative_score['surprisal'] - avg) / std\n",
    "\n",
    "df_cumulative_score.loc[df_cumulative_score['z'] >= 2].sort_values(by=['surprisal'], ascending=False)"
   ]
  },
  {
   "cell_type": "code",
   "execution_count": 30,
   "metadata": {
    "collapsed": false
   },
   "outputs": [
    {
     "name": "stdout",
     "output_type": "stream",
     "text": [
      "2000\n"
     ]
    }
   ],
   "source": [
    "if random_seed:\n",
    "    random.seed(random_seed)\n",
    "\n",
    "unclassified_user_lists = random.sample(list(user_transition_score_merged.keys()), min(len(todays_user_lists), len(list(user_transition_score_merged.keys()))))\n",
    "print(len(unclassified_user_lists))"
   ]
  },
  {
   "cell_type": "code",
   "execution_count": 31,
   "metadata": {
    "collapsed": false
   },
   "outputs": [
    {
     "name": "stdout",
     "output_type": "stream",
     "text": [
      "CPU times: user 12.3 s, sys: 108 ms, total: 12.4 s\n",
      "Wall time: 13 s\n"
     ]
    }
   ],
   "source": [
    "%%time\n",
    "\n",
    "# Classifying observed users\n",
    "while len(unclassified_user_lists):\n",
    "    classify_users_in_list(unclassified_user_lists, behaviour_group_table, behaviour_average_table, user_transition_score_merged, maxlimit)"
   ]
  },
  {
   "cell_type": "code",
   "execution_count": 32,
   "metadata": {
    "collapsed": false
   },
   "outputs": [
    {
     "name": "stdout",
     "output_type": "stream",
     "text": [
      "0 136.389009451 714 {'merchant': 714}\n",
      "1 96.9940384217 187 {'buyer': 187}\n",
      "2 118.230477139 450 {'merchant': 450}\n",
      "3 149.949688445 222 {'buyer': 222}\n",
      "4 127.10514229 90 {'buyer': 90}\n",
      "5 89.4451852158 190 {'buyer': 190}\n",
      "6 39.2178685317 6 {'fraudster': 2, 'attacker': 4}\n",
      "7 12.9379546979 6 {'attacker': 2, 'buyer': 2, 'merchant': 1, 'fraudster': 1}\n",
      "8 25659.7555907 1 {'bot': 1}\n",
      "9 82.1666978664 103 {'buyer': 103}\n",
      "11 248.119312593 5 {'merchant': 5}\n",
      "12 191.149505808 4 {'spammer': 4}\n",
      "13 5.08746284125 2 {'buyer': 1, 'merchant': 1}\n",
      "14 27.7997489762 4 {'buyer': 4}\n",
      "15 107.003287772 4 {'attacker': 4}\n",
      "16 88.8359752753 355 {'fraudster': 2, 'buyer': 353}\n",
      "17 143.75722284 2 {'merchant': 2}\n",
      "18 168.933119571 1 {'spammer': 1}\n",
      "19 16.3011746394 1 {'buyer': 1}\n",
      "20 77.5364574116 1 {'buyer': 1}\n",
      "22 193.439501022 3 {'spammer': 3}\n",
      "23 153.70212355 3 {'fraudster': 1, 'buyer': 2}\n",
      "24 110.012629923 3 {'merchant': 3}\n",
      "25 10.9592775057 1 {'merchant': 1}\n",
      "26 3121.26325764 1 {'bot': 1}\n",
      "27 26.3228647522 1 {'fraudster': 1}\n",
      "28 57.0748136453 1 {'merchant': 1}\n",
      "30 216.428184269 2 {'buyer': 2}\n",
      "31 63.1502967645 1 {'buyer': 1}\n",
      "32 152.667107624 2 {'buyer': 2}\n",
      "33 4788.88402875 1 {'bot': 1}\n",
      "34 120.069112591 174 {'merchant': 174}\n",
      "35 181.943107272 1 {'buyer': 1}\n",
      "36 3741.64095064 1 {'bot': 1}\n",
      "37 76.8377706917 126 {'buyer': 126}\n",
      "38 41.8056938354 4 {'merchant': 4}\n",
      "39 51550.5640814 1 {'bot': 1}\n",
      "40 10.9592775057 3 {'merchant': 2, 'attacker': 1}\n",
      "41 182.112616571 1 {'buyer': 1}\n",
      "42 41.712306144 7 {'buyer': 7}\n",
      "43 133.858112215 2 {'buyer': 2}\n",
      "44 112.959484124 2 {'buyer': 2}\n",
      "45 21476.4748168 1 {'bot': 1}\n",
      "46 7947.68787846 1 {'bot': 1}\n",
      "47 16706.9655806 1 {'bot': 1}\n",
      "48 19934.0678919 1 {'bot': 1}\n",
      "49 143.370689194 1 {'merchant': 1}\n"
     ]
    }
   ],
   "source": [
    "# Cheat cell: list all groups with the distribution of their users, by real type\n",
    "\n",
    "for k in sorted(behaviour_group_table.keys()):\n",
    "    type_average = np.mean([sum(user_transition_score_merged[x].values()) for x in behaviour_group_table[k]])\n",
    "    print(k, type_average, len(behaviour_group_table[k]), cheat_lookup_all_users(behaviour_group_table[k]))"
   ]
  },
  {
   "cell_type": "markdown",
   "metadata": {},
   "source": [
    "## Graph the behaviour groups and the count of members"
   ]
  },
  {
   "cell_type": "code",
   "execution_count": 33,
   "metadata": {
    "collapsed": false
   },
   "outputs": [
    {
     "data": {
      "text/plain": [
       "<module 'matplotlib.pyplot' from '/Users/simon/anaconda/lib/python3.6/site-packages/matplotlib/pyplot.py'>"
      ]
     },
     "execution_count": 33,
     "metadata": {},
     "output_type": "execute_result"
    },
    {
     "data": {
      "image/png": "[encoded data removed]",
      "text/plain": [
       "<matplotlib.figure.Figure at 0x120da3860>"
      ]
     },
     "metadata": {},
     "output_type": "display_data"
    }
   ],
   "source": [
    "graph_user_distribution_by_behaviour_id(behaviour_group_table, behaviour_average_table, user_transition_score_merged)"
   ]
  },
  {
   "cell_type": "markdown",
   "metadata": {},
   "source": [
    "## Graph the distribution of by action, weighted by their surprisal score"
   ]
  },
  {
   "cell_type": "code",
   "execution_count": 34,
   "metadata": {
    "collapsed": false
   },
   "outputs": [
    {
     "data": {
      "text/plain": [
       "<module 'matplotlib.pyplot' from '/Users/simon/anaconda/lib/python3.6/site-packages/matplotlib/pyplot.py'>"
      ]
     },
     "execution_count": 34,
     "metadata": {},
     "output_type": "execute_result"
    },
    {
     "data": {
      "image/png": "[encoded data removed]",
      "text/plain": [
       "<matplotlib.figure.Figure at 0x11d7717b8>"
      ]
     },
     "metadata": {},
     "output_type": "display_data"
    }
   ],
   "source": [
    "graph_surprisal_distribution_by_action(behaviour_group_table, behaviour_average_table, user_transition_score_merged)"
   ]
  },
  {
   "cell_type": "markdown",
   "metadata": {},
   "source": [
    "## Investigate the behaviour groups to understand the behaviour of the members"
   ]
  },
  {
   "cell_type": "code",
   "execution_count": 35,
   "metadata": {
    "collapsed": false,
    "scrolled": false
   },
   "outputs": [
    {
     "data": {
      "text/html": [
       "<div>\n",
       "<table border=\"1\" class=\"dataframe\">\n",
       "  <thead>\n",
       "    <tr style=\"text-align: right;\">\n",
       "      <th></th>\n",
       "      <th>path</th>\n",
       "    </tr>\n",
       "    <tr>\n",
       "      <th>user</th>\n",
       "      <th>status</th>\n",
       "    </tr>\n",
       "  </thead>\n",
       "  <tbody>\n",
       "  </tbody>\n",
       "</table>\n",
       "</div>"
      ],
      "text/plain": [
       "Empty DataFrame\n",
       "Columns: []\n",
       "Index: []"
      ]
     },
     "execution_count": 35,
     "metadata": {},
     "output_type": "execute_result"
    }
   ],
   "source": [
    "behaviour_group_to_analyse = 35\n",
    "\n",
    "df_investigate = day2_data.loc[day2_data['user'].isin(behaviour_group_table[behaviour_group_to_analyse])]\n",
    "df_investigate.groupby(['user', 'status', 'path']).size().unstack(fill_value=0)"
   ]
  },
  {
   "cell_type": "code",
   "execution_count": 36,
   "metadata": {
    "collapsed": false
   },
   "outputs": [
    {
     "name": "stdout",
     "output_type": "stream",
     "text": [
      "Complete run time:  81.72801842197077\n"
     ]
    }
   ],
   "source": [
    "chrono_stop = timeit.default_timer()\n",
    "\n",
    "print('Complete run time: ', chrono_stop - chrono_start) \n"
   ]
  }
 ],
 "metadata": {
  "kernelspec": {
   "display_name": "Python 3",
   "language": "python",
   "name": "python3"
  },
  "language_info": {
   "codemirror_mode": {
    "name": "ipython",
    "version": 3
   },
   "file_extension": ".py",
   "mimetype": "text/x-python",
   "name": "python",
   "nbconvert_exporter": "python",
   "pygments_lexer": "ipython3",
   "version": "3.6.0"
  }
 },
 "nbformat": 4,
 "nbformat_minor": 2
}
